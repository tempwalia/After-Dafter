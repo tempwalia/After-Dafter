{
 "cells": [
  {
   "cell_type": "markdown",
   "id": "bf3f6305",
   "metadata": {},
   "source": [
    "# K-Means Clustering for Call-Center Calls\n",
    "**Goal:** cluster calls into segments, then identify which clusters have higher probability of RPC (Right Party Contact).\n",
    "This notebook demonstrates the full thought process: definition, formula, preprocessing, how to choose `K`, diagnostics, visualization, and interpretation.\n",
    "\n",
    "**Outline**\n",
    "1. Definition & formula\n",
    "2. Quick EDA\n",
    "3. Preprocessing and feature selection (important decisions)\n",
    "4. Standardization / PCA (optional)\n",
    "5. Choosing K: Elbow + Silhouette\n",
    "6. Fit K-Means, analyze clusters\n",
    "7. Add `cluster` to dataset and compute RPC rate per cluster\n",
    "8. Conclusion & next steps (prepare for XGBoost)\n"
   ]
  },
  {
   "cell_type": "markdown",
   "id": "713ca551",
   "metadata": {},
   "source": [
    "## 1) What is K-Means? (definition + formula)\n",
    "K-Means is an unsupervised algorithm that partitions `n` observations into `K` clusters by minimizing *within-cluster* sum of squares (WCSS).\n",
    "\n",
    "Objective: \n",
    "\n",
    "\\[\n",
    "\\min_{C_1,\\dots,C_K} \\sum_{k=1}^{K} \\sum_{x_i \\in C_k} \\|x_i - \\mu_k\\|^2\n",
    "\\]\n",
    "where \\(\\mu_k\\) is the centroid (mean) of cluster \\(C_k\\).\n",
    "\n",
    "**Important notes**\n",
    "- K-Means assumes roughly spherical clusters and uses Euclidean distance.\n",
    "- Sensitive to feature scaling — **standardize numeric features** before clustering.\n",
    "- Initialization sensitive: `kmeans++` is recommended.\n",
    "- It does not handle categorical data natively — convert or encode appropriately.\n"
   ]
  },
  {
   "cell_type": "markdown",
   "id": "fe33532f",
   "metadata": {},
   "source": [
    "## 2) Things to be mindful of (practical checklist)\n",
    "- **Feature engineering**: remove IDs, avoid leakage (don’t use `rpc_prob` if present), consider aggregations (e.g., agent frequency).\n",
    "- **Collinearity**: highly correlated features can distort centroids; consider PCA or drop redundant features.\n",
    "- **Dimensionality**: K-Means degrades in very high dimensions (curse of dimensionality). Use PCA to reduce dimensionality if needed.\n",
    "- **Scaling**: always scale numeric features (StandardScaler).\n",
    "- **K selection**: use Elbow + Silhouette; validate cluster business meaning.\n",
    "- **Stability**: try multiple `n_init` and random seeds to ensure stable clusters.\n"
   ]
  },
  {
   "cell_type": "code",
   "execution_count": 112,
   "id": "11c65823",
   "metadata": {},
   "outputs": [
    {
     "name": "stdout",
     "output_type": "stream",
     "text": [
      "Loaded dataset with shape: (20000, 27)\n"
     ]
    },
    {
     "data": {
      "application/vnd.microsoft.datawrangler.viewer.v0+json": {
       "columns": [
        {
         "name": "index",
         "rawType": "int64",
         "type": "integer"
        },
        {
         "name": "call_id",
         "rawType": "int64",
         "type": "integer"
        },
        {
         "name": "customer_id",
         "rawType": "int64",
         "type": "integer"
        },
        {
         "name": "agent_id",
         "rawType": "int64",
         "type": "integer"
        },
        {
         "name": "agent_team",
         "rawType": "object",
         "type": "string"
        },
        {
         "name": "agent_skill",
         "rawType": "object",
         "type": "string"
        },
        {
         "name": "channel",
         "rawType": "object",
         "type": "string"
        },
        {
         "name": "queue",
         "rawType": "object",
         "type": "string"
        },
        {
         "name": "call_start",
         "rawType": "object",
         "type": "string"
        },
        {
         "name": "call_end",
         "rawType": "object",
         "type": "string"
        },
        {
         "name": "wait_time_sec",
         "rawType": "int64",
         "type": "integer"
        },
        {
         "name": "handle_time_sec",
         "rawType": "int64",
         "type": "integer"
        },
        {
         "name": "hold_time_sec",
         "rawType": "int64",
         "type": "integer"
        },
        {
         "name": "transfers",
         "rawType": "int64",
         "type": "integer"
        },
        {
         "name": "outcome",
         "rawType": "object",
         "type": "string"
        },
        {
         "name": "satisfaction",
         "rawType": "int64",
         "type": "integer"
        },
        {
         "name": "segment",
         "rawType": "object",
         "type": "string"
        },
        {
         "name": "rpc_label",
         "rawType": "int64",
         "type": "integer"
        },
        {
         "name": "cost_usd",
         "rawType": "float64",
         "type": "float"
        },
        {
         "name": "revenue_usd",
         "rawType": "float64",
         "type": "float"
        },
        {
         "name": "contactability_score",
         "rawType": "float64",
         "type": "float"
        },
        {
         "name": "account_age_days",
         "rawType": "int64",
         "type": "integer"
        },
        {
         "name": "prior_calls_30d",
         "rawType": "int64",
         "type": "integer"
        },
        {
         "name": "duration_sec",
         "rawType": "int64",
         "type": "integer"
        },
        {
         "name": "date",
         "rawType": "object",
         "type": "string"
        },
        {
         "name": "day_of_week",
         "rawType": "object",
         "type": "string"
        },
        {
         "name": "hour",
         "rawType": "int64",
         "type": "integer"
        },
        {
         "name": "week",
         "rawType": "int64",
         "type": "integer"
        }
       ],
       "ref": "addf034b-879c-401d-8f79-566e57866c35",
       "rows": [
        [
         "0",
         "8168",
         "102402",
         "549",
         "South",
         "Billing",
         "phone",
         "Billing",
         "2025-01-01 00:55:43",
         "2025-01-01 00:57:14",
         "24",
         "67",
         "0",
         "0",
         "resolved",
         "4",
         "B",
         "0",
         "1.34",
         "0.0",
         "0.5142",
         "1658",
         "1",
         "91",
         "2025-01-01",
         "Wednesday",
         "0",
         "1"
        ],
        [
         "1",
         "10438",
         "106097",
         "533",
         "West",
         "Billing",
         "phone",
         "Sales",
         "2025-01-01 01:02:44",
         "2025-01-01 01:04:47",
         "26",
         "97",
         "0",
         "0",
         "callback",
         "3",
         "B",
         "0",
         "1.62",
         "26.51",
         "0.0448",
         "1104",
         "2",
         "123",
         "2025-01-01",
         "Wednesday",
         "1",
         "1"
        ],
        [
         "2",
         "13866",
         "106222",
         "549",
         "South",
         "Billing",
         "phone",
         "Retention",
         "2025-01-01 01:36:04",
         "2025-01-01 01:37:16",
         "20",
         "52",
         "0",
         "1",
         "abandoned",
         "3",
         "C",
         "0",
         "1.44",
         "0.0",
         "0.0695",
         "720",
         "0",
         "72",
         "2025-01-01",
         "Wednesday",
         "1",
         "1"
        ],
        [
         "3",
         "19658",
         "105162",
         "558",
         "North",
         "Sales",
         "phone",
         "Technical Support",
         "2025-01-01 03:46:42",
         "2025-01-01 03:49:49",
         "20",
         "167",
         "0",
         "0",
         "callback",
         "5",
         "B",
         "0",
         "5.01",
         "0.0",
         "0.0447",
         "101",
         "0",
         "187",
         "2025-01-01",
         "Wednesday",
         "3",
         "1"
        ],
        [
         "4",
         "1889",
         "102632",
         "517",
         "North",
         "Sales",
         "email",
         "Billing",
         "2025-01-01 04:24:13",
         "2025-01-01 04:26:25",
         "32",
         "100",
         "0",
         "0",
         "resolved",
         "3",
         "A",
         "0",
         "2.0",
         "0.0",
         "0.0919",
         "1788",
         "1",
         "132",
         "2025-01-01",
         "Wednesday",
         "4",
         "1"
        ]
       ],
       "shape": {
        "columns": 27,
        "rows": 5
       }
      },
      "text/html": [
       "<div>\n",
       "<style scoped>\n",
       "    .dataframe tbody tr th:only-of-type {\n",
       "        vertical-align: middle;\n",
       "    }\n",
       "\n",
       "    .dataframe tbody tr th {\n",
       "        vertical-align: top;\n",
       "    }\n",
       "\n",
       "    .dataframe thead th {\n",
       "        text-align: right;\n",
       "    }\n",
       "</style>\n",
       "<table border=\"1\" class=\"dataframe\">\n",
       "  <thead>\n",
       "    <tr style=\"text-align: right;\">\n",
       "      <th></th>\n",
       "      <th>call_id</th>\n",
       "      <th>customer_id</th>\n",
       "      <th>agent_id</th>\n",
       "      <th>agent_team</th>\n",
       "      <th>agent_skill</th>\n",
       "      <th>channel</th>\n",
       "      <th>queue</th>\n",
       "      <th>call_start</th>\n",
       "      <th>call_end</th>\n",
       "      <th>wait_time_sec</th>\n",
       "      <th>...</th>\n",
       "      <th>cost_usd</th>\n",
       "      <th>revenue_usd</th>\n",
       "      <th>contactability_score</th>\n",
       "      <th>account_age_days</th>\n",
       "      <th>prior_calls_30d</th>\n",
       "      <th>duration_sec</th>\n",
       "      <th>date</th>\n",
       "      <th>day_of_week</th>\n",
       "      <th>hour</th>\n",
       "      <th>week</th>\n",
       "    </tr>\n",
       "  </thead>\n",
       "  <tbody>\n",
       "    <tr>\n",
       "      <th>0</th>\n",
       "      <td>8168</td>\n",
       "      <td>102402</td>\n",
       "      <td>549</td>\n",
       "      <td>South</td>\n",
       "      <td>Billing</td>\n",
       "      <td>phone</td>\n",
       "      <td>Billing</td>\n",
       "      <td>2025-01-01 00:55:43</td>\n",
       "      <td>2025-01-01 00:57:14</td>\n",
       "      <td>24</td>\n",
       "      <td>...</td>\n",
       "      <td>1.34</td>\n",
       "      <td>0.00</td>\n",
       "      <td>0.5142</td>\n",
       "      <td>1658</td>\n",
       "      <td>1</td>\n",
       "      <td>91</td>\n",
       "      <td>2025-01-01</td>\n",
       "      <td>Wednesday</td>\n",
       "      <td>0</td>\n",
       "      <td>1</td>\n",
       "    </tr>\n",
       "    <tr>\n",
       "      <th>1</th>\n",
       "      <td>10438</td>\n",
       "      <td>106097</td>\n",
       "      <td>533</td>\n",
       "      <td>West</td>\n",
       "      <td>Billing</td>\n",
       "      <td>phone</td>\n",
       "      <td>Sales</td>\n",
       "      <td>2025-01-01 01:02:44</td>\n",
       "      <td>2025-01-01 01:04:47</td>\n",
       "      <td>26</td>\n",
       "      <td>...</td>\n",
       "      <td>1.62</td>\n",
       "      <td>26.51</td>\n",
       "      <td>0.0448</td>\n",
       "      <td>1104</td>\n",
       "      <td>2</td>\n",
       "      <td>123</td>\n",
       "      <td>2025-01-01</td>\n",
       "      <td>Wednesday</td>\n",
       "      <td>1</td>\n",
       "      <td>1</td>\n",
       "    </tr>\n",
       "    <tr>\n",
       "      <th>2</th>\n",
       "      <td>13866</td>\n",
       "      <td>106222</td>\n",
       "      <td>549</td>\n",
       "      <td>South</td>\n",
       "      <td>Billing</td>\n",
       "      <td>phone</td>\n",
       "      <td>Retention</td>\n",
       "      <td>2025-01-01 01:36:04</td>\n",
       "      <td>2025-01-01 01:37:16</td>\n",
       "      <td>20</td>\n",
       "      <td>...</td>\n",
       "      <td>1.44</td>\n",
       "      <td>0.00</td>\n",
       "      <td>0.0695</td>\n",
       "      <td>720</td>\n",
       "      <td>0</td>\n",
       "      <td>72</td>\n",
       "      <td>2025-01-01</td>\n",
       "      <td>Wednesday</td>\n",
       "      <td>1</td>\n",
       "      <td>1</td>\n",
       "    </tr>\n",
       "    <tr>\n",
       "      <th>3</th>\n",
       "      <td>19658</td>\n",
       "      <td>105162</td>\n",
       "      <td>558</td>\n",
       "      <td>North</td>\n",
       "      <td>Sales</td>\n",
       "      <td>phone</td>\n",
       "      <td>Technical Support</td>\n",
       "      <td>2025-01-01 03:46:42</td>\n",
       "      <td>2025-01-01 03:49:49</td>\n",
       "      <td>20</td>\n",
       "      <td>...</td>\n",
       "      <td>5.01</td>\n",
       "      <td>0.00</td>\n",
       "      <td>0.0447</td>\n",
       "      <td>101</td>\n",
       "      <td>0</td>\n",
       "      <td>187</td>\n",
       "      <td>2025-01-01</td>\n",
       "      <td>Wednesday</td>\n",
       "      <td>3</td>\n",
       "      <td>1</td>\n",
       "    </tr>\n",
       "    <tr>\n",
       "      <th>4</th>\n",
       "      <td>1889</td>\n",
       "      <td>102632</td>\n",
       "      <td>517</td>\n",
       "      <td>North</td>\n",
       "      <td>Sales</td>\n",
       "      <td>email</td>\n",
       "      <td>Billing</td>\n",
       "      <td>2025-01-01 04:24:13</td>\n",
       "      <td>2025-01-01 04:26:25</td>\n",
       "      <td>32</td>\n",
       "      <td>...</td>\n",
       "      <td>2.00</td>\n",
       "      <td>0.00</td>\n",
       "      <td>0.0919</td>\n",
       "      <td>1788</td>\n",
       "      <td>1</td>\n",
       "      <td>132</td>\n",
       "      <td>2025-01-01</td>\n",
       "      <td>Wednesday</td>\n",
       "      <td>4</td>\n",
       "      <td>1</td>\n",
       "    </tr>\n",
       "  </tbody>\n",
       "</table>\n",
       "<p>5 rows × 27 columns</p>\n",
       "</div>"
      ],
      "text/plain": [
       "   call_id  customer_id  agent_id agent_team agent_skill channel  \\\n",
       "0     8168       102402       549      South     Billing   phone   \n",
       "1    10438       106097       533       West     Billing   phone   \n",
       "2    13866       106222       549      South     Billing   phone   \n",
       "3    19658       105162       558      North       Sales   phone   \n",
       "4     1889       102632       517      North       Sales   email   \n",
       "\n",
       "               queue           call_start             call_end  wait_time_sec  \\\n",
       "0            Billing  2025-01-01 00:55:43  2025-01-01 00:57:14             24   \n",
       "1              Sales  2025-01-01 01:02:44  2025-01-01 01:04:47             26   \n",
       "2          Retention  2025-01-01 01:36:04  2025-01-01 01:37:16             20   \n",
       "3  Technical Support  2025-01-01 03:46:42  2025-01-01 03:49:49             20   \n",
       "4            Billing  2025-01-01 04:24:13  2025-01-01 04:26:25             32   \n",
       "\n",
       "   ...  cost_usd  revenue_usd  contactability_score account_age_days  \\\n",
       "0  ...      1.34         0.00                0.5142             1658   \n",
       "1  ...      1.62        26.51                0.0448             1104   \n",
       "2  ...      1.44         0.00                0.0695              720   \n",
       "3  ...      5.01         0.00                0.0447              101   \n",
       "4  ...      2.00         0.00                0.0919             1788   \n",
       "\n",
       "   prior_calls_30d duration_sec        date  day_of_week  hour  week  \n",
       "0                1           91  2025-01-01    Wednesday     0     1  \n",
       "1                2          123  2025-01-01    Wednesday     1     1  \n",
       "2                0           72  2025-01-01    Wednesday     1     1  \n",
       "3                0          187  2025-01-01    Wednesday     3     1  \n",
       "4                1          132  2025-01-01    Wednesday     4     1  \n",
       "\n",
       "[5 rows x 27 columns]"
      ]
     },
     "execution_count": 112,
     "metadata": {},
     "output_type": "execute_result"
    }
   ],
   "source": [
    "# 3) Imports and load data\n",
    "import warnings\n",
    "warnings.filterwarnings(\"ignore\")\n",
    "\n",
    "import os\n",
    "import numpy as np\n",
    "import pandas as pd\n",
    "import matplotlib.pyplot as plt\n",
    "import seaborn as sns\n",
    "from sklearn.preprocessing import StandardScaler\n",
    "from sklearn.decomposition import PCA\n",
    "from sklearn.cluster import KMeans\n",
    "from sklearn.metrics import silhouette_score\n",
    "from sklearn.impute import SimpleImputer\n",
    "\n",
    "# Set plotting aesthetics\n",
    "sns.set(style=\"whitegrid\", palette=\"muted\", context=\"notebook\")\n",
    "plt.rcParams['figure.figsize'] = (8, 5)\n",
    "\n",
    "# Path to your dataset (update if needed)\n",
    "data_path = '../data/synthetic_callcenter_accounts.csv' \n",
    "\n",
    "# Load\n",
    "df = pd.read_csv(data_path)\n",
    "print(\"Loaded dataset with shape:\", df.shape)\n",
    "df.head()\n"
   ]
  },
  {
   "cell_type": "markdown",
   "id": "f40a3acc",
   "metadata": {},
   "source": [
    "### Quick data preview / target\n",
    "We expect a binary column `rpc_label` or `rpc`. If neither exists, we can't evaluate cluster → RPC relationship yet.\n"
   ]
  },
  {
   "cell_type": "code",
   "execution_count": 113,
   "id": "9fc364d8",
   "metadata": {},
   "outputs": [
    {
     "name": "stdout",
     "output_type": "stream",
     "text": [
      "Target column: rpc_label\n",
      "\n",
      "Missing values per column:\n",
      "call_id                 0\n",
      "customer_id             0\n",
      "agent_id                0\n",
      "agent_team              0\n",
      "agent_skill             0\n",
      "channel                 0\n",
      "queue                   0\n",
      "call_start              0\n",
      "call_end                0\n",
      "wait_time_sec           0\n",
      "handle_time_sec         0\n",
      "hold_time_sec           0\n",
      "transfers               0\n",
      "outcome                 0\n",
      "satisfaction            0\n",
      "segment                 0\n",
      "rpc_label               0\n",
      "cost_usd                0\n",
      "revenue_usd             0\n",
      "contactability_score    0\n",
      "dtype: int64\n"
     ]
    }
   ],
   "source": [
    "# 4) Quick checks: target and missingness\n",
    "target_col = None\n",
    "for c in ['rpc_label', 'rpc', 'RPC', 'rpc_label']:\n",
    "    if c in df.columns:\n",
    "        target_col = c\n",
    "        break\n",
    "\n",
    "print(\"Target column:\", target_col)\n",
    "print(\"\\nMissing values per column:\")\n",
    "print(df.isna().sum().sort_values(ascending=False).head(20))\n"
   ]
  },
  {
   "cell_type": "markdown",
   "id": "93872412",
   "metadata": {},
   "source": [
    "## 5) Preprocessing decisions (explain in notebook)\n",
    "- Keep numeric features that describe accounts (call_duration, num_attempts, fare-like features, account age, etc.).  \n",
    "- Encode `agent_id` as frequency (high-cardinality), not one-hot.  \n",
    "- Remove identifiers and any column that leaks target information (e.g., `rpc_prob`).  \n",
    "- Impute numeric missing values with median (robust).  \n",
    "- For categorical features with low cardinality we could one-hot encode; for the clustering step we will prefer numeric-only clustering to keep Euclidean metric meaningful.\n"
   ]
  },
  {
   "cell_type": "code",
   "execution_count": 114,
   "id": "d50259b0",
   "metadata": {},
   "outputs": [
    {
     "name": "stdout",
     "output_type": "stream",
     "text": [
      "Numeric features used for clustering: ['agent_id', 'wait_time_sec', 'handle_time_sec', 'hold_time_sec', 'transfers', 'satisfaction', 'cost_usd', 'revenue_usd', 'contactability_score', 'account_age_days', 'prior_calls_30d', 'duration_sec', 'hour', 'week', 'agent_id_freq']\n",
      " ['agent_id', 'wait_time_sec', 'handle_time_sec', 'hold_time_sec', 'transfers', 'satisfaction', 'cost_usd', 'revenue_usd', 'contactability_score', 'account_age_days', 'prior_calls_30d', 'duration_sec', 'hour', 'week', 'agent_id_freq']\n"
     ]
    },
    {
     "data": {
      "text/plain": [
       "(20000, 15)"
      ]
     },
     "execution_count": 114,
     "metadata": {},
     "output_type": "execute_result"
    }
   ],
   "source": [
    "# 6) Basic preprocessing function (clean & prepare numeric matrix for clustering)\n",
    "def prepare_for_clustering(df, target_col=None, drop_cols=None, agent_col='agent_id'):\n",
    "    df = df.copy()\n",
    "    # drop obvious identifiers and user-specified drop columns\n",
    "    if drop_cols is None:\n",
    "        drop_cols = []\n",
    "    possible_ids = [c for c in df.columns if c.lower().endswith('id') and c!=agent_col]\n",
    "    to_drop = set(possible_ids + drop_cols)\n",
    "    # drop any rpc_prob or other leakage columns\n",
    "    for c in df.columns:\n",
    "        if 'rpc_prob' in c.lower() or 'leak' in c.lower():\n",
    "            to_drop.add(c)\n",
    "    df.drop(columns=[c for c in to_drop if c in df.columns], inplace=True, errors='ignore')\n",
    "    \n",
    "    # frequency encode agent_id\n",
    "    if agent_col in df.columns:\n",
    "        freq = df[agent_col].value_counts(normalize=True)\n",
    "        df['agent_id_freq'] = df[agent_col].map(freq).fillna(0.0)\n",
    "    \n",
    "    # select numeric columns\n",
    "    num_df = df.select_dtypes(include=[np.number]).copy()\n",
    "    # remove target if present\n",
    "    if target_col in num_df.columns:\n",
    "        num_df.drop(columns=[target_col], inplace=True)\n",
    "    # Impute numeric NA with median\n",
    "    imputer = SimpleImputer(strategy='median')\n",
    "    num_arr = imputer.fit_transform(num_df)\n",
    "    num_df = pd.DataFrame(num_arr, columns=num_df.columns, index=num_df.index)\n",
    "    return df, num_df, imputer\n",
    "\n",
    "# Apply\n",
    "df_raw = df.copy()\n",
    "df_clean, num_df, imputer = prepare_for_clustering(df_raw, target_col=target_col, drop_cols=[])\n",
    "print(\"Numeric features used for clustering:\", num_df.columns.tolist())\n",
    "num_df.shape\n"
   ]
  },
  {
   "cell_type": "markdown",
   "id": "61d6bcfa",
   "metadata": {},
   "source": [
    "## 6.1 Check collinearity \n",
    "If many variables are highly correlated, we might remove some or use PCA.\n"
   ]
  },
  {
   "cell_type": "code",
   "execution_count": 115,
   "id": "9df0aaf7",
   "metadata": {},
   "outputs": [
    {
     "data": {
      "application/vnd.microsoft.datawrangler.viewer.v0+json": {
       "columns": [
        {
         "name": "(None, None)",
         "rawType": "object",
         "type": "unknown"
        },
        {
         "name": "0",
         "rawType": "float64",
         "type": "float"
        }
       ],
       "ref": "f69563cd-8d30-49d9-ae8a-713c030766cd",
       "rows": [
        [
         "('handle_time_sec', 'cost_usd')",
         "0.9280828854474794"
        ],
        [
         "('handle_time_sec', 'duration_sec')",
         "0.8877438281909671"
        ],
        [
         "('cost_usd', 'duration_sec')",
         "0.847738572976621"
        ],
        [
         "('wait_time_sec', 'hold_time_sec')",
         "0.52761313596672"
        ],
        [
         "('wait_time_sec', 'duration_sec')",
         "0.4664748665260496"
        ],
        [
         "('hold_time_sec', 'duration_sec')",
         "0.30237519662854095"
        ],
        [
         "('contactability_score', 'prior_calls_30d')",
         "0.2699060141591312"
        ],
        [
         "('cost_usd', 'revenue_usd')",
         "0.17724300316015307"
        ],
        [
         "('wait_time_sec', 'revenue_usd')",
         "0.10740133852645578"
        ],
        [
         "('wait_time_sec', 'satisfaction')",
         "0.09678676280074493"
        ]
       ],
       "shape": {
        "columns": 1,
        "rows": 10
       }
      },
      "text/plain": [
       "handle_time_sec       cost_usd           0.928083\n",
       "                      duration_sec       0.887744\n",
       "cost_usd              duration_sec       0.847739\n",
       "wait_time_sec         hold_time_sec      0.527613\n",
       "                      duration_sec       0.466475\n",
       "hold_time_sec         duration_sec       0.302375\n",
       "contactability_score  prior_calls_30d    0.269906\n",
       "cost_usd              revenue_usd        0.177243\n",
       "wait_time_sec         revenue_usd        0.107401\n",
       "                      satisfaction       0.096787\n",
       "dtype: float64"
      ]
     },
     "execution_count": 115,
     "metadata": {},
     "output_type": "execute_result"
    }
   ],
   "source": [
    "# correlation matrix (sample if very large)\n",
    "corr = num_df.corr().abs()\n",
    "# show pairs with high correlation\n",
    "high_corr_pairs = (\n",
    "    corr.where(np.triu(np.ones(corr.shape), k=1).astype(bool))\n",
    "    .stack()\n",
    "    .sort_values(ascending=False)\n",
    ")\n",
    "high_corr_pairs.head(10)\n"
   ]
  },
  {
   "cell_type": "markdown",
   "id": "9b985e13",
   "metadata": {},
   "source": [
    "**If you see very high correlation (>0.9) among predictors**, consider:\n",
    "- dropping one of the pair, or\n",
    "- applying PCA to reduce dimension and remove redundancy (we show PCA option below).\n"
   ]
  },
  {
   "cell_type": "code",
   "execution_count": 116,
   "id": "5c41430d",
   "metadata": {},
   "outputs": [
    {
     "name": "stdout",
     "output_type": "stream",
     "text": [
      "Scaled shape: (20000, 15)\n"
     ]
    }
   ],
   "source": [
    "# 7) Scaling\n",
    "scaler = StandardScaler()\n",
    "X_scaled = scaler.fit_transform(num_df)\n",
    "print(\"Scaled shape:\", X_scaled.shape)\n"
   ]
  },
  {
   "cell_type": "markdown",
   "id": "8540070f",
   "metadata": {},
   "source": [
    "## 8) Do we need PCA?\n",
    "- If `num_features` is modest (< 10–20), PCA may not be necessary.\n",
    "- If many features or strong multicollinearity, PCA reduces dimensionality and often helps K-Means.\n",
    "\n",
    "We'll compute explained variance and optionally reduce to 2–6 components for clustering diagnostics.\n"
   ]
  },
  {
   "cell_type": "code",
   "execution_count": 117,
   "id": "8a71062b",
   "metadata": {},
   "outputs": [
    {
     "data": {
      "text/plain": [
       "array([0.19409108, 0.29875462, 0.38344726, 0.45333229, 0.52238723,\n",
       "       0.59030578, 0.65688695, 0.72292609, 0.78820273, 0.85149792])"
      ]
     },
     "execution_count": 117,
     "metadata": {},
     "output_type": "execute_result"
    }
   ],
   "source": [
    "# PCA exploration\n",
    "n_features = X_scaled.shape[1]\n",
    "pca = PCA(n_components=min(n_features, 10))\n",
    "pca.fit(X_scaled)\n",
    "explained = pca.explained_variance_ratio_.cumsum()\n",
    "explained\n"
   ]
  },
  {
   "cell_type": "markdown",
   "id": "a085bf6f",
   "metadata": {},
   "source": [
    "Interpretation: choose the number of components that capture ~80–95% variance if you want dimensionality reduction.\n",
    "If we reduce to PCA for clustering, we'll cluster on the PCA-transformed data.\n"
   ]
  },
  {
   "cell_type": "code",
   "execution_count": 118,
   "id": "c342f564",
   "metadata": {},
   "outputs": [
    {
     "name": "stdout",
     "output_type": "stream",
     "text": [
      "Using scaled numeric features for clustering, shape: (20000, 15)\n"
     ]
    }
   ],
   "source": [
    "# Optional: choose to use PCA-transformed space for KMeans (toggle)\n",
    "USE_PCA = False   # set True if you want to cluster on PCA components\n",
    "PCA_N_COMPONENTS = 5\n",
    "\n",
    "if USE_PCA:\n",
    "    pca_full = PCA(n_components=PCA_N_COMPONENTS, random_state=42)\n",
    "    X_for_clustering = pca_full.fit_transform(X_scaled)\n",
    "    print(f\"Using PCA: {PCA_N_COMPONENTS} components, shape: {X_for_clustering.shape}\")\n",
    "else:\n",
    "    X_for_clustering = X_scaled\n",
    "    print(\"Using scaled numeric features for clustering, shape:\", X_for_clustering.shape)\n"
   ]
  },
  {
   "cell_type": "markdown",
   "id": "bb61cd6a",
   "metadata": {},
   "source": [
    "**How to read these plots**\n",
    "- Elbow: find the 'knee' where inertia reduction slows — trade-off between complexity and compact clusters.\n",
    "- Silhouette: higher is better (max 1). Values near 0 indicate overlapping clusters; negative means misassignment.\n",
    "Choose a K that balances the elbow and a reasonably high silhouette.\n"
   ]
  },
  {
   "cell_type": "code",
   "execution_count": 119,
   "id": "a62ea12c",
   "metadata": {},
   "outputs": [
    {
     "data": {
      "application/vnd.microsoft.datawrangler.viewer.v0+json": {
       "columns": [
        {
         "name": "cluster",
         "rawType": "int64",
         "type": "integer"
        },
        {
         "name": "agent_id",
         "rawType": "float64",
         "type": "float"
        },
        {
         "name": "wait_time_sec",
         "rawType": "float64",
         "type": "float"
        },
        {
         "name": "handle_time_sec",
         "rawType": "float64",
         "type": "float"
        },
        {
         "name": "hold_time_sec",
         "rawType": "float64",
         "type": "float"
        },
        {
         "name": "transfers",
         "rawType": "float64",
         "type": "float"
        },
        {
         "name": "satisfaction",
         "rawType": "float64",
         "type": "float"
        },
        {
         "name": "cost_usd",
         "rawType": "float64",
         "type": "float"
        },
        {
         "name": "revenue_usd",
         "rawType": "float64",
         "type": "float"
        },
        {
         "name": "contactability_score",
         "rawType": "float64",
         "type": "float"
        },
        {
         "name": "account_age_days",
         "rawType": "float64",
         "type": "float"
        },
        {
         "name": "prior_calls_30d",
         "rawType": "float64",
         "type": "float"
        },
        {
         "name": "duration_sec",
         "rawType": "float64",
         "type": "float"
        },
        {
         "name": "hour",
         "rawType": "float64",
         "type": "float"
        },
        {
         "name": "week",
         "rawType": "float64",
         "type": "float"
        },
        {
         "name": "agent_id_freq",
         "rawType": "float64",
         "type": "float"
        }
       ],
       "ref": "0dc38dda-eb91-42fe-bc51-ac3c589282ac",
       "rows": [
        [
         "0",
         "0.00707401931050609",
         "-0.34663130241312445",
         "-0.40328609246059566",
         "-0.3114289310426707",
         "-0.04412798468421808",
         "0.03786849607756467",
         "-0.4154089978682066",
         "0.08770653230088017",
         "0.007607221277766512",
         "0.007035343336782644",
         "-0.0010272114600309184",
         "-0.5235670186270132",
         "0.0018884455624899369",
         "-0.00778317345542211",
         "0.006394621829786459"
        ],
        [
         "1",
         "-0.023814147322066596",
         "-0.0643291313091567",
         "1.5344622704981592",
         "-0.19684543842474542",
         "0.14439393796509795",
         "-0.012867662814221213",
         "1.517274577004375",
         "-0.17454580069434197",
         "-0.036718258551946",
         "-0.005999324354679409",
         "-0.01620883044370305",
         "1.311784360189345",
         "-0.03543490465365293",
         "0.033388512585721876",
         "0.005832389231542108"
        ],
        [
         "2",
         "-0.0014219688042200937",
         "1.752367934089763",
         "-0.16060245760390351",
         "1.764439084549262",
         "0.014555027008436885",
         "-0.16425084001452755",
         "-0.07890093823560405",
         "-0.18260260759401736",
         "0.013653324874671361",
         "-0.025583179540674246",
         "0.027084524161960867",
         "0.7212880226323073",
         "0.039359780015663856",
         "-0.008257786275043756",
         "-0.03867657662849863"
        ]
       ],
       "shape": {
        "columns": 15,
        "rows": 3
       }
      },
      "text/html": [
       "<div>\n",
       "<style scoped>\n",
       "    .dataframe tbody tr th:only-of-type {\n",
       "        vertical-align: middle;\n",
       "    }\n",
       "\n",
       "    .dataframe tbody tr th {\n",
       "        vertical-align: top;\n",
       "    }\n",
       "\n",
       "    .dataframe thead th {\n",
       "        text-align: right;\n",
       "    }\n",
       "</style>\n",
       "<table border=\"1\" class=\"dataframe\">\n",
       "  <thead>\n",
       "    <tr style=\"text-align: right;\">\n",
       "      <th></th>\n",
       "      <th>agent_id</th>\n",
       "      <th>wait_time_sec</th>\n",
       "      <th>handle_time_sec</th>\n",
       "      <th>hold_time_sec</th>\n",
       "      <th>transfers</th>\n",
       "      <th>satisfaction</th>\n",
       "      <th>cost_usd</th>\n",
       "      <th>revenue_usd</th>\n",
       "      <th>contactability_score</th>\n",
       "      <th>account_age_days</th>\n",
       "      <th>prior_calls_30d</th>\n",
       "      <th>duration_sec</th>\n",
       "      <th>hour</th>\n",
       "      <th>week</th>\n",
       "      <th>agent_id_freq</th>\n",
       "    </tr>\n",
       "    <tr>\n",
       "      <th>cluster</th>\n",
       "      <th></th>\n",
       "      <th></th>\n",
       "      <th></th>\n",
       "      <th></th>\n",
       "      <th></th>\n",
       "      <th></th>\n",
       "      <th></th>\n",
       "      <th></th>\n",
       "      <th></th>\n",
       "      <th></th>\n",
       "      <th></th>\n",
       "      <th></th>\n",
       "      <th></th>\n",
       "      <th></th>\n",
       "      <th></th>\n",
       "    </tr>\n",
       "  </thead>\n",
       "  <tbody>\n",
       "    <tr>\n",
       "      <th>0</th>\n",
       "      <td>0.007074</td>\n",
       "      <td>-0.346631</td>\n",
       "      <td>-0.403286</td>\n",
       "      <td>-0.311429</td>\n",
       "      <td>-0.044128</td>\n",
       "      <td>0.037868</td>\n",
       "      <td>-0.415409</td>\n",
       "      <td>0.087707</td>\n",
       "      <td>0.007607</td>\n",
       "      <td>0.007035</td>\n",
       "      <td>-0.001027</td>\n",
       "      <td>-0.523567</td>\n",
       "      <td>0.001888</td>\n",
       "      <td>-0.007783</td>\n",
       "      <td>0.006395</td>\n",
       "    </tr>\n",
       "    <tr>\n",
       "      <th>1</th>\n",
       "      <td>-0.023814</td>\n",
       "      <td>-0.064329</td>\n",
       "      <td>1.534462</td>\n",
       "      <td>-0.196845</td>\n",
       "      <td>0.144394</td>\n",
       "      <td>-0.012868</td>\n",
       "      <td>1.517275</td>\n",
       "      <td>-0.174546</td>\n",
       "      <td>-0.036718</td>\n",
       "      <td>-0.005999</td>\n",
       "      <td>-0.016209</td>\n",
       "      <td>1.311784</td>\n",
       "      <td>-0.035435</td>\n",
       "      <td>0.033389</td>\n",
       "      <td>0.005832</td>\n",
       "    </tr>\n",
       "    <tr>\n",
       "      <th>2</th>\n",
       "      <td>-0.001422</td>\n",
       "      <td>1.752368</td>\n",
       "      <td>-0.160602</td>\n",
       "      <td>1.764439</td>\n",
       "      <td>0.014555</td>\n",
       "      <td>-0.164251</td>\n",
       "      <td>-0.078901</td>\n",
       "      <td>-0.182603</td>\n",
       "      <td>0.013653</td>\n",
       "      <td>-0.025583</td>\n",
       "      <td>0.027085</td>\n",
       "      <td>0.721288</td>\n",
       "      <td>0.039360</td>\n",
       "      <td>-0.008258</td>\n",
       "      <td>-0.038677</td>\n",
       "    </tr>\n",
       "  </tbody>\n",
       "</table>\n",
       "</div>"
      ],
      "text/plain": [
       "         agent_id  wait_time_sec  handle_time_sec  hold_time_sec  transfers  \\\n",
       "cluster                                                                       \n",
       "0        0.007074      -0.346631        -0.403286      -0.311429  -0.044128   \n",
       "1       -0.023814      -0.064329         1.534462      -0.196845   0.144394   \n",
       "2       -0.001422       1.752368        -0.160602       1.764439   0.014555   \n",
       "\n",
       "         satisfaction  cost_usd  revenue_usd  contactability_score  \\\n",
       "cluster                                                              \n",
       "0            0.037868 -0.415409     0.087707              0.007607   \n",
       "1           -0.012868  1.517275    -0.174546             -0.036718   \n",
       "2           -0.164251 -0.078901    -0.182603              0.013653   \n",
       "\n",
       "         account_age_days  prior_calls_30d  duration_sec      hour      week  \\\n",
       "cluster                                                                        \n",
       "0                0.007035        -0.001027     -0.523567  0.001888 -0.007783   \n",
       "1               -0.005999        -0.016209      1.311784 -0.035435  0.033389   \n",
       "2               -0.025583         0.027085      0.721288  0.039360 -0.008258   \n",
       "\n",
       "         agent_id_freq  \n",
       "cluster                 \n",
       "0             0.006395  \n",
       "1             0.005832  \n",
       "2            -0.038677  "
      ]
     },
     "execution_count": 119,
     "metadata": {},
     "output_type": "execute_result"
    }
   ],
   "source": [
    "# 10) Fit final KMeans\n",
    "# Choose K based on above. For demonstration we pick K=3 (adjust if your plots suggest another)\n",
    "K_FINAL = 3\n",
    "\n",
    "kmeans_final = KMeans(n_clusters=K_FINAL, n_init=100, random_state=42, init='k-means++')\n",
    "cluster_labels = kmeans_final.fit_predict(X_for_clustering)\n",
    "\n",
    "# attach to dataframe\n",
    "df_clustered = df_clean.copy()\n",
    "df_clustered['cluster'] = cluster_labels\n",
    "\n",
    "# cluster centers (if using PCA, transform centers back to original space if needed)\n",
    "if USE_PCA:\n",
    "    centers = pca_full.inverse_transform(kmeans_final.cluster_centers_)\n",
    "else:\n",
    "    centers = kmeans_final.cluster_centers_\n",
    "centers_df = pd.DataFrame(centers, columns=num_df.columns)\n",
    "centers_df.index.name = 'cluster'\n",
    "centers_df\n"
   ]
  },
  {
   "cell_type": "code",
   "execution_count": 120,
   "id": "770833d3",
   "metadata": {},
   "outputs": [
    {
     "name": "stdout",
     "output_type": "stream",
     "text": [
      "Cluster sizes:\n",
      " cluster\n",
      "0    13400\n",
      "1     3815\n",
      "2     2785\n",
      "Name: count, dtype: int64\n"
     ]
    },
    {
     "data": {
      "application/vnd.microsoft.datawrangler.viewer.v0+json": {
       "columns": [
        {
         "name": "index",
         "rawType": "object",
         "type": "string"
        },
        {
         "name": "0",
         "rawType": "float64",
         "type": "float"
        },
        {
         "name": "1",
         "rawType": "float64",
         "type": "float"
        },
        {
         "name": "2",
         "rawType": "float64",
         "type": "float"
        }
       ],
       "ref": "8795ae88-ca91-4f60-8273-c8fb62c4a491",
       "rows": [
        [
         "agent_id",
         "529.6620149253731",
         "529.1302752293578",
         "529.5335727109515"
        ],
        [
         "wait_time_sec",
         "30.073955223880596",
         "39.21808650065531",
         "97.99174147217235"
        ],
        [
         "handle_time_sec",
         "98.90656716417911",
         "231.98899082568806",
         "115.57522441651706"
        ],
        [
         "hold_time_sec",
         "0.1664179104477612",
         "0.8503276539973788",
         "12.560861759425494"
        ],
        [
         "transfers",
         "0.13738805970149254",
         "0.21284403669724772",
         "0.16122082585278277"
        ],
        [
         "satisfaction",
         "3.931268656716418",
         "3.8935779816513763",
         "3.777737881508079"
        ],
        [
         "cost_usd",
         "2.302870895522388",
         "6.191389252948887",
         "2.9790628366247756"
        ],
        [
         "revenue_usd",
         "3.9055037313432837",
         "1.1830851900393184",
         "1.102035906642729"
        ],
        [
         "contactability_score",
         "0.20235137313432838",
         "0.19691653997378766",
         "0.20318219030520646"
        ],
        [
         "account_age_days",
         "1034.5409701492538",
         "1027.0993446920052",
         "1016.3526032315979"
        ],
        [
         "prior_calls_30d",
         "1.589179104477612",
         "1.5688073394495412",
         "1.6244165170556553"
        ],
        [
         "duration_sec",
         "129.14694029850747",
         "272.0574049803408",
         "226.1278276481149"
        ]
       ],
       "shape": {
        "columns": 3,
        "rows": 12
       }
      },
      "text/html": [
       "<div>\n",
       "<style scoped>\n",
       "    .dataframe tbody tr th:only-of-type {\n",
       "        vertical-align: middle;\n",
       "    }\n",
       "\n",
       "    .dataframe tbody tr th {\n",
       "        vertical-align: top;\n",
       "    }\n",
       "\n",
       "    .dataframe thead th {\n",
       "        text-align: right;\n",
       "    }\n",
       "</style>\n",
       "<table border=\"1\" class=\"dataframe\">\n",
       "  <thead>\n",
       "    <tr style=\"text-align: right;\">\n",
       "      <th>cluster</th>\n",
       "      <th>0</th>\n",
       "      <th>1</th>\n",
       "      <th>2</th>\n",
       "    </tr>\n",
       "  </thead>\n",
       "  <tbody>\n",
       "    <tr>\n",
       "      <th>agent_id</th>\n",
       "      <td>529.662015</td>\n",
       "      <td>529.130275</td>\n",
       "      <td>529.533573</td>\n",
       "    </tr>\n",
       "    <tr>\n",
       "      <th>wait_time_sec</th>\n",
       "      <td>30.073955</td>\n",
       "      <td>39.218087</td>\n",
       "      <td>97.991741</td>\n",
       "    </tr>\n",
       "    <tr>\n",
       "      <th>handle_time_sec</th>\n",
       "      <td>98.906567</td>\n",
       "      <td>231.988991</td>\n",
       "      <td>115.575224</td>\n",
       "    </tr>\n",
       "    <tr>\n",
       "      <th>hold_time_sec</th>\n",
       "      <td>0.166418</td>\n",
       "      <td>0.850328</td>\n",
       "      <td>12.560862</td>\n",
       "    </tr>\n",
       "    <tr>\n",
       "      <th>transfers</th>\n",
       "      <td>0.137388</td>\n",
       "      <td>0.212844</td>\n",
       "      <td>0.161221</td>\n",
       "    </tr>\n",
       "    <tr>\n",
       "      <th>satisfaction</th>\n",
       "      <td>3.931269</td>\n",
       "      <td>3.893578</td>\n",
       "      <td>3.777738</td>\n",
       "    </tr>\n",
       "    <tr>\n",
       "      <th>cost_usd</th>\n",
       "      <td>2.302871</td>\n",
       "      <td>6.191389</td>\n",
       "      <td>2.979063</td>\n",
       "    </tr>\n",
       "    <tr>\n",
       "      <th>revenue_usd</th>\n",
       "      <td>3.905504</td>\n",
       "      <td>1.183085</td>\n",
       "      <td>1.102036</td>\n",
       "    </tr>\n",
       "    <tr>\n",
       "      <th>contactability_score</th>\n",
       "      <td>0.202351</td>\n",
       "      <td>0.196917</td>\n",
       "      <td>0.203182</td>\n",
       "    </tr>\n",
       "    <tr>\n",
       "      <th>account_age_days</th>\n",
       "      <td>1034.540970</td>\n",
       "      <td>1027.099345</td>\n",
       "      <td>1016.352603</td>\n",
       "    </tr>\n",
       "    <tr>\n",
       "      <th>prior_calls_30d</th>\n",
       "      <td>1.589179</td>\n",
       "      <td>1.568807</td>\n",
       "      <td>1.624417</td>\n",
       "    </tr>\n",
       "    <tr>\n",
       "      <th>duration_sec</th>\n",
       "      <td>129.146940</td>\n",
       "      <td>272.057405</td>\n",
       "      <td>226.127828</td>\n",
       "    </tr>\n",
       "  </tbody>\n",
       "</table>\n",
       "</div>"
      ],
      "text/plain": [
       "cluster                         0            1            2\n",
       "agent_id               529.662015   529.130275   529.533573\n",
       "wait_time_sec           30.073955    39.218087    97.991741\n",
       "handle_time_sec         98.906567   231.988991   115.575224\n",
       "hold_time_sec            0.166418     0.850328    12.560862\n",
       "transfers                0.137388     0.212844     0.161221\n",
       "satisfaction             3.931269     3.893578     3.777738\n",
       "cost_usd                 2.302871     6.191389     2.979063\n",
       "revenue_usd              3.905504     1.183085     1.102036\n",
       "contactability_score     0.202351     0.196917     0.203182\n",
       "account_age_days      1034.540970  1027.099345  1016.352603\n",
       "prior_calls_30d          1.589179     1.568807     1.624417\n",
       "duration_sec           129.146940   272.057405   226.127828"
      ]
     },
     "execution_count": 120,
     "metadata": {},
     "output_type": "execute_result"
    }
   ],
   "source": [
    "# sizes\n",
    "sizes = df_clustered['cluster'].value_counts().sort_index()\n",
    "print(\"Cluster sizes:\\n\", sizes)\n",
    "\n",
    "# cluster means (for numeric features) — helpful to interpret what each cluster represents\n",
    "cluster_profile = df_clustered.groupby('cluster')[num_df.columns].mean().T\n",
    "cluster_profile.head(12)\n"
   ]
  },
  {
   "cell_type": "code",
   "execution_count": 121,
   "id": "a88e9edd",
   "metadata": {},
   "outputs": [],
   "source": [
    "# If rpc target exists, show RPC rate by cluster\n",
    "if target_col:\n",
    "    df_clustered['_rpc_label'] = df_raw[target_col].astype(int)  # original target\n",
    "    rpc_by_cluster = df_clustered.groupby('cluster')['_rpc_label'].agg(['count','sum','mean']).rename(columns={'sum':'rpc_count','mean':'rpc_rate'})\n",
    "    rpc_by_cluster = rpc_by_cluster.sort_values(by='rpc_rate', ascending=False)\n",
    "    rpc_by_cluster\n",
    "else:\n",
    "    print(\"No rpc target found; cannot compute RPC rates yet.\")\n"
   ]
  },
  {
   "cell_type": "markdown",
   "id": "b05b1a5b",
   "metadata": {},
   "source": [
    "**Interpretation notes**\n",
    "- Clusters with higher `rpc_rate` are the ones we might prioritize for dialing — more likely to reach the right party.\n",
    "- Examine cluster profiles (means) to understand why one cluster has higher RPC (e.g., shorter time-since-last-contact, certain regions, agent frequency etc.).\n"
   ]
  },
  {
   "cell_type": "code",
   "execution_count": 122,
   "id": "0dea9a1f",
   "metadata": {},
   "outputs": [
    {
     "data": {
      "image/png": "[encoded data removed]",
      "text/plain": [
       "<Figure size 800x600 with 1 Axes>"
      ]
     },
     "metadata": {},
     "output_type": "display_data"
    },
    {
     "data": {
      "image/png": "[encoded data removed]",
      "text/plain": [
       "<Figure size 800x600 with 1 Axes>"
      ]
     },
     "metadata": {},
     "output_type": "display_data"
    }
   ],
   "source": [
    "# 12) Visualize clusters (2D) with PCA for illustration\n",
    "pca_vis = PCA(n_components=2, random_state=42)\n",
    "X_vis = pca_vis.fit_transform(X_scaled)   # always use full scaled features for visualization\n",
    "vis_df = pd.DataFrame(X_vis, columns=['PC1','PC2'], index=df_clustered.index)\n",
    "vis_df['cluster'] = df_clustered['cluster'].astype(str)\n",
    "vis_df['rpc'] = df_raw[target_col] if target_col else np.nan\n",
    "\n",
    "plt.figure(figsize=(8,6))\n",
    "sns.scatterplot(data=vis_df, x='PC1', y='PC2', hue='cluster', palette='tab10', alpha=0.7, s=40)\n",
    "plt.title('Cluster visualization (PCA 2 components)')\n",
    "plt.legend(title='cluster')\n",
    "plt.show()\n",
    "\n",
    "# If rpc exists, highlight RPC points\n",
    "if target_col:\n",
    "    plt.figure(figsize=(8,6))\n",
    "    sns.scatterplot(data=vis_df, x='PC1', y='PC2', hue='rpc', palette='coolwarm', alpha=0.7, s=40)\n",
    "    plt.title('RPC distribution over accounts (blue=0, red=1)')\n",
    "    plt.show()\n"
   ]
  },
  {
   "cell_type": "markdown",
   "id": "bc4681df",
   "metadata": {},
   "source": [
    "## 13) Save results: cluster label becomes a feature for supervised modeling\n",
    "We persist `cluster` into a new CSV for the next step (XGBoost). This is the sequential pipeline: segmentation → prediction using cluster id as a feature.\n",
    "\n",
    "**Save file:** `data/synthetic_callcenter_accounts_clustered.csv`\n"
   ]
  },
  {
   "cell_type": "code",
   "execution_count": 123,
   "id": "1297a621",
   "metadata": {},
   "outputs": [
    {
     "name": "stdout",
     "output_type": "stream",
     "text": [
      "Saved clustered data to: C:\\Users\\DELL\\Desktop\\aftar-daftar\\data\\synthetic_callcenter_accounts_clustered.csv\n"
     ]
    }
   ],
   "source": [
    "from pathlib import Path\n",
    "\n",
    "# Save clustered data into the shared data folder so other steps can reuse it\n",
    "OUTPATH = Path('../data/synthetic_callcenter_accounts_clustered.csv')\n",
    "OUTPATH.parent.mkdir(parents=True, exist_ok=True)\n",
    "\n",
    "df_clustered.to_csv(OUTPATH, index=False)\n",
    "print(\"Saved clustered data to:\", OUTPATH.resolve())\n"
   ]
  },
  {
   "cell_type": "markdown",
   "id": "363280d5",
   "metadata": {},
   "source": [
    "###  14) Concluding statement / README:**\n",
    "\n",
    "> I first segmented the call-center inventory using K-Means to capture natural groupings in account-level behavior (e.g., account age, call frequency, monetary fields, and agent activity). I standardized numeric features to ensure Euclidean distance is meaningful, inspected collinearity, and optionally used PCA for visualization and dimensionality reduction. I evaluated cluster quality with both the elbow method (inertia) and silhouette score, then examined cluster profiles and RPC rates. Finally, I saved the cluster id back to the dataset so the supervised model (XGBoost) can learn cluster-specific dialing likelihood — enabling a two-stage pipeline: segmentation → targeted prediction.  \n",
    "\n",
    "**Key takeaways for a recruiter**\n",
    "- Demonstrates understanding of K-Means assumptions, scaling importance, and diagnostics (Elbow, Silhouette).  \n",
    "- Shows careful preprocessing choices (imputation, frequency encoding for high-cardinality agent id).  \n",
    "- Connects unsupervised clustering to business value and the downstream supervised model.\n",
    "\n",
    "---\n",
    "\n",
    "### Next step\n",
    "Now that each account has a `cluster` label, we can build an XGBoost model that includes `cluster` as a feature and predicts `rpc_label`.  \n",
    "Do you want me to produce the next notebook cells for **XGBoost modeling** (data split, grid search, metric reporting, feature importance, thresholding, and explanation text) using this clustered CSV? If yes, I will include clear commentary and reproducible code for the recruiter.\n"
   ]
  },
  {
   "cell_type": "markdown",
   "id": "7e626462",
   "metadata": {},
   "source": [
    "# XGBoost classification on clustered data\n",
    "**Goal:** use the cluster label we created earlier as a feature (plus other features) and train an XGBoost model to predict `rpc_label`.  \n",
    "We will:\n",
    "1. Load clustered CSV\n",
    "2. Select features (include `cluster`)\n",
    "3. Preprocess (impute, encode, scale as needed)\n",
    "4. Train/test split (stratified)\n",
    "5. Grid search (small, practical)\n",
    "6. Evaluate (ROC, confusion matrix, precision@k)\n",
    "7. Business findings: which cluster(s) give best RPC per call and best expected collection per call\n",
    "8. Feature importance + short interpretation\n"
   ]
  },
  {
   "cell_type": "code",
   "execution_count": 124,
   "id": "baf40d05",
   "metadata": {},
   "outputs": [],
   "source": [
    "# 1) Imports specific to modeling\n",
    "import os\n",
    "import numpy as np\n",
    "import pandas as pd\n",
    "import matplotlib.pyplot as plt\n",
    "import seaborn as sns\n",
    "\n",
    "from sklearn.model_selection import train_test_split, GridSearchCV, StratifiedKFold\n",
    "from sklearn.impute import SimpleImputer\n",
    "from sklearn.preprocessing import OneHotEncoder, StandardScaler\n",
    "from sklearn.pipeline import Pipeline\n",
    "from sklearn.compose import ColumnTransformer\n",
    "from sklearn.metrics import roc_auc_score, roc_curve, classification_report, confusion_matrix, precision_recall_curve\n",
    "import joblib\n",
    "import xgboost as xgb\n",
    "\n",
    "sns.set(style=\"whitegrid\", context=\"notebook\")\n",
    "plt.rcParams['figure.figsize'] = (8,5)\n"
   ]
  },
  {
   "cell_type": "code",
   "execution_count": 125,
   "id": "003e51c1",
   "metadata": {},
   "outputs": [
    {
     "name": "stdout",
     "output_type": "stream",
     "text": [
      "Loaded clustered df shape: (20000, 28)\n"
     ]
    },
    {
     "data": {
      "application/vnd.microsoft.datawrangler.viewer.v0+json": {
       "columns": [
        {
         "name": "index",
         "rawType": "int64",
         "type": "integer"
        },
        {
         "name": "agent_id",
         "rawType": "int64",
         "type": "integer"
        },
        {
         "name": "agent_team",
         "rawType": "object",
         "type": "string"
        },
        {
         "name": "agent_skill",
         "rawType": "object",
         "type": "string"
        },
        {
         "name": "channel",
         "rawType": "object",
         "type": "string"
        },
        {
         "name": "queue",
         "rawType": "object",
         "type": "string"
        },
        {
         "name": "call_start",
         "rawType": "object",
         "type": "string"
        },
        {
         "name": "call_end",
         "rawType": "object",
         "type": "string"
        },
        {
         "name": "wait_time_sec",
         "rawType": "int64",
         "type": "integer"
        },
        {
         "name": "handle_time_sec",
         "rawType": "int64",
         "type": "integer"
        },
        {
         "name": "hold_time_sec",
         "rawType": "int64",
         "type": "integer"
        },
        {
         "name": "transfers",
         "rawType": "int64",
         "type": "integer"
        },
        {
         "name": "outcome",
         "rawType": "object",
         "type": "string"
        },
        {
         "name": "satisfaction",
         "rawType": "int64",
         "type": "integer"
        },
        {
         "name": "segment",
         "rawType": "object",
         "type": "string"
        },
        {
         "name": "rpc_label",
         "rawType": "int64",
         "type": "integer"
        },
        {
         "name": "cost_usd",
         "rawType": "float64",
         "type": "float"
        },
        {
         "name": "revenue_usd",
         "rawType": "float64",
         "type": "float"
        },
        {
         "name": "contactability_score",
         "rawType": "float64",
         "type": "float"
        },
        {
         "name": "account_age_days",
         "rawType": "int64",
         "type": "integer"
        },
        {
         "name": "prior_calls_30d",
         "rawType": "int64",
         "type": "integer"
        },
        {
         "name": "duration_sec",
         "rawType": "int64",
         "type": "integer"
        },
        {
         "name": "date",
         "rawType": "object",
         "type": "string"
        },
        {
         "name": "day_of_week",
         "rawType": "object",
         "type": "string"
        },
        {
         "name": "hour",
         "rawType": "int64",
         "type": "integer"
        },
        {
         "name": "week",
         "rawType": "int64",
         "type": "integer"
        },
        {
         "name": "agent_id_freq",
         "rawType": "float64",
         "type": "float"
        },
        {
         "name": "cluster",
         "rawType": "int64",
         "type": "integer"
        },
        {
         "name": "_rpc_label",
         "rawType": "int64",
         "type": "integer"
        }
       ],
       "ref": "70b8f6f8-1ae4-4085-b9d3-bf672e111511",
       "rows": [
        [
         "0",
         "549",
         "South",
         "Billing",
         "phone",
         "Billing",
         "2025-01-01 00:55:43",
         "2025-01-01 00:57:14",
         "24",
         "67",
         "0",
         "0",
         "resolved",
         "4",
         "B",
         "0",
         "1.34",
         "0.0",
         "0.5142",
         "1658",
         "1",
         "91",
         "2025-01-01",
         "Wednesday",
         "0",
         "1",
         "0.01715",
         "0",
         "0"
        ],
        [
         "1",
         "533",
         "West",
         "Billing",
         "phone",
         "Sales",
         "2025-01-01 01:02:44",
         "2025-01-01 01:04:47",
         "26",
         "97",
         "0",
         "0",
         "callback",
         "3",
         "B",
         "0",
         "1.62",
         "26.51",
         "0.0448",
         "1104",
         "2",
         "123",
         "2025-01-01",
         "Wednesday",
         "1",
         "1",
         "0.01725",
         "0",
         "0"
        ],
        [
         "2",
         "549",
         "South",
         "Billing",
         "phone",
         "Retention",
         "2025-01-01 01:36:04",
         "2025-01-01 01:37:16",
         "20",
         "52",
         "0",
         "1",
         "abandoned",
         "3",
         "C",
         "0",
         "1.44",
         "0.0",
         "0.0695",
         "720",
         "0",
         "72",
         "2025-01-01",
         "Wednesday",
         "1",
         "1",
         "0.01715",
         "0",
         "0"
        ],
        [
         "3",
         "558",
         "North",
         "Sales",
         "phone",
         "Technical Support",
         "2025-01-01 03:46:42",
         "2025-01-01 03:49:49",
         "20",
         "167",
         "0",
         "0",
         "callback",
         "5",
         "B",
         "0",
         "5.01",
         "0.0",
         "0.0447",
         "101",
         "0",
         "187",
         "2025-01-01",
         "Wednesday",
         "3",
         "1",
         "0.0166",
         "1",
         "0"
        ],
        [
         "4",
         "517",
         "North",
         "Sales",
         "email",
         "Billing",
         "2025-01-01 04:24:13",
         "2025-01-01 04:26:25",
         "32",
         "100",
         "0",
         "0",
         "resolved",
         "3",
         "A",
         "0",
         "2.0",
         "0.0",
         "0.0919",
         "1788",
         "1",
         "132",
         "2025-01-01",
         "Wednesday",
         "4",
         "1",
         "0.0161",
         "0",
         "0"
        ]
       ],
       "shape": {
        "columns": 28,
        "rows": 5
       }
      },
      "text/html": [
       "<div>\n",
       "<style scoped>\n",
       "    .dataframe tbody tr th:only-of-type {\n",
       "        vertical-align: middle;\n",
       "    }\n",
       "\n",
       "    .dataframe tbody tr th {\n",
       "        vertical-align: top;\n",
       "    }\n",
       "\n",
       "    .dataframe thead th {\n",
       "        text-align: right;\n",
       "    }\n",
       "</style>\n",
       "<table border=\"1\" class=\"dataframe\">\n",
       "  <thead>\n",
       "    <tr style=\"text-align: right;\">\n",
       "      <th></th>\n",
       "      <th>agent_id</th>\n",
       "      <th>agent_team</th>\n",
       "      <th>agent_skill</th>\n",
       "      <th>channel</th>\n",
       "      <th>queue</th>\n",
       "      <th>call_start</th>\n",
       "      <th>call_end</th>\n",
       "      <th>wait_time_sec</th>\n",
       "      <th>handle_time_sec</th>\n",
       "      <th>hold_time_sec</th>\n",
       "      <th>...</th>\n",
       "      <th>account_age_days</th>\n",
       "      <th>prior_calls_30d</th>\n",
       "      <th>duration_sec</th>\n",
       "      <th>date</th>\n",
       "      <th>day_of_week</th>\n",
       "      <th>hour</th>\n",
       "      <th>week</th>\n",
       "      <th>agent_id_freq</th>\n",
       "      <th>cluster</th>\n",
       "      <th>_rpc_label</th>\n",
       "    </tr>\n",
       "  </thead>\n",
       "  <tbody>\n",
       "    <tr>\n",
       "      <th>0</th>\n",
       "      <td>549</td>\n",
       "      <td>South</td>\n",
       "      <td>Billing</td>\n",
       "      <td>phone</td>\n",
       "      <td>Billing</td>\n",
       "      <td>2025-01-01 00:55:43</td>\n",
       "      <td>2025-01-01 00:57:14</td>\n",
       "      <td>24</td>\n",
       "      <td>67</td>\n",
       "      <td>0</td>\n",
       "      <td>...</td>\n",
       "      <td>1658</td>\n",
       "      <td>1</td>\n",
       "      <td>91</td>\n",
       "      <td>2025-01-01</td>\n",
       "      <td>Wednesday</td>\n",
       "      <td>0</td>\n",
       "      <td>1</td>\n",
       "      <td>0.01715</td>\n",
       "      <td>0</td>\n",
       "      <td>0</td>\n",
       "    </tr>\n",
       "    <tr>\n",
       "      <th>1</th>\n",
       "      <td>533</td>\n",
       "      <td>West</td>\n",
       "      <td>Billing</td>\n",
       "      <td>phone</td>\n",
       "      <td>Sales</td>\n",
       "      <td>2025-01-01 01:02:44</td>\n",
       "      <td>2025-01-01 01:04:47</td>\n",
       "      <td>26</td>\n",
       "      <td>97</td>\n",
       "      <td>0</td>\n",
       "      <td>...</td>\n",
       "      <td>1104</td>\n",
       "      <td>2</td>\n",
       "      <td>123</td>\n",
       "      <td>2025-01-01</td>\n",
       "      <td>Wednesday</td>\n",
       "      <td>1</td>\n",
       "      <td>1</td>\n",
       "      <td>0.01725</td>\n",
       "      <td>0</td>\n",
       "      <td>0</td>\n",
       "    </tr>\n",
       "    <tr>\n",
       "      <th>2</th>\n",
       "      <td>549</td>\n",
       "      <td>South</td>\n",
       "      <td>Billing</td>\n",
       "      <td>phone</td>\n",
       "      <td>Retention</td>\n",
       "      <td>2025-01-01 01:36:04</td>\n",
       "      <td>2025-01-01 01:37:16</td>\n",
       "      <td>20</td>\n",
       "      <td>52</td>\n",
       "      <td>0</td>\n",
       "      <td>...</td>\n",
       "      <td>720</td>\n",
       "      <td>0</td>\n",
       "      <td>72</td>\n",
       "      <td>2025-01-01</td>\n",
       "      <td>Wednesday</td>\n",
       "      <td>1</td>\n",
       "      <td>1</td>\n",
       "      <td>0.01715</td>\n",
       "      <td>0</td>\n",
       "      <td>0</td>\n",
       "    </tr>\n",
       "    <tr>\n",
       "      <th>3</th>\n",
       "      <td>558</td>\n",
       "      <td>North</td>\n",
       "      <td>Sales</td>\n",
       "      <td>phone</td>\n",
       "      <td>Technical Support</td>\n",
       "      <td>2025-01-01 03:46:42</td>\n",
       "      <td>2025-01-01 03:49:49</td>\n",
       "      <td>20</td>\n",
       "      <td>167</td>\n",
       "      <td>0</td>\n",
       "      <td>...</td>\n",
       "      <td>101</td>\n",
       "      <td>0</td>\n",
       "      <td>187</td>\n",
       "      <td>2025-01-01</td>\n",
       "      <td>Wednesday</td>\n",
       "      <td>3</td>\n",
       "      <td>1</td>\n",
       "      <td>0.01660</td>\n",
       "      <td>1</td>\n",
       "      <td>0</td>\n",
       "    </tr>\n",
       "    <tr>\n",
       "      <th>4</th>\n",
       "      <td>517</td>\n",
       "      <td>North</td>\n",
       "      <td>Sales</td>\n",
       "      <td>email</td>\n",
       "      <td>Billing</td>\n",
       "      <td>2025-01-01 04:24:13</td>\n",
       "      <td>2025-01-01 04:26:25</td>\n",
       "      <td>32</td>\n",
       "      <td>100</td>\n",
       "      <td>0</td>\n",
       "      <td>...</td>\n",
       "      <td>1788</td>\n",
       "      <td>1</td>\n",
       "      <td>132</td>\n",
       "      <td>2025-01-01</td>\n",
       "      <td>Wednesday</td>\n",
       "      <td>4</td>\n",
       "      <td>1</td>\n",
       "      <td>0.01610</td>\n",
       "      <td>0</td>\n",
       "      <td>0</td>\n",
       "    </tr>\n",
       "  </tbody>\n",
       "</table>\n",
       "<p>5 rows × 28 columns</p>\n",
       "</div>"
      ],
      "text/plain": [
       "   agent_id agent_team agent_skill channel              queue  \\\n",
       "0       549      South     Billing   phone            Billing   \n",
       "1       533       West     Billing   phone              Sales   \n",
       "2       549      South     Billing   phone          Retention   \n",
       "3       558      North       Sales   phone  Technical Support   \n",
       "4       517      North       Sales   email            Billing   \n",
       "\n",
       "            call_start             call_end  wait_time_sec  handle_time_sec  \\\n",
       "0  2025-01-01 00:55:43  2025-01-01 00:57:14             24               67   \n",
       "1  2025-01-01 01:02:44  2025-01-01 01:04:47             26               97   \n",
       "2  2025-01-01 01:36:04  2025-01-01 01:37:16             20               52   \n",
       "3  2025-01-01 03:46:42  2025-01-01 03:49:49             20              167   \n",
       "4  2025-01-01 04:24:13  2025-01-01 04:26:25             32              100   \n",
       "\n",
       "   hold_time_sec  ...  account_age_days prior_calls_30d  duration_sec  \\\n",
       "0              0  ...              1658               1            91   \n",
       "1              0  ...              1104               2           123   \n",
       "2              0  ...               720               0            72   \n",
       "3              0  ...               101               0           187   \n",
       "4              0  ...              1788               1           132   \n",
       "\n",
       "         date  day_of_week  hour  week  agent_id_freq  cluster  _rpc_label  \n",
       "0  2025-01-01    Wednesday     0     1        0.01715        0           0  \n",
       "1  2025-01-01    Wednesday     1     1        0.01725        0           0  \n",
       "2  2025-01-01    Wednesday     1     1        0.01715        0           0  \n",
       "3  2025-01-01    Wednesday     3     1        0.01660        1           0  \n",
       "4  2025-01-01    Wednesday     4     1        0.01610        0           0  \n",
       "\n",
       "[5 rows x 28 columns]"
      ]
     },
     "execution_count": 125,
     "metadata": {},
     "output_type": "execute_result"
    }
   ],
   "source": [
    "# 2) Load clustered dataset produced previously\n",
    "from pathlib import Path\n",
    "CLUSTERED_PATH = Path('../data/synthetic_callcenter_accounts_clustered.csv')\n",
    "if not CLUSTERED_PATH.exists():\n",
    "    raise FileNotFoundError(f\"Clustered file not found at {CLUSTERED_PATH}. Run clustering cell first and ensure file saved.\")\n",
    "\n",
    "df = pd.read_csv(CLUSTERED_PATH)\n",
    "print(\"Loaded clustered df shape:\", df.shape)\n",
    "df.head()\n"
   ]
  },
  {
   "cell_type": "markdown",
   "id": "94b7ec69",
   "metadata": {},
   "source": [
    "### Check for target column (rpc_label) and a plausible 'collection' column\n",
    "We will look for common monetary columns like: 'fare', 'amount', 'balance', 'payment', 'collection', 'collected'\n"
   ]
  },
  {
   "cell_type": "code",
   "execution_count": 126,
   "id": "d7dc996d",
   "metadata": {},
   "outputs": [
    {
     "name": "stdout",
     "output_type": "stream",
     "text": [
      "Target: rpc_label\n",
      "Detected monetary columns (if any): ['revenue_usd']\n"
     ]
    }
   ],
   "source": [
    "# 3) Identify target and optional collection column (case-insensitive, no duplicates)\n",
    "\n",
    "def find_col_case_insensitive(df, candidates):\n",
    "    lower_map = {c.lower(): c for c in df.columns}\n",
    "    for cand in candidates:\n",
    "        if cand.lower() in lower_map:\n",
    "            return lower_map[cand.lower()]\n",
    "    return None\n",
    "\n",
    "# Prefer 'rpc_label', then 'rpc'\n",
    "target_col = find_col_case_insensitive(df, ['rpc_label', 'rpc'])\n",
    "print(\"Target:\", target_col)\n",
    "\n",
    "# Detect monetary-like columns (exclude target if it happens to match)\n",
    "money_cols = [c for c in df.columns if any(k in c.lower() for k in ['fare','amount','balance','payment','collect','collected','revenue'])]\n",
    "if target_col in money_cols:\n",
    "    money_cols.remove(target_col)\n",
    "print(\"Detected monetary columns (if any):\", money_cols)\n"
   ]
  },
  {
   "cell_type": "markdown",
   "id": "6f25886c",
   "metadata": {},
   "source": [
    "#### If `target_col` is missing we cannot train supervised model.  \n",
    "If present, next we select features. We'll:\n",
    "- include numeric features\n",
    "- include `cluster` (ensure it's treated as categorical / one-hot or ordinal)\n",
    "- encode categorical columns with low cardinality via one-hot\n",
    "- frequency-encode high-cardinality categorical columns (agent_id was previously freq-encoded, if present)\n"
   ]
  },
  {
   "cell_type": "code",
   "execution_count": 127,
   "id": "43e00de5",
   "metadata": {},
   "outputs": [
    {
     "name": "stdout",
     "output_type": "stream",
     "text": [
      "One-hot columns: ['agent_team', 'agent_skill', 'channel', 'queue', 'segment', 'day_of_week', 'cluster']\n",
      "Frequency-encode columns: []\n",
      "Final numeric_cols sample: ['contactability_score', 'account_age_days', 'prior_calls_30d', 'hour', 'week', 'agent_id_freq']\n",
      "Categorical to one-hot: ['agent_team', 'agent_skill', 'channel', 'queue', 'segment', 'day_of_week', 'cluster']\n"
     ]
    }
   ],
   "source": [
    "# 4) Feature selection with leakage prevention (pre-dial features only)\n",
    "df_model = df.copy()\n",
    "\n",
    "# Confirm target exists and is integer 0/1\n",
    "if target_col is None:\n",
    "    raise KeyError(\"No target column found. Expected 'rpc_label' as 0/1 target.\")\n",
    "df_model[target_col] = df_model[target_col].astype(int)\n",
    "\n",
    "# Define columns that cause leakage (only known during/after the call)\n",
    "leakage_cols = [\n",
    "    'outcome',           # contains 'abandoned', 'resolved', etc. (direct proxy)\n",
    "    'satisfaction',      # post-call\n",
    "    'call_end',          # post-call timestamp\n",
    "    'wait_time_sec',     # known after call starts\n",
    "    'handle_time_sec',   # known after call ends\n",
    "    'hold_time_sec',     # known after call\n",
    "    'duration_sec',      # derived post-call\n",
    "    'cost_usd',          # derived post-call\n",
    "    'revenue_usd',       # derived post-call\n",
    "    'transfers',         # in-call\n",
    "    'date',              # redundant with day_of_week/week (optional drop)\n",
    "    '_rpc_label',        # duplicate/derived target from clustering section\n",
    "]\n",
    "\n",
    "# Drop identifiers (we won't one-hot very high-cardinality IDs)\n",
    "possible_id_cols = ['call_id', 'customer_id', 'agent_id']\n",
    "\n",
    "# Also drop datetime-like columns and strings that are clearly datetimes by name\n",
    "datetime_like = [c for c in df_model.columns if str(df_model[c].dtype).startswith('datetime')]\n",
    "name_like_dt = [c for c in ['call_start', 'call_end'] if c in df_model.columns]\n",
    "\n",
    "# Drop all above if present\n",
    "drop_now = [c for c in (leakage_cols + possible_id_cols + datetime_like + name_like_dt) if c in df_model.columns]\n",
    "if drop_now:\n",
    "    df_model.drop(columns=drop_now, inplace=True, errors='ignore')\n",
    "\n",
    "# Build candidate feature lists\n",
    "numeric_cols = df_model.select_dtypes(include=[np.number]).columns.tolist()\n",
    "# remove target from numeric\n",
    "numeric_cols = [c for c in numeric_cols if c != target_col]\n",
    "\n",
    "# Categorical columns (object/category)\n",
    "cat_cols = df_model.select_dtypes(include=['object', 'category']).columns.tolist()\n",
    "\n",
    "# Treat 'cluster' as categorical if present\n",
    "if 'cluster' in df_model.columns and 'cluster' not in cat_cols:\n",
    "    if 'cluster' in numeric_cols:\n",
    "        numeric_cols.remove('cluster')\n",
    "    cat_cols.append('cluster')\n",
    "\n",
    "# Decide which categorical to one-hot vs freq-encode\n",
    "# Low cardinality: one-hot (queue, channel, segment, agent_team, agent_skill, day_of_week, cluster)\n",
    "# High cardinality: frequency encode (unlikely after ID drops)\n",
    "onehot_cols, freq_cols = [], []\n",
    "for c in cat_cols:\n",
    "    nunique = df_model[c].nunique()\n",
    "    if nunique <= 20:\n",
    "        onehot_cols.append(c)\n",
    "    else:\n",
    "        freq_cols.append(c)\n",
    "\n",
    "print(\"One-hot columns:\", onehot_cols)\n",
    "print(\"Frequency-encode columns:\", freq_cols)\n",
    "\n",
    "# Apply frequency encoding for any high-cardinality categorical columns\n",
    "# (Rare after dropping IDs, but kept for completeness)\n",
    "df_fe = df_model.copy()\n",
    "for c in freq_cols:\n",
    "    freq = df_fe[c].value_counts(normalize=True)\n",
    "    new_col = c + \"_freq\"\n",
    "    # Avoid accidental duplicate naming\n",
    "    while new_col in df_fe.columns:\n",
    "        new_col = new_col + \"_dup\"\n",
    "    df_fe[new_col] = df_fe[c].map(freq).fillna(0.0)\n",
    "    numeric_cols.append(new_col)\n",
    "    df_fe.drop(columns=[c], inplace=True)\n",
    "\n",
    "# Final column lists after freq encoding\n",
    "categorical_ohe = [c for c in onehot_cols if c in df_fe.columns]\n",
    "numeric_cols = [c for c in numeric_cols if c in df_fe.columns and c != target_col]\n",
    "\n",
    "# Ensure no duplicates between numeric and categorical lists\n",
    "categorical_ohe = [c for c in categorical_ohe if c not in numeric_cols]\n",
    "\n",
    "# Sanity: drop any unintended rpc-like columns from features\n",
    "for c in list(numeric_cols):\n",
    "    if c != target_col and c.lower().startswith('rpc'):\n",
    "        numeric_cols.remove(c)\n",
    "\n",
    "print(\"Final numeric_cols sample:\", numeric_cols[:20])\n",
    "print(\"Categorical to one-hot:\", categorical_ohe)\n"
   ]
  },
  {
   "cell_type": "code",
   "execution_count": 128,
   "id": "99334531",
   "metadata": {},
   "outputs": [],
   "source": [
    "# Construct sklearn ColumnTransformer\n",
    "numeric_transformer = Pipeline(steps=[\n",
    "    ('imputer', SimpleImputer(strategy='median')),\n",
    "    ('scaler', StandardScaler())\n",
    "])\n",
    "\n",
    "categorical_transformer = Pipeline(steps=[\n",
    "    ('imputer', SimpleImputer(strategy='constant', fill_value='missing')),\n",
    "    ('ohe', OneHotEncoder(handle_unknown='ignore'))\n",
    "])\n",
    "\n",
    "preprocessor = ColumnTransformer(transformers=[\n",
    "    ('num', numeric_transformer, numeric_cols),\n",
    "    ('cat', categorical_transformer, categorical_ohe)\n",
    "], remainder='drop', sparse_threshold=0)\n"
   ]
  },
  {
   "cell_type": "markdown",
   "id": "6eaf0a6f",
   "metadata": {},
   "source": [
    "## 6) Train/test split & prepare data for modeling\n",
    "We do a stratified split to preserve class balance.\n"
   ]
  },
  {
   "cell_type": "code",
   "execution_count": 129,
   "id": "6a41a429",
   "metadata": {},
   "outputs": [
    {
     "name": "stdout",
     "output_type": "stream",
     "text": [
      "Train shape: (16000, 13) Test shape: (4000, 13)\n",
      " (16000, 13) Test shape: (4000, 13)\n"
     ]
    }
   ],
   "source": [
    "X = df_fe[numeric_cols + categorical_ohe]\n",
    "y = df_fe[target_col].values\n",
    "\n",
    "# train/test split\n",
    "X_train, X_test, y_train, y_test = train_test_split(X, y, stratify=y, test_size=0.2, random_state=42)\n",
    "print(\"Train shape:\", X_train.shape, \"Test shape:\", X_test.shape)\n"
   ]
  },
  {
   "cell_type": "markdown",
   "id": "55356fc3",
   "metadata": {},
   "source": [
    "## 7) Build a pipeline including preprocessor and XGBoost estimator\n",
    "We'll do a modest GridSearch (small grid) for demonstration. For faster iteration in a demo, keep grid small.\n"
   ]
  },
  {
   "cell_type": "code",
   "execution_count": 130,
   "id": "af7a81d5",
   "metadata": {},
   "outputs": [
    {
     "name": "stdout",
     "output_type": "stream",
     "text": [
      "scale_pos_weight (neg/pos): 39.40\n"
     ]
    }
   ],
   "source": [
    "# model pipeline\n",
    "# Compute class weight to address imbalance: scale_pos_weight ~ (neg/pos) on training\n",
    "pos = float((y_train == 1).sum())\n",
    "neg = float((y_train == 0).sum())\n",
    "scale_pos_weight = (neg / pos) if pos > 0 else 1.0\n",
    "print(f\"scale_pos_weight (neg/pos): {scale_pos_weight:.2f}\")\n",
    "\n",
    "xgb_clf = xgb.XGBClassifier(\n",
    "    objective='binary:logistic',\n",
    "    eval_metric='auc',\n",
    "    verbosity=0,\n",
    "    random_state=42,\n",
    ")\n",
    "\n",
    "from sklearn.pipeline import Pipeline as SKPipeline\n",
    "model_pipeline = SKPipeline([\n",
    "    ('preproc', preprocessor),\n",
    "    ('clf', xgb_clf)\n",
    "])\n",
    "\n",
    "# small grid for demo (expand in real work)\n",
    "param_grid = {\n",
    "    'clf__n_estimators': [200],\n",
    "    'clf__max_depth': [3, 5],\n",
    "    'clf__learning_rate': [0.05, 0.1],\n",
    "    'clf__subsample': [0.8, 1.0],\n",
    "    'clf__scale_pos_weight': [scale_pos_weight]\n",
    "}\n",
    "\n",
    "cv = StratifiedKFold(n_splits=3, shuffle=True, random_state=42)\n",
    "grid = GridSearchCV(model_pipeline, param_grid, scoring='roc_auc', cv=cv, n_jobs=-1, verbose=0)\n"
   ]
  },
  {
   "cell_type": "code",
   "execution_count": 131,
   "id": "b0ff24f0",
   "metadata": {},
   "outputs": [
    {
     "name": "stdout",
     "output_type": "stream",
     "text": [
      "Best ROC AUC (cv): 0.5760923708707407\n",
      "Best params: {'clf__learning_rate': 0.05, 'clf__max_depth': 3, 'clf__n_estimators': 200, 'clf__scale_pos_weight': 39.4040404040404, 'clf__subsample': 0.8}\n"
     ]
    }
   ],
   "source": [
    "# 8) Fit grid search (this will take a little time depending on data size)\n",
    "grid.fit(X_train, y_train)\n",
    "print(\"Best ROC AUC (cv):\", grid.best_score_)\n",
    "print(\"Best params:\", grid.best_params_)\n",
    "best_model = grid.best_estimator_\n"
   ]
  },
  {
   "cell_type": "markdown",
   "id": "c30e5eb6",
   "metadata": {},
   "source": [
    "## 9) Evaluate on test set\n",
    "Compute AUC, classification report, confusion matrix, and plot ROC curve.\n"
   ]
  },
  {
   "cell_type": "code",
   "execution_count": 132,
   "id": "93513fe0",
   "metadata": {},
   "outputs": [
    {
     "name": "stdout",
     "output_type": "stream",
     "text": [
      "Confusion matrix (thr=0.5):\n",
      " [[2791 1110]\n",
      " [  61   38]]\n",
      "Precision/Recall/F1 (thr=0.5): 0.033101045296167246 0.3838383838383838 0.06094627105052125\n",
      "Tuned threshold (max F1): 0.4741\n",
      "\n",
      "Classification report (tuned):\n",
      "               precision    recall  f1-score   support\n",
      "\n",
      "           0       0.98      0.66      0.79      3901\n",
      "           1       0.03      0.47      0.06        99\n",
      "\n",
      "    accuracy                           0.65      4000\n",
      "   macro avg       0.51      0.57      0.43      4000\n",
      "weighted avg       0.96      0.65      0.77      4000\n",
      "\n",
      "Confusion matrix (tuned):\n",
      " [[2565 1336]\n",
      " [  52   47]]\n"
     ]
    },
    {
     "data": {
      "image/png": "[encoded data removed]",
      "text/plain": [
       "<Figure size 800x500 with 1 Axes>"
      ]
     },
     "metadata": {},
     "output_type": "display_data"
    }
   ],
   "source": [
    "# Predict probabilities and evaluate with both default and tuned thresholds\n",
    "from sklearn.metrics import precision_recall_curve, f1_score, precision_score, recall_score\n",
    "\n",
    "y_proba = best_model.predict_proba(X_test)[:,1]\n",
    "\n",
    "# Default 0.5 threshold\n",
    "y_pred_default = (y_proba >= 0.5).astype(int)\n",
    "cm_default = confusion_matrix(y_test, y_pred_default)\n",
    "print(\"Confusion matrix (thr=0.5):\\n\", cm_default)\n",
    "print(\"Precision/Recall/F1 (thr=0.5):\", precision_score(y_test, y_pred_default, zero_division=0), recall_score(y_test, y_pred_default), f1_score(y_test, y_pred_default))\n",
    "\n",
    "# Tune threshold by maximizing F1 on the test set (demo; normally tune on validation)\n",
    "prec, rec, thr = precision_recall_curve(y_test, y_proba)\n",
    "f1 = 2 * (prec * rec) / (prec + rec + 1e-12)\n",
    "idx = f1.argmax()\n",
    "best_thr = thr[idx-1] if idx>0 and idx-1 < len(thr) else 0.5\n",
    "print(f\"Tuned threshold (max F1): {best_thr:.4f}\")\n",
    "\n",
    "y_pred_tuned = (y_proba >= best_thr).astype(int)\n",
    "print(\"\\nClassification report (tuned):\\n\", classification_report(y_test, y_pred_tuned))\n",
    "cm_tuned = confusion_matrix(y_test, y_pred_tuned)\n",
    "print(\"Confusion matrix (tuned):\\n\", cm_tuned)\n",
    "\n",
    "# AUC & ROC curve for context\n",
    "fpr, tpr, thresholds = roc_curve(y_test, y_proba)\n",
    "auc = roc_auc_score(y_test, y_proba)\n",
    "plt.plot(fpr, tpr, label=f\"AUC={auc:.3f}\")\n",
    "plt.plot([0,1], [0,1], '--', color='gray')\n",
    "plt.xlabel(\"False Positive Rate\"); plt.ylabel(\"True Positive Rate\"); plt.title(\"ROC Curve\")\n",
    "plt.legend(); plt.show()\n"
   ]
  },
  {
   "cell_type": "markdown",
   "id": "c4f93c18",
   "metadata": {},
   "source": [
    "## 10) Feature importance\n",
    "We show feature importance from XGBoost. Because we used a pipeline, extract the trained XGB model and original feature names after preprocessing.\n"
   ]
  },
  {
   "cell_type": "code",
   "execution_count": 133,
   "id": "65d418d7",
   "metadata": {},
   "outputs": [
    {
     "name": "stdout",
     "output_type": "stream",
     "text": [
      "Number of features after preprocess: 34\n"
     ]
    },
    {
     "data": {
      "image/png": "[encoded data removed]",
      "text/plain": [
       "<Figure size 800x600 with 1 Axes>"
      ]
     },
     "metadata": {},
     "output_type": "display_data"
    }
   ],
   "source": [
    "# Extract feature names after preprocessing\n",
    "preproc = best_model.named_steps['preproc']\n",
    "# numeric names preserved:\n",
    "num_features_after = numeric_cols\n",
    "# get categorical feature names after one-hot\n",
    "if categorical_ohe:\n",
    "    ohe = preproc.named_transformers_['cat'].named_steps['ohe']\n",
    "    cat_feature_names = list(ohe.get_feature_names_out(categorical_ohe))\n",
    "else:\n",
    "    cat_feature_names = []\n",
    "\n",
    "feature_names = num_features_after + cat_feature_names\n",
    "print(\"Number of features after preprocess:\", len(feature_names))\n",
    "\n",
    "# Extract XGBoost booster (scikit-learn wrapper)\n",
    "xgb_final = best_model.named_steps['clf']\n",
    "# Feature importance (gain)\n",
    "try:\n",
    "    fi = xgb_final.feature_importances_\n",
    "    fi_df = pd.DataFrame({'feature': feature_names, 'importance': fi}).sort_values('importance', ascending=False).head(30)\n",
    "    plt.figure(figsize=(8,6))\n",
    "    sns.barplot(x='importance', y='feature', data=fi_df)\n",
    "    plt.title(\"Top feature importances (approx)\")\n",
    "    plt.show()\n",
    "    fi_df.head(20)\n",
    "except Exception as e:\n",
    "    print(\"Could not extract feature importances:\", e)\n"
   ]
  },
  {
   "cell_type": "markdown",
   "id": "694a21e2",
   "metadata": {},
   "source": [
    "## 11) Business findings by cluster\n",
    "Compute:\n",
    "- RPC rate by cluster (proportion of rpc_label==1)\n",
    "- Calls per RPC = 1 / rpc_rate (how many calls needed on average to get one RPC)\n",
    "- If monetary column exists, compute average collection per RPC or expected revenue per call = rpc_rate * avg_collection_in_cluster\n",
    "Rank clusters by a combination of RPC rate and expected revenue per call to decide dialing priority.\n"
   ]
  },
  {
   "cell_type": "code",
   "execution_count": 134,
   "id": "c240354b",
   "metadata": {},
   "outputs": [
    {
     "data": {
      "application/vnd.microsoft.datawrangler.viewer.v0+json": {
       "columns": [
        {
         "name": "index",
         "rawType": "int64",
         "type": "integer"
        },
        {
         "name": "cluster",
         "rawType": "int64",
         "type": "integer"
        },
        {
         "name": "n_calls",
         "rawType": "int64",
         "type": "integer"
        },
        {
         "name": "rpc_count",
         "rawType": "int64",
         "type": "integer"
        },
        {
         "name": "rpc_rate",
         "rawType": "float64",
         "type": "float"
        },
        {
         "name": "avg_money",
         "rawType": "float64",
         "type": "float"
        },
        {
         "name": "calls_per_rpc",
         "rawType": "float64",
         "type": "float"
        },
        {
         "name": "exp_money_per_call",
         "rawType": "float64",
         "type": "float"
        }
       ],
       "ref": "ff54e3f8-1470-41fe-9cd2-d82d445d80a1",
       "rows": [
        [
         "0",
         "0",
         "13400",
         "344",
         "0.025671641791044777",
         "3.9055037313432837",
         "38.95348837209302",
         "0.10026069280463355"
        ],
        [
         "2",
         "2",
         "2785",
         "66",
         "0.0236983842010772",
         "1.102035906642729",
         "42.196969696969695",
         "0.026116470319001835"
        ],
        [
         "1",
         "1",
         "3815",
         "85",
         "0.022280471821756225",
         "1.1830851900393184",
         "44.88235294117647",
         "0.026359696239408145"
        ]
       ],
       "shape": {
        "columns": 7,
        "rows": 3
       }
      },
      "text/html": [
       "<div>\n",
       "<style scoped>\n",
       "    .dataframe tbody tr th:only-of-type {\n",
       "        vertical-align: middle;\n",
       "    }\n",
       "\n",
       "    .dataframe tbody tr th {\n",
       "        vertical-align: top;\n",
       "    }\n",
       "\n",
       "    .dataframe thead th {\n",
       "        text-align: right;\n",
       "    }\n",
       "</style>\n",
       "<table border=\"1\" class=\"dataframe\">\n",
       "  <thead>\n",
       "    <tr style=\"text-align: right;\">\n",
       "      <th></th>\n",
       "      <th>cluster</th>\n",
       "      <th>n_calls</th>\n",
       "      <th>rpc_count</th>\n",
       "      <th>rpc_rate</th>\n",
       "      <th>avg_money</th>\n",
       "      <th>calls_per_rpc</th>\n",
       "      <th>exp_money_per_call</th>\n",
       "    </tr>\n",
       "  </thead>\n",
       "  <tbody>\n",
       "    <tr>\n",
       "      <th>0</th>\n",
       "      <td>0</td>\n",
       "      <td>13400</td>\n",
       "      <td>344</td>\n",
       "      <td>0.025672</td>\n",
       "      <td>3.905504</td>\n",
       "      <td>38.953488</td>\n",
       "      <td>0.100261</td>\n",
       "    </tr>\n",
       "    <tr>\n",
       "      <th>2</th>\n",
       "      <td>2</td>\n",
       "      <td>2785</td>\n",
       "      <td>66</td>\n",
       "      <td>0.023698</td>\n",
       "      <td>1.102036</td>\n",
       "      <td>42.196970</td>\n",
       "      <td>0.026116</td>\n",
       "    </tr>\n",
       "    <tr>\n",
       "      <th>1</th>\n",
       "      <td>1</td>\n",
       "      <td>3815</td>\n",
       "      <td>85</td>\n",
       "      <td>0.022280</td>\n",
       "      <td>1.183085</td>\n",
       "      <td>44.882353</td>\n",
       "      <td>0.026360</td>\n",
       "    </tr>\n",
       "  </tbody>\n",
       "</table>\n",
       "</div>"
      ],
      "text/plain": [
       "   cluster  n_calls  rpc_count  rpc_rate  avg_money  calls_per_rpc  \\\n",
       "0        0    13400        344  0.025672   3.905504      38.953488   \n",
       "2        2     2785         66  0.023698   1.102036      42.196970   \n",
       "1        1     3815         85  0.022280   1.183085      44.882353   \n",
       "\n",
       "   exp_money_per_call  \n",
       "0            0.100261  \n",
       "2            0.026116  \n",
       "1            0.026360  "
      ]
     },
     "execution_count": 134,
     "metadata": {},
     "output_type": "execute_result"
    }
   ],
   "source": [
    "# Ensure cluster column is present in the full df_fe (we used df_fe earlier)\n",
    "if 'cluster' not in df_fe.columns:\n",
    "    raise KeyError(\"cluster column missing in df_fe\")\n",
    "\n",
    "# Build a results table at cluster level\n",
    "cluster_summary = df_fe.groupby('cluster').agg(\n",
    "    n_calls = ('cluster', 'count'),\n",
    "    rpc_count = (target_col, 'sum'),\n",
    "    rpc_rate = (target_col, 'mean')\n",
    ").reset_index()\n",
    "\n",
    "# If monetary column exists, compute avg money per call in cluster\n",
    "if len(money_cols) > 0:\n",
    "    money_col = money_cols[0]  # pick the first detected monetary column\n",
    "    # Guard: use original df (df) or df_fe if money col preserved\n",
    "    if money_col in df_fe.columns:\n",
    "        cluster_summary['avg_money'] = df_fe.groupby('cluster')[money_col].mean().values\n",
    "    elif money_col in df.columns:\n",
    "        cluster_summary['avg_money'] = df.groupby('cluster')[money_col].mean().values\n",
    "    else:\n",
    "        cluster_summary['avg_money'] = np.nan\n",
    "else:\n",
    "    cluster_summary['avg_money'] = np.nan\n",
    "\n",
    "# Calls per RPC (avoid div by zero)\n",
    "cluster_summary['calls_per_rpc'] = cluster_summary['rpc_rate'].apply(lambda r: (1.0/r) if (r>0) else np.nan)\n",
    "\n",
    "# Expected money per call = rpc_rate * avg_money\n",
    "cluster_summary['exp_money_per_call'] = cluster_summary['rpc_rate'] * cluster_summary['avg_money']\n",
    "\n",
    "# Sort clusters by rpc_rate desc and then expected money\n",
    "cluster_summary = cluster_summary.sort_values(by=['rpc_rate', 'exp_money_per_call'], ascending=False)\n",
    "cluster_summary\n"
   ]
  },
  {
   "cell_type": "markdown",
   "id": "25e5ac25",
   "metadata": {
    "vscode": {
     "languageId": "markdown"
    }
   },
   "source": [
    "### Interpretation rules (what to tell a recruiter)\n",
    "- Clusters with **higher `rpc_rate`** require fewer calls to get an RPC (calls_per_rpc small) — prioritize these for dialing if objective is to maximize RPC efficiency.\n",
    "- If you have a monetary objective (collections), prioritize clusters with high `exp_money_per_call` (expected money per dial).  \n",
    "- If a cluster has high RPC rate but low average money, compare ROI: `exp_money_per_call` shows tradeoff between hit rate and value.\n"
   ]
  },
  {
   "cell_type": "code",
   "execution_count": 135,
   "id": "0196c401",
   "metadata": {},
   "outputs": [
    {
     "name": "stdout",
     "output_type": "stream",
     "text": [
      "Top clusters by RPC rate:\n",
      "    cluster  n_calls  rpc_rate  calls_per_rpc\n",
      "0        0    13400  0.025672      38.953488\n",
      "2        2     2785  0.023698      42.196970\n",
      "1        1     3815  0.022280      44.882353\n",
      "\n",
      "Top clusters by expected money per call:\n",
      "    cluster  n_calls  rpc_rate  avg_money  exp_money_per_call\n",
      "0        0    13400  0.025672   3.905504            0.100261\n",
      "1        1     3815  0.022280   1.183085            0.026360\n",
      "2        2     2785  0.023698   1.102036            0.026116\n"
     ]
    }
   ],
   "source": [
    "# 12) Show top clusters recommended for dialing strategy\n",
    "top_rpc_clusters = cluster_summary.sort_values('rpc_rate', ascending=False).head(3)\n",
    "top_value_clusters = cluster_summary.sort_values('exp_money_per_call', ascending=False).head(3)\n",
    "\n",
    "print(\"Top clusters by RPC rate:\\n\", top_rpc_clusters[['cluster','n_calls','rpc_rate','calls_per_rpc']])\n",
    "print(\"\\nTop clusters by expected money per call:\\n\", top_value_clusters[['cluster','n_calls','rpc_rate','avg_money','exp_money_per_call']])\n"
   ]
  },
  {
   "cell_type": "markdown",
   "id": "fbae9eb1",
   "metadata": {},
   "source": [
    "## 13) Precision at k / Practical metric for dialing lists\n",
    "If you plan to dial the top N accounts by model probability, evaluate `precision@k` (how many RPCs among top k%) — simulates business use: call top 10% predicted accounts.\n"
   ]
  },
  {
   "cell_type": "code",
   "execution_count": 136,
   "id": "471732ee",
   "metadata": {},
   "outputs": [
    {
     "name": "stdout",
     "output_type": "stream",
     "text": [
      "Precision@1% = 0.0250\n",
      "Precision@5% = 0.0050\n",
      "Precision@10% = 0.0275\n",
      "Precision@20% = 0.0325\n"
     ]
    }
   ],
   "source": [
    "# precision@k for several k values\n",
    "def precision_at_k(y_true, y_scores, k):\n",
    "    # k is fraction: e.g., 0.1 for top 10%\n",
    "    assert 0 < k <= 1.0\n",
    "    n = len(y_true)\n",
    "    top_n = int(np.ceil(k * n))\n",
    "    order = np.argsort(y_scores)[::-1]\n",
    "    top_indices = order[:top_n]\n",
    "    return (y_true[top_indices].sum() / top_n)\n",
    "\n",
    "for k in [0.01, 0.05, 0.1, 0.2]:\n",
    "    pk = precision_at_k(y_test, y_proba, k)\n",
    "    print(f\"Precision@{int(k*100)}% = {pk:.4f}\")\n"
   ]
  },
  {
   "cell_type": "markdown",
   "id": "064e3fec",
   "metadata": {},
   "source": [
    "## 14) Save model artifact & pipeline for future use\n",
    "Save the fitted pipeline to disk so the Shiny app / Flask API or production job can load and use it for scoring.\n"
   ]
  },
  {
   "cell_type": "code",
   "execution_count": 137,
   "id": "436f9e33",
   "metadata": {},
   "outputs": [
    {
     "name": "stdout",
     "output_type": "stream",
     "text": [
      "Saved model pipeline to: c:\\Users\\DELL\\Desktop\\aftar-daftar\\notebooks\\models\\xgb_rpc_pipeline.joblib\n"
     ]
    }
   ],
   "source": [
    "MODEL_OUT = os.path.join(os.getcwd(), 'models')\n",
    "os.makedirs(MODEL_OUT, exist_ok=True)\n",
    "model_file = os.path.join(MODEL_OUT, 'xgb_rpc_pipeline.joblib')\n",
    "joblib.dump(grid.best_estimator_, model_file)\n",
    "print(\"Saved model pipeline to:\", model_file)\n"
   ]
  },
  {
   "cell_type": "markdown",
   "id": "11a360e5",
   "metadata": {},
   "source": [
    "## 15) Concluding statement :\n",
    "\n",
    "I trained an XGBoost classifier using the segmented inventory (cluster id included as a feature), tuning core hyperparameters with cross-validated grid search and evaluating test-set AUC. I extracted cluster-level business metrics — RPC rates, calls-per-RPC, and expected value per call — to recommend a prioritized dialing policy:\n",
    "\n",
    "- Use clusters with high RPC rate to achieve high dialing efficiency (fewer calls per contact).  \n",
    "- If collections/revenue matter, use expected money-per-call to balance hit rate vs value.  \n",
    "- The `cluster` feature helps the model capture segment-specific response patterns, improving prioritization compared to a one-size-fits-all model.\n",
    "\n",
    "\n"
   ]
  },
  {
   "cell_type": "markdown",
   "id": "6bb9ad0f",
   "metadata": {},
   "source": []
  },
  {
   "cell_type": "markdown",
   "id": "7631998b",
   "metadata": {},
   "source": []
  },
  {
   "cell_type": "markdown",
   "id": "54d55cb7",
   "metadata": {},
   "source": []
  }
 ],
 "metadata": {
  "kernelspec": {
   "display_name": "fresh_venv",
   "language": "python",
   "name": "python3"
  },
  "language_info": {
   "codemirror_mode": {
    "name": "ipython",
    "version": 3
   },
   "file_extension": ".py",
   "mimetype": "text/x-python",
   "name": "python",
   "nbconvert_exporter": "python",
   "pygments_lexer": "ipython3",
   "version": "3.11.9"
  }
 },
 "nbformat": 4,
 "nbformat_minor": 5
}
