{
 "cells": [
  {
   "cell_type": "markdown",
   "id": "74097e6e",
   "metadata": {
    "papermill": {
     "duration": 0.007518,
     "end_time": "2025-01-03T10:20:10.452452",
     "exception": false,
     "start_time": "2025-01-03T10:20:10.444934",
     "status": "completed"
    },
    "tags": []
   },
   "source": [
    "The companies are interested in answering two questions:\n",
    "\n",
    "- Would the campaign be successful?\n",
    "- If the campaign was successful, how much of that success could be attributed to the ads?\n",
    "With the second question in mind, we normally do an A/B test. The majority of the people will be exposed to ads (the experimental group). And a small portion of people (the control group) would instead see a Public Service Announcement (PSA) (or nothing) in the exact size and place the ad would normally be.\n",
    "\n",
    "The idea of the dataset is to analyze the groups, find if the ads were successful, how much the company can make from the ads, and if the difference between the groups is statistically significant."
   ]
  },
  {
   "cell_type": "markdown",
   "id": "f82ae1e8",
   "metadata": {
    "papermill": {
     "duration": 0.006598,
     "end_time": "2025-01-03T10:20:10.465753",
     "exception": false,
     "start_time": "2025-01-03T10:20:10.459155",
     "status": "completed"
    },
    "tags": []
   },
   "source": [
    "Data dictionary:\n",
    "\n",
    "- Index: Row index\n",
    "- user id: User ID (unique)\n",
    "- test group: If \"ad\" the person saw the advertisement, if \"psa\" they only saw the public service announcement\n",
    "- converted: If a person bought the product then True, else is False\n",
    "- total ads: Amount of ads seen by person\n",
    "- most ads day: Day that the person saw the biggest amount of ads\n",
    "- most ads hour: Hour of day that the person saw the biggest amount of ads"
   ]
  },
  {
   "cell_type": "code",
   "execution_count": null,
   "id": "de494418",
   "metadata": {
    "execution": {
     "iopub.execute_input": "2025-01-03T10:20:10.480492Z",
     "iopub.status.busy": "2025-01-03T10:20:10.480118Z",
     "iopub.status.idle": "2025-01-03T10:20:12.818516Z",
     "shell.execute_reply": "2025-01-03T10:20:12.817393Z"
    },
    "papermill": {
     "duration": 2.348301,
     "end_time": "2025-01-03T10:20:12.820764",
     "exception": false,
     "start_time": "2025-01-03T10:20:10.472463",
     "status": "completed"
    },
    "tags": []
   },
   "outputs": [],
   "source": [
    "import numpy as np\n",
    "import pandas as pd\n",
    "import matplotlib.pyplot as plt\n",
    "import seaborn as sns\n",
    "import statsmodels.stats.api as sms\n",
    "from statsmodels.stats.proportion import proportions_ztest\n",
    "from scipy.stats import norm\n",
    "import math\n",
    "\n",
    "import warnings\n",
    "warnings.filterwarnings('ignore')"
   ]
  },
  {
   "cell_type": "code",
   "execution_count": null,
   "id": "7181cd29",
   "metadata": {
    "execution": {
     "iopub.execute_input": "2025-01-03T10:20:12.836450Z",
     "iopub.status.busy": "2025-01-03T10:20:12.835842Z",
     "iopub.status.idle": "2025-01-03T10:20:13.614457Z",
     "shell.execute_reply": "2025-01-03T10:20:13.613294Z"
    },
    "papermill": {
     "duration": 0.788453,
     "end_time": "2025-01-03T10:20:13.616459",
     "exception": false,
     "start_time": "2025-01-03T10:20:12.828006",
     "status": "completed"
    },
    "tags": []
   },
   "outputs": [],
   "source": [
    "df = pd.read_csv('/kaggle/input/marketing-ab-testing/marketing_AB.csv', index_col=0)"
   ]
  },
  {
   "cell_type": "code",
   "execution_count": null,
   "id": "adefc6da",
   "metadata": {
    "execution": {
     "iopub.execute_input": "2025-01-03T10:20:13.631624Z",
     "iopub.status.busy": "2025-01-03T10:20:13.631184Z",
     "iopub.status.idle": "2025-01-03T10:20:13.647538Z",
     "shell.execute_reply": "2025-01-03T10:20:13.646414Z"
    },
    "papermill": {
     "duration": 0.026127,
     "end_time": "2025-01-03T10:20:13.649613",
     "exception": false,
     "start_time": "2025-01-03T10:20:13.623486",
     "status": "completed"
    },
    "tags": []
   },
   "outputs": [
    {
     "data": {
      "text/html": [
       "<div>\n",
       "<style scoped>\n",
       "    .dataframe tbody tr th:only-of-type {\n",
       "        vertical-align: middle;\n",
       "    }\n",
       "\n",
       "    .dataframe tbody tr th {\n",
       "        vertical-align: top;\n",
       "    }\n",
       "\n",
       "    .dataframe thead th {\n",
       "        text-align: right;\n",
       "    }\n",
       "</style>\n",
       "<table border=\"1\" class=\"dataframe\">\n",
       "  <thead>\n",
       "    <tr style=\"text-align: right;\">\n",
       "      <th></th>\n",
       "      <th>user id</th>\n",
       "      <th>test group</th>\n",
       "      <th>converted</th>\n",
       "      <th>total ads</th>\n",
       "      <th>most ads day</th>\n",
       "      <th>most ads hour</th>\n",
       "    </tr>\n",
       "  </thead>\n",
       "  <tbody>\n",
       "    <tr>\n",
       "      <th>0</th>\n",
       "      <td>1069124</td>\n",
       "      <td>ad</td>\n",
       "      <td>False</td>\n",
       "      <td>130</td>\n",
       "      <td>Monday</td>\n",
       "      <td>20</td>\n",
       "    </tr>\n",
       "    <tr>\n",
       "      <th>1</th>\n",
       "      <td>1119715</td>\n",
       "      <td>ad</td>\n",
       "      <td>False</td>\n",
       "      <td>93</td>\n",
       "      <td>Tuesday</td>\n",
       "      <td>22</td>\n",
       "    </tr>\n",
       "    <tr>\n",
       "      <th>2</th>\n",
       "      <td>1144181</td>\n",
       "      <td>ad</td>\n",
       "      <td>False</td>\n",
       "      <td>21</td>\n",
       "      <td>Tuesday</td>\n",
       "      <td>18</td>\n",
       "    </tr>\n",
       "    <tr>\n",
       "      <th>3</th>\n",
       "      <td>1435133</td>\n",
       "      <td>ad</td>\n",
       "      <td>False</td>\n",
       "      <td>355</td>\n",
       "      <td>Tuesday</td>\n",
       "      <td>10</td>\n",
       "    </tr>\n",
       "    <tr>\n",
       "      <th>4</th>\n",
       "      <td>1015700</td>\n",
       "      <td>ad</td>\n",
       "      <td>False</td>\n",
       "      <td>276</td>\n",
       "      <td>Friday</td>\n",
       "      <td>14</td>\n",
       "    </tr>\n",
       "  </tbody>\n",
       "</table>\n",
       "</div>"
      ],
      "text/plain": [
       "   user id test group  converted  total ads most ads day  most ads hour\n",
       "0  1069124         ad      False        130       Monday             20\n",
       "1  1119715         ad      False         93      Tuesday             22\n",
       "2  1144181         ad      False         21      Tuesday             18\n",
       "3  1435133         ad      False        355      Tuesday             10\n",
       "4  1015700         ad      False        276       Friday             14"
      ]
     },
     "execution_count": 3,
     "metadata": {},
     "output_type": "execute_result"
    }
   ],
   "source": [
    "df.head()"
   ]
  },
  {
   "cell_type": "markdown",
   "id": "2630fd29",
   "metadata": {
    "papermill": {
     "duration": 0.006819,
     "end_time": "2025-01-03T10:20:13.663515",
     "exception": false,
     "start_time": "2025-01-03T10:20:13.656696",
     "status": "completed"
    },
    "tags": []
   },
   "source": [
    "# EDA and Data Preprocessing"
   ]
  },
  {
   "cell_type": "code",
   "execution_count": null,
   "id": "d6bd2ee7",
   "metadata": {
    "execution": {
     "iopub.execute_input": "2025-01-03T10:20:13.678541Z",
     "iopub.status.busy": "2025-01-03T10:20:13.678136Z",
     "iopub.status.idle": "2025-01-03T10:20:13.758026Z",
     "shell.execute_reply": "2025-01-03T10:20:13.756856Z"
    },
    "papermill": {
     "duration": 0.089267,
     "end_time": "2025-01-03T10:20:13.759710",
     "exception": false,
     "start_time": "2025-01-03T10:20:13.670443",
     "status": "completed"
    },
    "tags": []
   },
   "outputs": [
    {
     "data": {
      "text/html": [
       "<div>\n",
       "<style scoped>\n",
       "    .dataframe tbody tr th:only-of-type {\n",
       "        vertical-align: middle;\n",
       "    }\n",
       "\n",
       "    .dataframe tbody tr th {\n",
       "        vertical-align: top;\n",
       "    }\n",
       "\n",
       "    .dataframe thead th {\n",
       "        text-align: right;\n",
       "    }\n",
       "</style>\n",
       "<table border=\"1\" class=\"dataframe\">\n",
       "  <thead>\n",
       "    <tr style=\"text-align: right;\">\n",
       "      <th></th>\n",
       "      <th>user id</th>\n",
       "      <th>total ads</th>\n",
       "      <th>most ads hour</th>\n",
       "    </tr>\n",
       "  </thead>\n",
       "  <tbody>\n",
       "    <tr>\n",
       "      <th>count</th>\n",
       "      <td>5.881010e+05</td>\n",
       "      <td>588101.000000</td>\n",
       "      <td>588101.000000</td>\n",
       "    </tr>\n",
       "    <tr>\n",
       "      <th>mean</th>\n",
       "      <td>1.310692e+06</td>\n",
       "      <td>24.820876</td>\n",
       "      <td>14.469061</td>\n",
       "    </tr>\n",
       "    <tr>\n",
       "      <th>std</th>\n",
       "      <td>2.022260e+05</td>\n",
       "      <td>43.715181</td>\n",
       "      <td>4.834634</td>\n",
       "    </tr>\n",
       "    <tr>\n",
       "      <th>min</th>\n",
       "      <td>9.000000e+05</td>\n",
       "      <td>1.000000</td>\n",
       "      <td>0.000000</td>\n",
       "    </tr>\n",
       "    <tr>\n",
       "      <th>25%</th>\n",
       "      <td>1.143190e+06</td>\n",
       "      <td>4.000000</td>\n",
       "      <td>11.000000</td>\n",
       "    </tr>\n",
       "    <tr>\n",
       "      <th>50%</th>\n",
       "      <td>1.313725e+06</td>\n",
       "      <td>13.000000</td>\n",
       "      <td>14.000000</td>\n",
       "    </tr>\n",
       "    <tr>\n",
       "      <th>75%</th>\n",
       "      <td>1.484088e+06</td>\n",
       "      <td>27.000000</td>\n",
       "      <td>18.000000</td>\n",
       "    </tr>\n",
       "    <tr>\n",
       "      <th>max</th>\n",
       "      <td>1.654483e+06</td>\n",
       "      <td>2065.000000</td>\n",
       "      <td>23.000000</td>\n",
       "    </tr>\n",
       "  </tbody>\n",
       "</table>\n",
       "</div>"
      ],
      "text/plain": [
       "            user id      total ads  most ads hour\n",
       "count  5.881010e+05  588101.000000  588101.000000\n",
       "mean   1.310692e+06      24.820876      14.469061\n",
       "std    2.022260e+05      43.715181       4.834634\n",
       "min    9.000000e+05       1.000000       0.000000\n",
       "25%    1.143190e+06       4.000000      11.000000\n",
       "50%    1.313725e+06      13.000000      14.000000\n",
       "75%    1.484088e+06      27.000000      18.000000\n",
       "max    1.654483e+06    2065.000000      23.000000"
      ]
     },
     "execution_count": 4,
     "metadata": {},
     "output_type": "execute_result"
    }
   ],
   "source": [
    "df.describe()"
   ]
  },
  {
   "cell_type": "code",
   "execution_count": null,
   "id": "35834425",
   "metadata": {
    "execution": {
     "iopub.execute_input": "2025-01-03T10:20:13.775766Z",
     "iopub.status.busy": "2025-01-03T10:20:13.775416Z",
     "iopub.status.idle": "2025-01-03T10:20:13.845773Z",
     "shell.execute_reply": "2025-01-03T10:20:13.844431Z"
    },
    "papermill": {
     "duration": 0.080752,
     "end_time": "2025-01-03T10:20:13.847963",
     "exception": false,
     "start_time": "2025-01-03T10:20:13.767211",
     "status": "completed"
    },
    "tags": []
   },
   "outputs": [
    {
     "name": "stdout",
     "output_type": "stream",
     "text": [
      "<class 'pandas.core.frame.DataFrame'>\n",
      "Index: 588101 entries, 0 to 588100\n",
      "Data columns (total 6 columns):\n",
      " #   Column         Non-Null Count   Dtype \n",
      "---  ------         --------------   ----- \n",
      " 0   user id        588101 non-null  int64 \n",
      " 1   test group     588101 non-null  object\n",
      " 2   converted      588101 non-null  bool  \n",
      " 3   total ads      588101 non-null  int64 \n",
      " 4   most ads day   588101 non-null  object\n",
      " 5   most ads hour  588101 non-null  int64 \n",
      "dtypes: bool(1), int64(3), object(2)\n",
      "memory usage: 27.5+ MB\n"
     ]
    }
   ],
   "source": [
    "df.info()"
   ]
  },
  {
   "cell_type": "markdown",
   "id": "40fa8a64",
   "metadata": {
    "papermill": {
     "duration": 0.006852,
     "end_time": "2025-01-03T10:20:13.862035",
     "exception": false,
     "start_time": "2025-01-03T10:20:13.855183",
     "status": "completed"
    },
    "tags": []
   },
   "source": [
    "## Missing Values Detection"
   ]
  },
  {
   "cell_type": "code",
   "execution_count": null,
   "id": "9ed9f88a",
   "metadata": {
    "execution": {
     "iopub.execute_input": "2025-01-03T10:20:13.877429Z",
     "iopub.status.busy": "2025-01-03T10:20:13.876975Z",
     "iopub.status.idle": "2025-01-03T10:20:13.940320Z",
     "shell.execute_reply": "2025-01-03T10:20:13.939188Z"
    },
    "papermill": {
     "duration": 0.073062,
     "end_time": "2025-01-03T10:20:13.942187",
     "exception": false,
     "start_time": "2025-01-03T10:20:13.869125",
     "status": "completed"
    },
    "tags": []
   },
   "outputs": [
    {
     "data": {
      "text/plain": [
       "user id          0\n",
       "test group       0\n",
       "converted        0\n",
       "total ads        0\n",
       "most ads day     0\n",
       "most ads hour    0\n",
       "dtype: int64"
      ]
     },
     "execution_count": 6,
     "metadata": {},
     "output_type": "execute_result"
    }
   ],
   "source": [
    "df.isna().sum()"
   ]
  },
  {
   "cell_type": "markdown",
   "id": "f30a66be",
   "metadata": {
    "papermill": {
     "duration": 0.007179,
     "end_time": "2025-01-03T10:20:13.957197",
     "exception": false,
     "start_time": "2025-01-03T10:20:13.950018",
     "status": "completed"
    },
    "tags": []
   },
   "source": [
    "## Outlier Detection"
   ]
  },
  {
   "cell_type": "code",
   "execution_count": null,
   "id": "a68362ba",
   "metadata": {
    "execution": {
     "iopub.execute_input": "2025-01-03T10:20:13.975594Z",
     "iopub.status.busy": "2025-01-03T10:20:13.975195Z",
     "iopub.status.idle": "2025-01-03T10:20:13.981090Z",
     "shell.execute_reply": "2025-01-03T10:20:13.980108Z"
    },
    "papermill": {
     "duration": 0.018198,
     "end_time": "2025-01-03T10:20:13.982921",
     "exception": false,
     "start_time": "2025-01-03T10:20:13.964723",
     "status": "completed"
    },
    "tags": []
   },
   "outputs": [],
   "source": [
    "def filter_outliers(data, whisker=1.5):\n",
    "    \"\"\"\n",
    "    Identifies outliers in a dataset using the IQR method.\n",
    "\n",
    "    Parameters:\n",
    "        data (pd.Series): A pandas Series containing numerical data.\n",
    "        whisker (float): The multiplier for the interquartile range (IQR). Default is 1.5.\n",
    "\n",
    "    Returns:\n",
    "        pd.Series: A boolean Series where True indicates an outlier.\n",
    "    \"\"\"\n",
    "    # Calculate the first and third quartiles\n",
    "    Q1 = data.quantile(0.25)  # 25th percentile\n",
    "    Q3 = data.quantile(0.75)  # 75th percentile\n",
    "\n",
    "    # Compute the interquartile range (IQR)\n",
    "    IQR = Q3 - Q1\n",
    "\n",
    "    # Define the lower and upper bounds for non-outliers\n",
    "    lower_bound = Q1 - whisker * IQR\n",
    "    upper_bound = Q3 + whisker * IQR\n",
    "\n",
    "    # Identify outliers\n",
    "    is_outlier = data[(data < lower_bound) | (data > upper_bound)]\n",
    "\n",
    "    return is_outlier"
   ]
  },
  {
   "cell_type": "code",
   "execution_count": null,
   "id": "f5baf288",
   "metadata": {
    "execution": {
     "iopub.execute_input": "2025-01-03T10:20:13.998913Z",
     "iopub.status.busy": "2025-01-03T10:20:13.998545Z",
     "iopub.status.idle": "2025-01-03T10:20:14.029641Z",
     "shell.execute_reply": "2025-01-03T10:20:14.028437Z"
    },
    "papermill": {
     "duration": 0.041184,
     "end_time": "2025-01-03T10:20:14.031814",
     "exception": false,
     "start_time": "2025-01-03T10:20:13.990630",
     "status": "completed"
    },
    "tags": []
   },
   "outputs": [
    {
     "name": "stdout",
     "output_type": "stream",
     "text": [
      "Total number of outliers : 52057\n",
      "Total number of recors   : 588101\n",
      "Percentage of outliers   : 8.85%\n"
     ]
    }
   ],
   "source": [
    "outliers = filter_outliers(df['total ads'])\n",
    "print(f\"Total number of outliers : {len(outliers)}\")\n",
    "print(f\"Total number of recors   : {len(df)}\")\n",
    "print(f\"Percentage of outliers   : {len(outliers)/len(df)*100:.2f}%\")"
   ]
  },
  {
   "cell_type": "code",
   "execution_count": null,
   "id": "32a56e68",
   "metadata": {
    "execution": {
     "iopub.execute_input": "2025-01-03T10:20:14.048186Z",
     "iopub.status.busy": "2025-01-03T10:20:14.047811Z",
     "iopub.status.idle": "2025-01-03T10:20:14.109800Z",
     "shell.execute_reply": "2025-01-03T10:20:14.108543Z"
    },
    "papermill": {
     "duration": 0.073077,
     "end_time": "2025-01-03T10:20:14.112292",
     "exception": false,
     "start_time": "2025-01-03T10:20:14.039215",
     "status": "completed"
    },
    "tags": []
   },
   "outputs": [
    {
     "name": "stdout",
     "output_type": "stream",
     "text": [
      "Overall average ads seen : 24.82 ads\n",
      "Without outliers average ads seen : 15.13 ads\n",
      "Overal conversion rate: 2.52%\n",
      "Without outliers conversion rate: 1.33%\n"
     ]
    }
   ],
   "source": [
    "# Separate the dataframe into two groups\n",
    "outliers_df = df[df.index.isin(outliers.index)]\n",
    "no_outliers_df = df[~df.index.isin(outliers.index)]\n",
    "\n",
    "# Calculate avg seen ads with/without outliers\n",
    "mean_ads_overall = df['total ads'].mean()\n",
    "mean_ads_without_outliers = no_outliers_df['total ads'].mean()\n",
    "print(f\"Overall average ads seen : {mean_ads_overall:.2f} ads\")\n",
    "print(f\"Without outliers average ads seen : {mean_ads_without_outliers:.2f} ads\")\n",
    "\n",
    "# Calculate conversion rate with/without outliers\n",
    "conversion_overall = (df['converted'] == True).mean() * 100\n",
    "conversion_without_outliers = (no_outliers_df['converted'] == True).mean() * 100\n",
    "print(f'Overal conversion rate: {conversion_overall:.2f}%')\n",
    "print(f'Without outliers conversion rate: {conversion_without_outliers:.2f}%')"
   ]
  },
  {
   "cell_type": "code",
   "execution_count": null,
   "id": "e40b0d0f",
   "metadata": {
    "execution": {
     "iopub.execute_input": "2025-01-03T10:20:14.129611Z",
     "iopub.status.busy": "2025-01-03T10:20:14.129171Z",
     "iopub.status.idle": "2025-01-03T10:20:14.141780Z",
     "shell.execute_reply": "2025-01-03T10:20:14.140583Z"
    },
    "papermill": {
     "duration": 0.023253,
     "end_time": "2025-01-03T10:20:14.143679",
     "exception": false,
     "start_time": "2025-01-03T10:20:14.120426",
     "status": "completed"
    },
    "tags": []
   },
   "outputs": [
    {
     "name": "stdout",
     "output_type": "stream",
     "text": [
      "Outliers Conversion Rate: 14.85 %\n",
      "Outliers average ads seen: 124.57\n"
     ]
    }
   ],
   "source": [
    "# Check the percent of converted users among outliers\n",
    "outliers_conversion = outliers_df['converted'].value_counts(normalize=True).mul(100).round(2).reset_index()\n",
    "print(f'Outliers Conversion Rate: {outliers_conversion.iloc[1,1]:.2f} %')\n",
    "\n",
    "# Check the average ads seen among outliers\n",
    "outliers_ads_seen = outliers_df['total ads'].mean()\n",
    "print(f\"Outliers average ads seen: {outliers_ads_seen:.2f}\")"
   ]
  },
  {
   "cell_type": "markdown",
   "id": "b9a86901",
   "metadata": {
    "papermill": {
     "duration": 0.006966,
     "end_time": "2025-01-03T10:20:14.158559",
     "exception": false,
     "start_time": "2025-01-03T10:20:14.151593",
     "status": "completed"
    },
    "tags": []
   },
   "source": [
    "- The conversion rate for outliers (14.85%) is disproportionately high compared to the overall conversion rate (2.52%) and the rate without outliers (1.33%).\n",
    "- The overall average ads seen (24.82) is significantly higher than the average without outliers (15.13). This indicates that outliers heavily skew the data.\n",
    "- Outliers have an average of 124.57 ads seen, much higher than the overall average. Their behavior (high conversion rate and ad views) is fundamentally different from the majority of the data.\n",
    "\n",
    "Based on the provided summary, outliers seem to significantly distort key metrics and we decide to proceed further analysis with <code>no_outliers_df</code>"
   ]
  },
  {
   "cell_type": "markdown",
   "id": "10c50e6f",
   "metadata": {
    "papermill": {
     "duration": 0.006882,
     "end_time": "2025-01-03T10:20:14.172766",
     "exception": false,
     "start_time": "2025-01-03T10:20:14.165884",
     "status": "completed"
    },
    "tags": []
   },
   "source": [
    "## Renaming Columns"
   ]
  },
  {
   "cell_type": "code",
   "execution_count": null,
   "id": "ee1017a2",
   "metadata": {
    "execution": {
     "iopub.execute_input": "2025-01-03T10:20:14.188621Z",
     "iopub.status.busy": "2025-01-03T10:20:14.188210Z",
     "iopub.status.idle": "2025-01-03T10:20:14.193640Z",
     "shell.execute_reply": "2025-01-03T10:20:14.192448Z"
    },
    "papermill": {
     "duration": 0.015464,
     "end_time": "2025-01-03T10:20:14.195576",
     "exception": false,
     "start_time": "2025-01-03T10:20:14.180112",
     "status": "completed"
    },
    "tags": []
   },
   "outputs": [],
   "source": [
    "no_outliers_df.rename(columns={\n",
    "    'user id': 'user_id',\n",
    "    'test group': 'test_group',\n",
    "    'total ads': 'total_ads',\n",
    "    'most ads day': 'most_ads_day',\n",
    "    'most ads hour': 'most_ads_hour'\n",
    "}, inplace=True)"
   ]
  },
  {
   "cell_type": "code",
   "execution_count": null,
   "id": "05c79fab",
   "metadata": {
    "execution": {
     "iopub.execute_input": "2025-01-03T10:20:14.211915Z",
     "iopub.status.busy": "2025-01-03T10:20:14.211559Z",
     "iopub.status.idle": "2025-01-03T10:20:14.218310Z",
     "shell.execute_reply": "2025-01-03T10:20:14.217333Z"
    },
    "papermill": {
     "duration": 0.016982,
     "end_time": "2025-01-03T10:20:14.220157",
     "exception": false,
     "start_time": "2025-01-03T10:20:14.203175",
     "status": "completed"
    },
    "tags": []
   },
   "outputs": [],
   "source": [
    "no_outliers_df['converted'] = no_outliers_df['converted'].astype('int')"
   ]
  },
  {
   "cell_type": "code",
   "execution_count": null,
   "id": "b54dbc59",
   "metadata": {
    "execution": {
     "iopub.execute_input": "2025-01-03T10:20:14.236457Z",
     "iopub.status.busy": "2025-01-03T10:20:14.236081Z",
     "iopub.status.idle": "2025-01-03T10:20:14.275876Z",
     "shell.execute_reply": "2025-01-03T10:20:14.274686Z"
    },
    "papermill": {
     "duration": 0.050101,
     "end_time": "2025-01-03T10:20:14.277858",
     "exception": false,
     "start_time": "2025-01-03T10:20:14.227757",
     "status": "completed"
    },
    "tags": []
   },
   "outputs": [],
   "source": [
    "ads_campaign = no_outliers_df.copy()"
   ]
  },
  {
   "cell_type": "code",
   "execution_count": null,
   "id": "d6707596",
   "metadata": {
    "execution": {
     "iopub.execute_input": "2025-01-03T10:20:14.293985Z",
     "iopub.status.busy": "2025-01-03T10:20:14.293611Z",
     "iopub.status.idle": "2025-01-03T10:20:14.299504Z",
     "shell.execute_reply": "2025-01-03T10:20:14.298365Z"
    },
    "papermill": {
     "duration": 0.015807,
     "end_time": "2025-01-03T10:20:14.301316",
     "exception": false,
     "start_time": "2025-01-03T10:20:14.285509",
     "status": "completed"
    },
    "tags": []
   },
   "outputs": [],
   "source": [
    "ads_campaign.reset_index(inplace=True)"
   ]
  },
  {
   "cell_type": "markdown",
   "id": "e29ea82b",
   "metadata": {
    "papermill": {
     "duration": 0.006881,
     "end_time": "2025-01-03T10:20:14.315691",
     "exception": false,
     "start_time": "2025-01-03T10:20:14.308810",
     "status": "completed"
    },
    "tags": []
   },
   "source": [
    "# Ads Campaign\n",
    "- Is there a statistically significant difference in conversion rates between ad and PSA groups?\n",
    "- What is the confidence interval for difference in conversion rates if it exists?\n",
    "- What is the effect size (how much better/worse did the ad group perform)?"
   ]
  },
  {
   "cell_type": "markdown",
   "id": "fa2b1f8d",
   "metadata": {
    "papermill": {
     "duration": 0.006961,
     "end_time": "2025-01-03T10:20:14.330539",
     "exception": false,
     "start_time": "2025-01-03T10:20:14.323578",
     "status": "completed"
    },
    "tags": []
   },
   "source": [
    "There are several significance test to assign difference in conversion between two groups (ads and psa). To address this question we need to formulate hypotheses as follows:"
   ]
  },
  {
   "cell_type": "markdown",
   "id": "b8d9e393",
   "metadata": {
    "papermill": {
     "duration": 0.007157,
     "end_time": "2025-01-03T10:20:14.344926",
     "exception": false,
     "start_time": "2025-01-03T10:20:14.337769",
     "status": "completed"
    },
    "tags": []
   },
   "source": [
    "## Hypothesis formulation\n",
    "\n",
    "**Null Hypothesis** $(H_0)$ : the conversion rate of ad group (experimental group) is equal to the conversion rate of PSA group (control group).\n",
    "\n",
    "**Alternative Hypothesis** $(H_1)$ :  The conversion rate in the ad group is higher than in the PSA group $(p_{ad} > p_{psa})$."
   ]
  },
  {
   "cell_type": "markdown",
   "id": "b59ba64a",
   "metadata": {
    "papermill": {
     "duration": 0.007208,
     "end_time": "2025-01-03T10:20:14.359661",
     "exception": false,
     "start_time": "2025-01-03T10:20:14.352453",
     "status": "completed"
    },
    "tags": []
   },
   "source": [
    "## Subject initialization\n",
    "A simple bar chart showing the total converted vs not-converted in each group can provide a clear comparison of customer engagement. "
   ]
  },
  {
   "cell_type": "code",
   "execution_count": null,
   "id": "af398f20",
   "metadata": {
    "execution": {
     "iopub.execute_input": "2025-01-03T10:20:14.376453Z",
     "iopub.status.busy": "2025-01-03T10:20:14.375935Z",
     "iopub.status.idle": "2025-01-03T10:20:15.078852Z",
     "shell.execute_reply": "2025-01-03T10:20:15.077813Z"
    },
    "papermill": {
     "duration": 0.713778,
     "end_time": "2025-01-03T10:20:15.080859",
     "exception": false,
     "start_time": "2025-01-03T10:20:14.367081",
     "status": "completed"
    },
    "tags": []
   },
   "outputs": [
    {
     "data": {
      "image/png": "[encoded data removed]",
      "text/plain": [
       "<Figure size 1000x600 with 1 Axes>"
      ]
     },
     "metadata": {},
     "output_type": "display_data"
    }
   ],
   "source": [
    "palette = {False: \"red\", True: \"green\"}\n",
    "group_counts = ads_campaign.groupby('test_group').size()\n",
    "plt.figure(figsize=(10,6))\n",
    "ax = sns.countplot(x='test_group', hue='converted', data=ads_campaign, palette=palette)\n",
    "plt.title('Converted Distribution in Ads (Experimental Group) and PSA (Control Group) ')\n",
    "plt.xlabel('Group')\n",
    "plt.legend(title='Click', labels=['No', 'Yes'])\n",
    "\n",
    "for bar in ax.patches:\n",
    "    group = 'ad' if bar.get_x() < 0.5 else 'psa'\n",
    "    total = group_counts.loc[group]\n",
    "    x = bar.get_x() + bar.get_width() / 2  # x-axis of bar\n",
    "    y = bar.get_height()                 \n",
    "    percentage = 100*y/total\n",
    "    ax.text(x, y + 0.5, f\"{percentage:.2f}%\", ha='center', va='bottom')  # text aboves bar"
   ]
  },
  {
   "cell_type": "markdown",
   "id": "7f565fd1",
   "metadata": {
    "papermill": {
     "duration": 0.007772,
     "end_time": "2025-01-03T10:20:15.096842",
     "exception": false,
     "start_time": "2025-01-03T10:20:15.089070",
     "status": "completed"
    },
    "tags": []
   },
   "source": [
    "Treatment Group Conversion rate: 1.34% \\\n",
    "Control Group Conversion rate: 1.06%"
   ]
  },
  {
   "cell_type": "markdown",
   "id": "21dd110e",
   "metadata": {
    "papermill": {
     "duration": 0.008068,
     "end_time": "2025-01-03T10:20:15.112990",
     "exception": false,
     "start_time": "2025-01-03T10:20:15.104922",
     "status": "completed"
    },
    "tags": []
   },
   "source": [
    "## Sample size check"
   ]
  },
  {
   "cell_type": "markdown",
   "id": "fe815020",
   "metadata": {
    "papermill": {
     "duration": 0.007754,
     "end_time": "2025-01-03T10:20:15.128850",
     "exception": false,
     "start_time": "2025-01-03T10:20:15.121096",
     "status": "completed"
    },
    "tags": []
   },
   "source": [
    "To perform the z-statistic test in the analysis of the difference in proportions, it is necessary to assume that the sampling distribution of the proportion approaches a normal distribution. Based on the Central Limit Theorem (CLT), this assumption can be met even though the population distribution is not normal, as long as the sample size is large enough. The requirements for a sufficient sample size are $n_1.p_1\\geq5, n_1.(1-p_1) \\geq 5, n_2.p_2 \\geq5$, and $n_2.(1-p_2)\\geq5$ \\\n",
    "where, \\\n",
    "$n_1, n_2$ = sample sizes of groups 1 and 2, \\\n",
    "$p_1,p_2$  = sample proportions of groups 1 and 2"
   ]
  },
  {
   "cell_type": "code",
   "execution_count": null,
   "id": "541d06ad",
   "metadata": {
    "execution": {
     "iopub.execute_input": "2025-01-03T10:20:15.146445Z",
     "iopub.status.busy": "2025-01-03T10:20:15.146043Z",
     "iopub.status.idle": "2025-01-03T10:20:15.152693Z",
     "shell.execute_reply": "2025-01-03T10:20:15.151509Z"
    },
    "papermill": {
     "duration": 0.017521,
     "end_time": "2025-01-03T10:20:15.154412",
     "exception": false,
     "start_time": "2025-01-03T10:20:15.136891",
     "status": "completed"
    },
    "tags": []
   },
   "outputs": [
    {
     "name": "stdout",
     "output_type": "stream",
     "text": [
      "Sample sizes are large enough for a Z-test.\n"
     ]
    }
   ],
   "source": [
    "# Calculate succsess proportion\n",
    "p1 = 0.0134\n",
    "p2 = 0.0106\n",
    "total_treatment = group_counts[0]\n",
    "total_control = group_counts[1]\n",
    "\n",
    "# Check wheter sample size is big enough for normal approximation\n",
    "def check_sample_size(n, p):\n",
    "    return (n * p >= 5) and (n * (1 - p) >= 5)\n",
    "\n",
    "# Treatment Group check\n",
    "treatment_check = check_sample_size(total_treatment, p1)\n",
    "\n",
    "# Control Group check\n",
    "control_check = check_sample_size(total_control, p2)\n",
    "\n",
    "# Result\n",
    "if treatment_check and control_check:\n",
    "    print(\"Sample sizes are large enough for a Z-test.\")\n",
    "else:\n",
    "    print(\"Sample sizes are too small; consider using an exact test (e.g., Fisher's exact test).\")\n"
   ]
  },
  {
   "cell_type": "markdown",
   "id": "d2c2bb39",
   "metadata": {
    "papermill": {
     "duration": 0.00763,
     "end_time": "2025-01-03T10:20:15.170158",
     "exception": false,
     "start_time": "2025-01-03T10:20:15.162528",
     "status": "completed"
    },
    "tags": []
   },
   "source": [
    "## Conducting a Two-Proportion Z-test"
   ]
  },
  {
   "cell_type": "code",
   "execution_count": null,
   "id": "b3f16fde",
   "metadata": {
    "execution": {
     "iopub.execute_input": "2025-01-03T10:20:15.187744Z",
     "iopub.status.busy": "2025-01-03T10:20:15.187387Z",
     "iopub.status.idle": "2025-01-03T10:20:15.244381Z",
     "shell.execute_reply": "2025-01-03T10:20:15.243173Z"
    },
    "papermill": {
     "duration": 0.068033,
     "end_time": "2025-01-03T10:20:15.246332",
     "exception": false,
     "start_time": "2025-01-03T10:20:15.178299",
     "status": "completed"
    },
    "tags": []
   },
   "outputs": [
    {
     "name": "stdout",
     "output_type": "stream",
     "text": [
      "Reject the Null Hypothesis\n"
     ]
    }
   ],
   "source": [
    "outcome_group_counts = ads_campaign.groupby(['test_group','converted']).size().reset_index(name='count')\n",
    "treatment_group = outcome_group_counts[outcome_group_counts['test_group'] == 'ad']\n",
    "control_group = outcome_group_counts[outcome_group_counts['test_group'] == 'psa']\n",
    "\n",
    "# Count successes (conversions)\n",
    "successes = [\n",
    "    treatment_group.loc[treatment_group[\"converted\"] == 1, \"count\"].values[0],    # number of conversions in ad group\n",
    "    control_group.loc[control_group[\"converted\"] == 1, \"count\"].values[0]    # number of conversions in psa group\n",
    "]\n",
    "\n",
    "# Get sample sizes\n",
    "nobs = [\n",
    "    sum(treatment_group['count']),    # total number in ad group\n",
    "    sum(control_group['count'])    # total number in psa group\n",
    "]\n",
    "\n",
    "# Calculate proportions\n",
    "z_value, p_value = proportions_ztest(count=successes, nobs=nobs, alternative='larger')\n",
    "if p_value < 0.05:\n",
    "    print(\"Reject the Null Hypothesis\")\n",
    "else:\n",
    "    print(\"Fail to reject the Null Hypothesis\")"
   ]
  },
  {
   "cell_type": "markdown",
   "id": "c8cee8cd",
   "metadata": {
    "papermill": {
     "duration": 0.00773,
     "end_time": "2025-01-03T10:20:15.262383",
     "exception": false,
     "start_time": "2025-01-03T10:20:15.254653",
     "status": "completed"
    },
    "tags": []
   },
   "source": [
    "There is statistical significance, indicating that the observed differences between the groups are unlikely to have occurred by chance alone. This suggests that the changes in the experimental group have a real effect compared to the control group. The 'ad' group demonstrates a notably higher conversion rate compared to the 'psa' group, indicating a statistically significant improvement from the ad campaign."
   ]
  },
  {
   "cell_type": "markdown",
   "id": "bea5222d",
   "metadata": {
    "papermill": {
     "duration": 0.007882,
     "end_time": "2025-01-03T10:20:15.278348",
     "exception": false,
     "start_time": "2025-01-03T10:20:15.270466",
     "status": "completed"
    },
    "tags": []
   },
   "source": [
    "### Confidence interval for difference in conversion rate"
   ]
  },
  {
   "cell_type": "code",
   "execution_count": null,
   "id": "231729c4",
   "metadata": {
    "execution": {
     "iopub.execute_input": "2025-01-03T10:20:15.295715Z",
     "iopub.status.busy": "2025-01-03T10:20:15.295377Z",
     "iopub.status.idle": "2025-01-03T10:20:15.303510Z",
     "shell.execute_reply": "2025-01-03T10:20:15.302360Z"
    },
    "papermill": {
     "duration": 0.019013,
     "end_time": "2025-01-03T10:20:15.305433",
     "exception": false,
     "start_time": "2025-01-03T10:20:15.286420",
     "status": "completed"
    },
    "tags": []
   },
   "outputs": [
    {
     "name": "stdout",
     "output_type": "stream",
     "text": [
      "Proportion Difference: 0.0028\n",
      "95% Confidence Interval: (0.0014, 0.0042)\n"
     ]
    }
   ],
   "source": [
    "# Data\n",
    "success_group1 = successes[0] # Jumlah sukses di Grup 1\n",
    "total_group1 = nobs[0]   # Total sampel di Grup 1\n",
    "\n",
    "success_group2 = successes[1]  # Jumlah sukses di Grup 2\n",
    "total_group2 = nobs[1]   # Total sampel di Grup 2\n",
    "\n",
    "# Proportion\n",
    "p1 = success_group1 / total_group1\n",
    "p2 = success_group2 / total_group2\n",
    "\n",
    "# Proportion difference\n",
    "prop_diff = p1 - p2\n",
    "\n",
    "# Pooled Standard Error\n",
    "se = np.sqrt((p1 * (1 - p1)) / total_group1 + (p2 * (1 - p2)) / total_group2)\n",
    "\n",
    "# Critical z-value for 95% CI\n",
    "z_critical = norm.ppf(0.975)\n",
    "\n",
    "# Confidence Interval\n",
    "ci_lower = prop_diff - z_critical * se\n",
    "ci_upper = prop_diff + z_critical * se\n",
    "\n",
    "# Output\n",
    "print(f\"Proportion Difference: {prop_diff:.4f}\")\n",
    "print(f\"95% Confidence Interval: ({ci_lower:.4f}, {ci_upper:.4f})\")\n"
   ]
  },
  {
   "cell_type": "markdown",
   "id": "57f6f129",
   "metadata": {
    "papermill": {
     "duration": 0.007857,
     "end_time": "2025-01-03T10:20:15.321706",
     "exception": false,
     "start_time": "2025-01-03T10:20:15.313849",
     "status": "completed"
    },
    "tags": []
   },
   "source": [
    "The confidence interval clearly shows a difference between the two groups, with the difference in conversion rate expected to be between 0.13% and 0.41% higher. Notably, the observed difference of 0.28% falls near the midpoint of the 95% confidence interval."
   ]
  },
  {
   "cell_type": "markdown",
   "id": "5e8c7c8c",
   "metadata": {
    "papermill": {
     "duration": 0.007985,
     "end_time": "2025-01-03T10:20:15.337851",
     "exception": false,
     "start_time": "2025-01-03T10:20:15.329866",
     "status": "completed"
    },
    "tags": []
   },
   "source": [
    "# Economic impact\n",
    "After the significance test, the difference between the experimental group and the control group is statistically significant. However, before expanding the campaign advertising, a thorough cost-benefit analysis should be conducted, with the possibility of looking for alternative advertising strategies. The cost-benefit analysis can check whether the increase in conversion can cover the campaign costs or can check whether there is an increase in net profit. To assess the economic impact, we will determine the additional revenue generated for every 1,000 users after implementing the ad campaign, assuming an average revenue of $250 per conversion."
   ]
  },
  {
   "cell_type": "code",
   "execution_count": null,
   "id": "ca656acf",
   "metadata": {
    "execution": {
     "iopub.execute_input": "2025-01-03T10:20:15.355448Z",
     "iopub.status.busy": "2025-01-03T10:20:15.355061Z",
     "iopub.status.idle": "2025-01-03T10:20:15.361634Z",
     "shell.execute_reply": "2025-01-03T10:20:15.360547Z"
    },
    "papermill": {
     "duration": 0.017498,
     "end_time": "2025-01-03T10:20:15.363411",
     "exception": false,
     "start_time": "2025-01-03T10:20:15.345913",
     "status": "completed"
    },
    "tags": []
   },
   "outputs": [
    {
     "name": "stdout",
     "output_type": "stream",
     "text": [
      "ADS revenue per 1K users :$334.60\n",
      "PSA revenue per 1K users :$264.91\n",
      "additional revenue per 1K users :$69.69\n"
     ]
    }
   ],
   "source": [
    "# Assume average revenue per conversion\n",
    "avg_roi_per_conv = 25\n",
    "\n",
    "# Calculate revenue for every 1000 users\n",
    "ads_revenue = 1000 * p1 * avg_roi_per_conv\n",
    "psa_revenue = 1000 * p2 * avg_roi_per_conv\n",
    "additional_revenue = ads_revenue - psa_revenue\n",
    "\n",
    "print(f'ADS revenue per 1K users :${ads_revenue:.2f}')\n",
    "print(f'PSA revenue per 1K users :${psa_revenue:.2f}')\n",
    "print(f'additional revenue per 1K users :${additional_revenue:.2f}')"
   ]
  },
  {
   "cell_type": "markdown",
   "id": "9770d15c",
   "metadata": {
    "papermill": {
     "duration": 0.008002,
     "end_time": "2025-01-03T10:20:15.380013",
     "exception": false,
     "start_time": "2025-01-03T10:20:15.372011",
     "status": "completed"
    },
    "tags": []
   },
   "source": [
    "The success of the ad campaign, reflected by an increase in revenue of $70 per 1000 users, ultimately depends on whether this additional revenue offsets the advertising costs. Based on the results of A/B testing and an economic analysis, the next step is to decide whether to continue with this ad campaign, revert to using PSAs, or explore alternative advertising strategies."
   ]
  }
 ],
 "metadata": {
  "kaggle": {
   "accelerator": "none",
   "dataSources": [
    {
     "datasetId": 1660669,
     "sourceId": 2724653,
     "sourceType": "datasetVersion"
    }
   ],
   "dockerImageVersionId": 30822,
   "isGpuEnabled": false,
   "isInternetEnabled": true,
   "language": "python",
   "sourceType": "notebook"
  },
  "kernelspec": {
   "display_name": "fresh_venv",
   "language": "python",
   "name": "python3"
  },
  "language_info": {
   "codemirror_mode": {
    "name": "ipython",
    "version": 3
   },
   "file_extension": ".py",
   "mimetype": "text/x-python",
   "name": "python",
   "nbconvert_exporter": "python",
   "pygments_lexer": "ipython3",
   "version": "3.11.9"
  },
  "papermill": {
   "default_parameters": {},
   "duration": 8.06266,
   "end_time": "2025-01-03T10:20:16.108388",
   "environment_variables": {},
   "exception": null,
   "input_path": "__notebook__.ipynb",
   "output_path": "__notebook__.ipynb",
   "parameters": {},
   "start_time": "2025-01-03T10:20:08.045728",
   "version": "2.6.0"
  }
 },
 "nbformat": 4,
 "nbformat_minor": 5
}
