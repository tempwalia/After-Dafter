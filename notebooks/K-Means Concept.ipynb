{
 "cells": [
  {
   "cell_type": "code",
   "execution_count": 21,
   "id": "f6d8fced",
   "metadata": {},
   "outputs": [],
   "source": [
    "\n",
    "import sys, os\n",
    "sys.path.insert(0, os.path.abspath(os.path.join(os.getcwd(), '..')))\n",
    "from scripts.utils import *\n",
    "from scripts.public_func import *\n",
    "import numpy as np\n",
    "import matplotlib.pyplot as plt\n",
    "\n",
    "\n",
    "%matplotlib inline"
   ]
  },
  {
   "cell_type": "markdown",
   "id": "25caec73",
   "metadata": {},
   "source": [
    "<a name=\"1\"></a>\n",
    "## 1 - Implementing K-means\n",
    "\n",
    "The K-means algorithm is a method to automatically cluster similar\n",
    "data points together. \n",
    "\n",
    "* Concretely, you are given a training set $\\{x^{(1)}, ..., x^{(m)}\\}$, and you want\n",
    "to group the data into a few cohesive “clusters”. \n",
    "\n",
    "\n",
    "* K-means is an iterative procedure that\n",
    "     * Starts by guessing the initial centroids, and then \n",
    "     * Refines this guess by \n",
    "         * Repeatedly assigning examples to their closest centroids, and then \n",
    "         * Recomputing the centroids based on the assignments.\n",
    "         \n",
    "\n",
    "* In pseudocode, the K-means algorithm is as follows:\n",
    "\n",
    "    ``` python\n",
    "    # Initialize centroids\n",
    "    # K is the number of clusters\n",
    "    centroids = kMeans_init_centroids(X, K)\n",
    "    \n",
    "    for iter in range(iterations):\n",
    "        # Cluster assignment step: \n",
    "        # Assign each data point to the closest centroid. \n",
    "        # idx[i] corresponds to the index of the centroid \n",
    "        # assigned to example i\n",
    "        idx = find_closest_centroids(X, centroids)\n",
    "\n",
    "        # Move centroid step: \n",
    "        # Compute means based on centroid assignments\n",
    "        centroids = compute_centroids(X, idx, K)\n",
    "    ```\n",
    "\n",
    "\n",
    "* The inner-loop of the algorithm repeatedly carries out two steps: \n",
    "    1. Assigning each training example $x^{(i)}$ to its closest centroid, and\n",
    "    2. Recomputing the mean of each centroid using the points assigned to it. \n",
    "    \n",
    "    \n",
    "* The $K$-means algorithm will always converge to some final set of means for the centroids. \n",
    "\n",
    "* However, the converged solution may not always be ideal and depends on the initial setting of the centroids.\n",
    "    * Therefore, in practice the K-means algorithm is usually run a few times with different random initializations. \n",
    "    * One way to choose between these different solutions from different random initializations is to choose the one with the lowest cost function value (distortion).\n",
    "\n",
    "You will implement the two phases of the K-means algorithm separately\n",
    "in the next sections. \n",
    "* You will start by completing `find_closest_centroid` and then proceed to complete `compute_centroids`."
   ]
  },
  {
   "cell_type": "markdown",
   "id": "2427d205",
   "metadata": {},
   "source": []
  },
  {
   "cell_type": "code",
   "execution_count": 23,
   "id": "f435e31c",
   "metadata": {},
   "outputs": [],
   "source": [
    "\n",
    "\n",
    "def find_closest_centroids(X, centroids):\n",
    "  # Set K\n",
    "    K = centroids.shape[0] \n",
    "    idx = np.zeros(X.shape[0], dtype=int)      \n",
    "    for i in range(X.shape[0]):\n",
    "        distance = [] \n",
    "        for j in range(centroids.shape[0]): \n",
    "            norm_ij = np.linalg.norm(X[i]-centroids[j]) \n",
    "            distance.append(norm_ij) \n",
    "            idx[i] = np.argmin(distance)\n",
    "           \n",
    "    return idx"
   ]
  },
  {
   "cell_type": "code",
   "execution_count": 10,
   "id": "95f57599",
   "metadata": {},
   "outputs": [],
   "source": [
    "X = np.load(\"../data/ex7_X.npy\")"
   ]
  },
  {
   "cell_type": "code",
   "execution_count": 11,
   "id": "ef07f320",
   "metadata": {},
   "outputs": [
    {
     "name": "stdout",
     "output_type": "stream",
     "text": [
      "(300, 2)\n"
     ]
    }
   ],
   "source": [
    "print(X.shape)"
   ]
  },
  {
   "cell_type": "code",
   "execution_count": null,
   "id": "ea73e7f8",
   "metadata": {},
   "outputs": [
    {
     "name": "stdout",
     "output_type": "stream",
     "text": [
      "First three elements in idx are: [0 2 1]\n"
     ]
    }
   ],
   "source": [
    "\n",
    "initial_centroids = np.array([[3,3], [6,2], [8,5]])\n",
    "idx = find_closest_centroids(X, initial_centroids)\n",
    "\n",
    "print(\"First three elements in idx are:\", idx[:3])\n",
    "\n",
    "find_closest_centroids_test(find_closest_centroids)"
   ]
  },
  {
   "cell_type": "markdown",
   "id": "788c5cb8",
   "metadata": {},
   "source": [
    "### 1.2 Computing centroid means\n",
    "\n",
    "Given assignments of every point to a centroid, the second phase of the\n",
    "algorithm recomputes, for each centroid, the mean of the points that\n",
    "were assigned to it.\n",
    "\n",
    "\n",
    "### Task 2\n",
    "\n",
    "Please complete the `compute_centroids` below to recompute the value for each centroid.\n",
    "\n",
    "Specifically, for every centroid $\\mu_k$ we set:\n",
    "$$\n",
    "\\mu_k \\;=\\; \\frac{1}{\\lvert C_k \\rvert} \\sum_{i \\in C_k} x^{(i)},\\qquad k \\in \\{0,\\dots,K-1\\}\n",
    "$$\n",
    "\n",
    "where:\n",
    "- $C_k$ is the set of examples assigned to centroid $k$,\n",
    "- $\\lvert C_k \\rvert$ is the number of examples in $C_k$.\n",
    "\n",
    "Concrete example: if two examples $x^{(3)}$ and $x^{(5)}$ are assigned to centroid $k=2$, then\n",
    "$$\n",
    "\\mu_2 \\;=\\; \\tfrac{1}{2}\\bigl(x^{(3)} + x^{(5)}\\bigr).\n",
    "$$\n",
    "\n",
    "Plain-text fallback (if math doesn’t render):\n",
    "- mu_k = (1 / |C_k|) * sum_{i in C_k} x^(i)\n",
    "- Example: mu_2 = (x^(3) + x^(5)) / 2"
   ]
  },
  {
   "cell_type": "code",
   "execution_count": 24,
   "id": "662740a5",
   "metadata": {},
   "outputs": [],
   "source": [
    "\n",
    "\n",
    "def compute_centroids(X, idx, K):  \n",
    "    m, n = X.shape    \n",
    "    centroids = np.zeros((K, n))     \n",
    "    for k in range (K):\n",
    "        points = X[idx == k] \n",
    "        centroids[k] = np.mean(points, axis = 0)    \n",
    "    return centroids"
   ]
  },
  {
   "cell_type": "code",
   "execution_count": 25,
   "id": "bf100789",
   "metadata": {},
   "outputs": [
    {
     "name": "stdout",
     "output_type": "stream",
     "text": [
      "The centroids are: [[2.42830111 3.15792418]\n",
      " [5.81350331 2.63365645]\n",
      " [7.11938687 3.6166844 ]]\n"
     ]
    }
   ],
   "source": [
    "K = 3\n",
    "centroids = compute_centroids(X, idx, K)\n",
    "\n",
    "print(\"The centroids are:\", centroids)\n",
    "compute_centroids_test(compute_centroids)"
   ]
  },
  {
   "cell_type": "code",
   "execution_count": null,
   "id": "509d2f56",
   "metadata": {},
   "outputs": [],
   "source": []
  }
 ],
 "metadata": {
  "kernelspec": {
   "display_name": "fresh_venv",
   "language": "python",
   "name": "python3"
  },
  "language_info": {
   "codemirror_mode": {
    "name": "ipython",
    "version": 3
   },
   "file_extension": ".py",
   "mimetype": "text/x-python",
   "name": "python",
   "nbconvert_exporter": "python",
   "pygments_lexer": "ipython3",
   "version": "3.11.9"
  }
 },
 "nbformat": 4,
 "nbformat_minor": 5
}
