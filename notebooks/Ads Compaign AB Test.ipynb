{
 "cells": [
  {
   "cell_type": "markdown",
   "id": "edef7194",
   "metadata": {},
   "source": [
    "# A compact A/B testing notebook — EDA + Core Tests\n",
    "\n",
    "This notebook contains a concise, practical workflow I used to evaluate a marketing A/B test. It focuses on the minimal, statistically sound steps needed to decide whether a campaign moved the primary KPI (conversion rate). I include brief notes and in-place interpretations to make the analysis easy to follow.\n",
    "\n",
    "**Assumptions**\n",
    "- Unit of analysis is the user. If your raw data has multiple events per user, aggregate first.\n",
    "- Expected columns: `user_id`, `test_group` (values `A` and `B`).\n",
    "\n",
    "---"
   ]
  },
  {
   "cell_type": "code",
   "execution_count": 1,
   "id": "45601a78",
   "metadata": {},
   "outputs": [],
   "source": [
    "# Imports and display settings\n",
    "import numpy as np\n",
    "import pandas as pd\n",
    "import matplotlib.pyplot as plt\n",
    "import seaborn as sns\n",
    "from scipy import stats\n",
    "import statsmodels.api as sm\n",
    "from statsmodels.stats import proportion as smp\n",
    "from statsmodels.stats.power import NormalIndPower\n",
    "from statsmodels.stats.proportion import proportion_effectsize\n",
    "\n",
    "pd.options.display.max_columns = 200\n",
    "sns.set(style='whitegrid')"
   ]
  },
  {
   "cell_type": "markdown",
   "id": "15ebba02",
   "metadata": {},
   "source": [
    "## 1) Load data \n",
    "\n"
   ]
  },
  {
   "cell_type": "code",
   "execution_count": 29,
   "id": "2b672b89",
   "metadata": {},
   "outputs": [
    {
     "name": "stdout",
     "output_type": "stream",
     "text": [
      "Loaded: ../data/marketing_AB.csv\n"
     ]
    },
    {
     "data": {
      "application/vnd.microsoft.datawrangler.viewer.v0+json": {
       "columns": [
        {
         "name": "index",
         "rawType": "int64",
         "type": "integer"
        },
        {
         "name": "user_id",
         "rawType": "int64",
         "type": "integer"
        },
        {
         "name": "test_group",
         "rawType": "object",
         "type": "string"
        },
        {
         "name": "converted",
         "rawType": "bool",
         "type": "boolean"
        },
        {
         "name": "total_ads",
         "rawType": "int64",
         "type": "integer"
        },
        {
         "name": "most_ads_day",
         "rawType": "object",
         "type": "string"
        },
        {
         "name": "most_ads_hour",
         "rawType": "int64",
         "type": "integer"
        }
       ],
       "ref": "598c4bb9-6594-441f-8b0b-c92b0c64695e",
       "rows": [
        [
         "0",
         "1069124",
         "ad",
         "False",
         "130",
         "Monday",
         "20"
        ],
        [
         "1",
         "1119715",
         "ad",
         "False",
         "93",
         "Tuesday",
         "22"
        ],
        [
         "2",
         "1144181",
         "ad",
         "False",
         "21",
         "Tuesday",
         "18"
        ],
        [
         "3",
         "1435133",
         "ad",
         "False",
         "355",
         "Tuesday",
         "10"
        ],
        [
         "4",
         "1015700",
         "ad",
         "False",
         "276",
         "Friday",
         "14"
        ]
       ],
       "shape": {
        "columns": 6,
        "rows": 5
       }
      },
      "text/html": [
       "<div>\n",
       "<style scoped>\n",
       "    .dataframe tbody tr th:only-of-type {\n",
       "        vertical-align: middle;\n",
       "    }\n",
       "\n",
       "    .dataframe tbody tr th {\n",
       "        vertical-align: top;\n",
       "    }\n",
       "\n",
       "    .dataframe thead th {\n",
       "        text-align: right;\n",
       "    }\n",
       "</style>\n",
       "<table border=\"1\" class=\"dataframe\">\n",
       "  <thead>\n",
       "    <tr style=\"text-align: right;\">\n",
       "      <th></th>\n",
       "      <th>user_id</th>\n",
       "      <th>test_group</th>\n",
       "      <th>converted</th>\n",
       "      <th>total_ads</th>\n",
       "      <th>most_ads_day</th>\n",
       "      <th>most_ads_hour</th>\n",
       "    </tr>\n",
       "  </thead>\n",
       "  <tbody>\n",
       "    <tr>\n",
       "      <th>0</th>\n",
       "      <td>1069124</td>\n",
       "      <td>ad</td>\n",
       "      <td>False</td>\n",
       "      <td>130</td>\n",
       "      <td>Monday</td>\n",
       "      <td>20</td>\n",
       "    </tr>\n",
       "    <tr>\n",
       "      <th>1</th>\n",
       "      <td>1119715</td>\n",
       "      <td>ad</td>\n",
       "      <td>False</td>\n",
       "      <td>93</td>\n",
       "      <td>Tuesday</td>\n",
       "      <td>22</td>\n",
       "    </tr>\n",
       "    <tr>\n",
       "      <th>2</th>\n",
       "      <td>1144181</td>\n",
       "      <td>ad</td>\n",
       "      <td>False</td>\n",
       "      <td>21</td>\n",
       "      <td>Tuesday</td>\n",
       "      <td>18</td>\n",
       "    </tr>\n",
       "    <tr>\n",
       "      <th>3</th>\n",
       "      <td>1435133</td>\n",
       "      <td>ad</td>\n",
       "      <td>False</td>\n",
       "      <td>355</td>\n",
       "      <td>Tuesday</td>\n",
       "      <td>10</td>\n",
       "    </tr>\n",
       "    <tr>\n",
       "      <th>4</th>\n",
       "      <td>1015700</td>\n",
       "      <td>ad</td>\n",
       "      <td>False</td>\n",
       "      <td>276</td>\n",
       "      <td>Friday</td>\n",
       "      <td>14</td>\n",
       "    </tr>\n",
       "  </tbody>\n",
       "</table>\n",
       "</div>"
      ],
      "text/plain": [
       "   user_id test_group  converted  total_ads most_ads_day  most_ads_hour\n",
       "0  1069124         ad      False        130       Monday             20\n",
       "1  1119715         ad      False         93      Tuesday             22\n",
       "2  1144181         ad      False         21      Tuesday             18\n",
       "3  1435133         ad      False        355      Tuesday             10\n",
       "4  1015700         ad      False        276       Friday             14"
      ]
     },
     "metadata": {},
     "output_type": "display_data"
    }
   ],
   "source": [
    "DATA_PATH = '../data/marketing_AB.csv'  \n",
    "df_orgnl = pd.read_csv(DATA_PATH)\n",
    "print('Loaded:', DATA_PATH)\n",
    "display(df.head())"
   ]
  },
  {
   "cell_type": "markdown",
   "id": "e56126ef",
   "metadata": {},
   "source": [
    "## 2) Preprocess & sanity checks\n",
    "\n",
    "Ensure a single row per user."
   ]
  },
  {
   "cell_type": "code",
   "execution_count": 30,
   "id": "b60fe035",
   "metadata": {},
   "outputs": [
    {
     "name": "stdout",
     "output_type": "stream",
     "text": [
      "          Unnamed: 0       user id      total ads  most ads hour\n",
      "count  588101.000000  5.881010e+05  588101.000000  588101.000000\n",
      "mean   294050.000000  1.310692e+06      24.820876      14.469061\n",
      "std    169770.279668  2.022260e+05      43.715181       4.834634\n",
      "min         0.000000  9.000000e+05       1.000000       0.000000\n",
      "25%    147025.000000  1.143190e+06       4.000000      11.000000\n",
      "50%    294050.000000  1.313725e+06      13.000000      14.000000\n",
      "75%    441075.000000  1.484088e+06      27.000000      18.000000\n",
      "max    588100.000000  1.654483e+06    2065.000000      23.000000\n",
      "<class 'pandas.core.frame.DataFrame'>\n",
      "RangeIndex: 588101 entries, 0 to 588100\n",
      "Data columns (total 7 columns):\n",
      " #   Column         Non-Null Count   Dtype \n",
      "---  ------         --------------   ----- \n",
      " 0   Unnamed: 0     588101 non-null  int64 \n",
      " 1   user id        588101 non-null  int64 \n",
      " 2   test group     588101 non-null  object\n",
      " 3   converted      588101 non-null  bool  \n",
      " 4   total ads      588101 non-null  int64 \n",
      " 5   most ads day   588101 non-null  object\n",
      " 6   most ads hour  588101 non-null  int64 \n",
      "dtypes: bool(1), int64(4), object(2)\n",
      "memory usage: 27.5+ MB\n",
      "None\n"
     ]
    }
   ],
   "source": [
    "df = df_orgnl\n",
    "print(df.describe())\n",
    "print(df.info())"
   ]
  },
  {
   "cell_type": "code",
   "execution_count": 31,
   "id": "6757647d",
   "metadata": {},
   "outputs": [
    {
     "name": "stdout",
     "output_type": "stream",
     "text": [
      "Unnamed: 0       0\n",
      "user id          0\n",
      "test group       0\n",
      "converted        0\n",
      "total ads        0\n",
      "most ads day     0\n",
      "most ads hour    0\n",
      "dtype: int64\n"
     ]
    }
   ],
   "source": [
    "#Missing values\n",
    "print( df.isnull().sum() )"
   ]
  },
  {
   "cell_type": "code",
   "execution_count": 35,
   "id": "33d0fa7f",
   "metadata": {},
   "outputs": [],
   "source": [
    "df.drop([\"Unnamed: 0\"], axis=1, inplace=True)\n",
    "# Rename columns for easier access\n",
    "df.rename(columns ={\n",
    "    'user id':'user_id',\n",
    "    'test group':'test_group',\n",
    "    'total ads':'total_ads',\n",
    "    'most ads day':'most_ads_day',\n",
    "    'most ads hour':'most_ads_hour'},inplace=True)"
   ]
  },
  {
   "cell_type": "code",
   "execution_count": null,
   "id": "82f0f134",
   "metadata": {},
   "outputs": [],
   "source": []
  },
  {
   "cell_type": "code",
   "execution_count": null,
   "id": "5d390b0e",
   "metadata": {},
   "outputs": [],
   "source": []
  },
  {
   "cell_type": "code",
   "execution_count": 36,
   "id": "b8afe3bb",
   "metadata": {},
   "outputs": [],
   "source": [
    "def filter_outliers(data , whisker =1.5):\n",
    "\n",
    "    #q1 and q3\n",
    "    Q1 = data.quantile(0.25) #25th percentile\n",
    "    Q3= data.quantile(0.57)  #75th percentile\n",
    "    IQR = Q3-Q1\n",
    "    lower_bound = Q1-whisker*IQR\n",
    "    upper_bound = Q3+whisker*IQR\n",
    "\n",
    "    is_outlier = data[(data< lower_bound) | (data > upper_bound)]\n",
    "\n",
    "    return is_outlier\n",
    "\n"
   ]
  },
  {
   "cell_type": "code",
   "execution_count": 37,
   "id": "d4acbf64",
   "metadata": {},
   "outputs": [
    {
     "name": "stdout",
     "output_type": "stream",
     "text": [
      " \t   Total no. of  outliers : 112495\n",
      "           Total no. of records : 588101\n",
      "           Percentage of outliers : 19.13%\n"
     ]
    }
   ],
   "source": [
    "outliers = filter_outliers(df['total_ads'])\n",
    "print(f\"\"\" \\t   Total no. of  outliers : {len(outliers)}\n",
    "           Total no. of records : {len(df)}\n",
    "           Percentage of outliers : {len(outliers) * 100/len(df) :.2f}%\"\"\")"
   ]
  },
  {
   "cell_type": "markdown",
   "id": "1c934817",
   "metadata": {},
   "source": [
    "\n",
    "\n",
    "## 2) Conversion summary and simple plots."
   ]
  },
  {
   "cell_type": "code",
   "execution_count": 18,
   "id": "695575e8",
   "metadata": {},
   "outputs": [
    {
     "name": "stdout",
     "output_type": "stream",
     "text": [
      "\n",
      "Total users: 588101\n"
     ]
    },
    {
     "data": {
      "application/vnd.microsoft.datawrangler.viewer.v0+json": {
       "columns": [
        {
         "name": "test_group",
         "rawType": "object",
         "type": "string"
        },
        {
         "name": "n_users",
         "rawType": "int64",
         "type": "integer"
        },
        {
         "name": "conversions",
         "rawType": "int64",
         "type": "integer"
        }
       ],
       "ref": "706922df-4555-40e1-91a3-9a0b5fec90ec",
       "rows": [
        [
         "ad",
         "564577",
         "14423"
        ],
        [
         "psa",
         "23524",
         "420"
        ]
       ],
       "shape": {
        "columns": 2,
        "rows": 2
       }
      },
      "text/html": [
       "<div>\n",
       "<style scoped>\n",
       "    .dataframe tbody tr th:only-of-type {\n",
       "        vertical-align: middle;\n",
       "    }\n",
       "\n",
       "    .dataframe tbody tr th {\n",
       "        vertical-align: top;\n",
       "    }\n",
       "\n",
       "    .dataframe thead th {\n",
       "        text-align: right;\n",
       "    }\n",
       "</style>\n",
       "<table border=\"1\" class=\"dataframe\">\n",
       "  <thead>\n",
       "    <tr style=\"text-align: right;\">\n",
       "      <th></th>\n",
       "      <th>n_users</th>\n",
       "      <th>conversions</th>\n",
       "    </tr>\n",
       "    <tr>\n",
       "      <th>test_group</th>\n",
       "      <th></th>\n",
       "      <th></th>\n",
       "    </tr>\n",
       "  </thead>\n",
       "  <tbody>\n",
       "    <tr>\n",
       "      <th>ad</th>\n",
       "      <td>564577</td>\n",
       "      <td>14423</td>\n",
       "    </tr>\n",
       "    <tr>\n",
       "      <th>psa</th>\n",
       "      <td>23524</td>\n",
       "      <td>420</td>\n",
       "    </tr>\n",
       "  </tbody>\n",
       "</table>\n",
       "</div>"
      ],
      "text/plain": [
       "            n_users  conversions\n",
       "test_group                      \n",
       "ad           564577        14423\n",
       "psa           23524          420"
      ]
     },
     "metadata": {},
     "output_type": "display_data"
    },
    {
     "name": "stdout",
     "output_type": "stream",
     "text": [
      "\n",
      "Missing values:\n"
     ]
    },
    {
     "data": {
      "application/vnd.microsoft.datawrangler.viewer.v0+json": {
       "columns": [
        {
         "name": "index",
         "rawType": "object",
         "type": "string"
        },
        {
         "name": "0",
         "rawType": "int64",
         "type": "integer"
        }
       ],
       "ref": "44332ac2-12d1-40aa-a20b-5d715027adc9",
       "rows": [
        [
         "user_id",
         "0"
        ],
        [
         "test_group",
         "0"
        ],
        [
         "converted",
         "0"
        ]
       ],
       "shape": {
        "columns": 1,
        "rows": 3
       }
      },
      "text/plain": [
       "user_id       0\n",
       "test_group    0\n",
       "converted     0\n",
       "dtype: int64"
      ]
     },
     "metadata": {},
     "output_type": "display_data"
    }
   ],
   "source": [
    "user_df = (df.groupby('user_id')\n",
    "                 .agg(test_group=('test_group','first'),\n",
    "                      converted=('converted','max'))\n",
    "                 .reset_index())\n",
    "if 'revenue' in df.columns:\n",
    "    rev = df.groupby('user_id').revenue.sum().reset_index()\n",
    "    user_df = user_df.merge(rev, on='user_id', how='left')\n",
    "\n",
    "print('\\nTotal users:', len(user_df))\n",
    "display(user_df.groupby('test_group').agg(n_users=('user_id','count'), conversions=('converted','sum')))\n",
    "print('\\nMissing values:')\n",
    "display(user_df.isna().sum())"
   ]
  },
  {
   "cell_type": "code",
   "execution_count": 19,
   "id": "eba02e85",
   "metadata": {},
   "outputs": [
    {
     "data": {
      "application/vnd.microsoft.datawrangler.viewer.v0+json": {
       "columns": [
        {
         "name": "test_group",
         "rawType": "object",
         "type": "string"
        },
        {
         "name": "conv_rate",
         "rawType": "float64",
         "type": "float"
        },
        {
         "name": "sum",
         "rawType": "int64",
         "type": "integer"
        },
        {
         "name": "count",
         "rawType": "int64",
         "type": "integer"
        }
       ],
       "ref": "e2054ed4-0db1-4ff7-9fa5-33006f3ee4e2",
       "rows": [
        [
         "ad",
         "0.025546559636683747",
         "14423",
         "564577"
        ],
        [
         "psa",
         "0.01785410644448223",
         "420",
         "23524"
        ]
       ],
       "shape": {
        "columns": 3,
        "rows": 2
       }
      },
      "text/html": [
       "<div>\n",
       "<style scoped>\n",
       "    .dataframe tbody tr th:only-of-type {\n",
       "        vertical-align: middle;\n",
       "    }\n",
       "\n",
       "    .dataframe tbody tr th {\n",
       "        vertical-align: top;\n",
       "    }\n",
       "\n",
       "    .dataframe thead th {\n",
       "        text-align: right;\n",
       "    }\n",
       "</style>\n",
       "<table border=\"1\" class=\"dataframe\">\n",
       "  <thead>\n",
       "    <tr style=\"text-align: right;\">\n",
       "      <th></th>\n",
       "      <th>conv_rate</th>\n",
       "      <th>sum</th>\n",
       "      <th>count</th>\n",
       "    </tr>\n",
       "    <tr>\n",
       "      <th>test_group</th>\n",
       "      <th></th>\n",
       "      <th></th>\n",
       "      <th></th>\n",
       "    </tr>\n",
       "  </thead>\n",
       "  <tbody>\n",
       "    <tr>\n",
       "      <th>ad</th>\n",
       "      <td>0.025547</td>\n",
       "      <td>14423</td>\n",
       "      <td>564577</td>\n",
       "    </tr>\n",
       "    <tr>\n",
       "      <th>psa</th>\n",
       "      <td>0.017854</td>\n",
       "      <td>420</td>\n",
       "      <td>23524</td>\n",
       "    </tr>\n",
       "  </tbody>\n",
       "</table>\n",
       "</div>"
      ],
      "text/plain": [
       "            conv_rate    sum   count\n",
       "test_group                          \n",
       "ad           0.025547  14423  564577\n",
       "psa          0.017854    420   23524"
      ]
     },
     "metadata": {},
     "output_type": "display_data"
    },
    {
     "data": {
      "image/png": "[encoded data removed]",
      "text/plain": [
       "<Figure size 600x400 with 1 Axes>"
      ]
     },
     "metadata": {},
     "output_type": "display_data"
    }
   ],
   "source": [
    "if not user_df.empty:\n",
    "    conv_by_group = user_df.groupby('test_group').converted.agg(['mean','sum','count']).rename(columns={'mean':'conv_rate'})\n",
    "    display(conv_by_group)\n",
    "\n",
    "    plt.figure(figsize=(6,4))\n",
    "    sns.barplot(x=conv_by_group.index, y=conv_by_group['conv_rate'].values)\n",
    "    plt.title('Conversion rate by test_group')\n",
    "    plt.ylabel('Conversion rate')\n",
    "    plt.xlabel('Group')\n",
    "    plt.ylim(0, conv_by_group['conv_rate'].max()*1.5)\n",
    "    plt.show()\n",
    "\n",
    "    if 'revenue' in user_df.columns:\n",
    "        plt.figure(figsize=(10,4))\n",
    "        sns.boxplot(x='test_group', y='revenue', data=user_df)\n",
    "        plt.title('Revenue per user by test_group')\n",
    "        plt.show()"
   ]
  },
  {
   "cell_type": "markdown",
   "id": "338ac1aa",
   "metadata": {},
   "source": [
    "## 4) Main test — two-proportion z-test (conversion rate)\n",
    "\n",
    "Purpose: test whether conversion rate differs between groups.\n",
    "\n",
    "##### Hypotheses and Definitions\n",
    "\n",
    "**Definitions:**\n",
    "- **p<sub>A</sub>** — True conversion rate (probability of conversion) for **Group A** (Control).\n",
    "- **p<sub>B</sub>** — True conversion rate for **Group B** (Treatment or Campaign group).\n",
    "- **H₀ (Null Hypothesis):** There is **no difference** between the two groups. Any observed difference is due to random chance.\n",
    "- **H₁ (Alternative Hypothesis):** There **is a difference** between the two groups — meaning the campaign had a real effect.\n",
    "\n",
    "**Formally:**\n",
    "\\[\n",
    "H_0 : p_A = p_B\n",
    "\\]\n",
    "\\[\n",
    "H_1 : p_A != p_B\n",
    "\\]\n",
    "\n",
    "**Interpretation:**\n",
    "- If **p-value < 0.05**, reject H₀ → the campaign had a statistically significant effect.\n",
    "- If **p-value ≥ 0.05**, fail to reject H₀ → no sufficient evidence of campaign impact.\n"
   ]
  },
  {
   "cell_type": "code",
   "execution_count": 38,
   "id": "6dd0d4d9",
   "metadata": {},
   "outputs": [
    {
     "data": {
      "application/vnd.microsoft.datawrangler.viewer.v0+json": {
       "columns": [
        {
         "name": "test_group",
         "rawType": "object",
         "type": "string"
        },
        {
         "name": "successes",
         "rawType": "int64",
         "type": "integer"
        },
        {
         "name": "n",
         "rawType": "int64",
         "type": "integer"
        }
       ],
       "ref": "56d4f753-3a54-4d0e-a9ec-d364765a4d51",
       "rows": [
        [
         "ad",
         "14423",
         "564577"
        ],
        [
         "psa",
         "420",
         "23524"
        ]
       ],
       "shape": {
        "columns": 2,
        "rows": 2
       }
      },
      "text/html": [
       "<div>\n",
       "<style scoped>\n",
       "    .dataframe tbody tr th:only-of-type {\n",
       "        vertical-align: middle;\n",
       "    }\n",
       "\n",
       "    .dataframe tbody tr th {\n",
       "        vertical-align: top;\n",
       "    }\n",
       "\n",
       "    .dataframe thead th {\n",
       "        text-align: right;\n",
       "    }\n",
       "</style>\n",
       "<table border=\"1\" class=\"dataframe\">\n",
       "  <thead>\n",
       "    <tr style=\"text-align: right;\">\n",
       "      <th></th>\n",
       "      <th>successes</th>\n",
       "      <th>n</th>\n",
       "    </tr>\n",
       "    <tr>\n",
       "      <th>test_group</th>\n",
       "      <th></th>\n",
       "      <th></th>\n",
       "    </tr>\n",
       "  </thead>\n",
       "  <tbody>\n",
       "    <tr>\n",
       "      <th>ad</th>\n",
       "      <td>14423</td>\n",
       "      <td>564577</td>\n",
       "    </tr>\n",
       "    <tr>\n",
       "      <th>psa</th>\n",
       "      <td>420</td>\n",
       "      <td>23524</td>\n",
       "    </tr>\n",
       "  </tbody>\n",
       "</table>\n",
       "</div>"
      ],
      "text/plain": [
       "            successes       n\n",
       "test_group                   \n",
       "ad              14423  564577\n",
       "psa               420   23524"
      ]
     },
     "metadata": {},
     "output_type": "display_data"
    },
    {
     "name": "stdout",
     "output_type": "stream",
     "text": [
      "p_A = 0.0255, p_B = 0.0179\n",
      "Difference (B - A) = -0.0077\n",
      "z = 7.370, p = 1.705e-13\n",
      "95% CI for difference = [-0.0094, -0.0060]\n",
      "\n",
      "Conclusion: Significant difference at alpha=0.05.\n"
     ]
    }
   ],
   "source": [
    "if not user_df.empty:\n",
    "    grouped = user_df.groupby('test_group').converted.agg(['sum','count']).rename(columns={'sum':'successes','count':'n'})\n",
    "    display(grouped)\n",
    "\n",
    "    successes = grouped['successes'].values\n",
    "    nobs = grouped['n'].values\n",
    "\n",
    "    z_stat, p_value = smp.proportions_ztest(successes, nobs, alternative='two-sided')\n",
    "\n",
    "    pA = successes[0]/nobs[0]\n",
    "    pB = successes[1]/nobs[1]\n",
    "    diff = pB - pA\n",
    "    se = np.sqrt(pA*(1-pA)/nobs[0] + pB*(1-pB)/nobs[1])\n",
    "    ci_low = diff - 1.96*se\n",
    "    ci_high = diff + 1.96*se\n",
    "\n",
    "    print(f\"p_A = {pA:.4f}, p_B = {pB:.4f}\")\n",
    "    print(f\"Difference (B - A) = {diff:.4f}\")\n",
    "    print(f\"z = {z_stat:.3f}, p = {p_value:.4g}\")\n",
    "    print(f\"95% CI for difference = [{ci_low:.4f}, {ci_high:.4f}]\")\n",
    "\n",
    "    if p_value < 0.05:\n",
    "        print('\\nConclusion: Significant difference at alpha=0.05.')\n",
    "    else:\n",
    "        print('\\nConclusion: No significant difference at alpha=0.05.')"
   ]
  },
  {
   "cell_type": "markdown",
   "id": "0e6663b4",
   "metadata": {},
   "source": [
    "## 5)  Effect Size — Measuring Business Impact\n",
    "\n",
    "**What we are doing:**  \n",
    "After finding a statistically significant difference, we calculate how **big** that difference is in practical terms.  \n",
    "This step measures the **absolute difference** and **relative lift** between the treatment (B) and control (A) groups.\n",
    "\n",
    "**Definitions:**\n",
    "- **Absolute Difference (diff)** — The direct difference in conversion rates between groups (pB - pA).  \n",
    "- **Relative Lift (%)** — The percentage improvement of Group B over Group A, showing how much the campaign increased conversions relative to the baseline.\n",
    "\n",
    "**Why it matters:**  \n",
    "Statistical significance alone doesn’t tell us if the improvement is **meaningful for the business**.  \n",
    "Effect size helps translate the result into actionable terms — e.g., a *2% absolute lift* might be statistically small but could still drive major revenue impact at scale.\n"
   ]
  },
  {
   "cell_type": "code",
   "execution_count": 22,
   "id": "09f4e930",
   "metadata": {},
   "outputs": [
    {
     "name": "stdout",
     "output_type": "stream",
     "text": [
      "Absolute difference: -0.0077\n",
      "Relative lift (B vs A): -30.11%\n"
     ]
    }
   ],
   "source": [
    "if not user_df.empty:\n",
    "    abs_diff = diff\n",
    "    pct_lift = (diff / pA) * 100 if pA != 0 else np.nan\n",
    "    print(f\"Absolute difference: {abs_diff:.4f}\")\n",
    "    print(f\"Relative lift (B vs A): {pct_lift:.2f}%\")"
   ]
  },
  {
   "cell_type": "code",
   "execution_count": 40,
   "id": "005d8f18",
   "metadata": {},
   "outputs": [
    {
     "data": {
      "text/plain": [
       "['user_id', 'test_group', 'converted']"
      ]
     },
     "execution_count": 40,
     "metadata": {},
     "output_type": "execute_result"
    }
   ],
   "source": [
    "user_df.columns.tolist()"
   ]
  },
  {
   "cell_type": "markdown",
   "id": "dc20d51a",
   "metadata": {},
   "source": [
    "### 6) Conversion Rate Comparison (Control vs Treatment)\n",
    "\n",
    "This section measures whether the experimental advertisement led to a different conversion rate compared to the control (PSA).\n",
    "\n",
    "Steps performed below:\n",
    "1. Group the dataset by `test_group` and calculate:\n",
    "   - total **successes** (number of conversions),\n",
    "   - total **n** (number of observations per group).\n",
    "2. Compute conversion rates for each group.\n",
    "3. Run a **two-proportion z-test** to test if the difference between conversion rates is statistically significant.\n",
    "\n",
    "The printed output includes:\n",
    "- conversion rates for the control (`psa`) and treatment (`ad`) groups, and  \n",
    "- the z-statistic and p-value from the test.\n",
    "\n",
    "**Interpretation:**\n",
    "If the p-value is less than 0.05, we reject the null hypothesis and conclude that the treatment (ad) produced a statistically significant difference in conversion rate compared to the control.\n"
   ]
  },
  {
   "cell_type": "code",
   "execution_count": null,
   "id": "551cd4c3",
   "metadata": {},
   "outputs": [
    {
     "data": {
      "application/vnd.microsoft.datawrangler.viewer.v0+json": {
       "columns": [
        {
         "name": "test_group",
         "rawType": "object",
         "type": "string"
        },
        {
         "name": "successes",
         "rawType": "int64",
         "type": "integer"
        },
        {
         "name": "n",
         "rawType": "int64",
         "type": "integer"
        }
       ],
       "ref": "15bba736-dffe-445d-9035-7324359e3582",
       "rows": [
        [
         "ad",
         "14423",
         "564577"
        ],
        [
         "psa",
         "420",
         "23524"
        ]
       ],
       "shape": {
        "columns": 2,
        "rows": 2
       }
      },
      "text/html": [
       "<div>\n",
       "<style scoped>\n",
       "    .dataframe tbody tr th:only-of-type {\n",
       "        vertical-align: middle;\n",
       "    }\n",
       "\n",
       "    .dataframe tbody tr th {\n",
       "        vertical-align: top;\n",
       "    }\n",
       "\n",
       "    .dataframe thead th {\n",
       "        text-align: right;\n",
       "    }\n",
       "</style>\n",
       "<table border=\"1\" class=\"dataframe\">\n",
       "  <thead>\n",
       "    <tr style=\"text-align: right;\">\n",
       "      <th></th>\n",
       "      <th>successes</th>\n",
       "      <th>n</th>\n",
       "    </tr>\n",
       "    <tr>\n",
       "      <th>test_group</th>\n",
       "      <th></th>\n",
       "      <th></th>\n",
       "    </tr>\n",
       "  </thead>\n",
       "  <tbody>\n",
       "    <tr>\n",
       "      <th>ad</th>\n",
       "      <td>14423</td>\n",
       "      <td>564577</td>\n",
       "    </tr>\n",
       "    <tr>\n",
       "      <th>psa</th>\n",
       "      <td>420</td>\n",
       "      <td>23524</td>\n",
       "    </tr>\n",
       "  </tbody>\n",
       "</table>\n",
       "</div>"
      ],
      "text/plain": [
       "            successes       n\n",
       "test_group                   \n",
       "ad              14423  564577\n",
       "psa               420   23524"
      ]
     },
     "metadata": {},
     "output_type": "display_data"
    },
    {
     "name": "stdout",
     "output_type": "stream",
     "text": [
      "control (psa) rate = 0.0179, treat (ad) rate = 0.0255\n",
      "z = -7.3700781265454145 p = 1.7052807161559727e-13\n"
     ]
    }
   ],
   "source": [
    "grouped = user_df.groupby('test_group').converted.agg(['sum','count']).rename(columns={'sum':'successes','count':'n'})\n",
    "display(grouped)\n",
    "succ = grouped['successes']\n",
    "nobs = grouped['n']\n",
    "\n",
    "control_label, treat_label = 'psa', 'ad'\n",
    "successes = [int(grouped.loc[control_label,'successes']), int(grouped.loc[treat_label,'successes'])]\n",
    "nobs = [int(grouped.loc[control_label,'n']), int(grouped.loc[treat_label,'n'])]\n",
    "\n",
    "z_stat, p_value = smp.proportions_ztest(successes, nobs, alternative='two-sided')\n",
    "p_control = successes[0]/nobs[0]\n",
    "p_treat = successes[1]/nobs[1]\n",
    "print(f\"control ({control_label}) rate = {p_control:.4f}, treat ({treat_label}) rate = {p_treat:.4f}\")\n",
    "print(\"z =\", z_stat, \"p =\", p_value)\n"
   ]
  },
  {
   "cell_type": "markdown",
   "id": "75989b6e",
   "metadata": {},
   "source": [
    "### Power Analysis — Estimating Required Sample Size\n",
    "\n",
    "**What we are doing:**  \n",
    "This step calculates how many users are needed in each group (A and B) to reliably detect a minimum meaningful change in conversion rate — called the **Minimum Detectable Effect (MDE)**.  \n",
    "Here, we assume an MDE of `0.01` (i.e., a 1% absolute difference in conversion rate).\n",
    "\n",
    "**Purpose and significance:**  \n",
    "Power analysis helps determine whether the experiment had a **large enough sample** to detect a real effect if it exists.  \n",
    "- **p₀** = baseline conversion rate (Group A).  \n",
    "- **p₁** = expected conversion rate if the campaign improves conversions by the MDE.  \n",
    "- **Power (1 - β)** = 0.8 → means an 80% chance of detecting the effect if it’s truly there.  \n",
    "- **α (significance level)** = 0.05 → 5% chance of a false positive.\n",
    "\n",
    "If the **required sample size** is **larger than what we collected**, the test may be **underpowered**, meaning a non-significant result might be due to too little data rather than no effect.\n"
   ]
  },
  {
   "cell_type": "code",
   "execution_count": 58,
   "id": "477ba10a",
   "metadata": {},
   "outputs": [
    {
     "name": "stdout",
     "output_type": "stream",
     "text": [
      "Required n per group to detect MDE=0.01 at 80% power: 4618\n"
     ]
    }
   ],
   "source": [
    "if not user_df.empty:\n",
    "    p0 = pA\n",
    "    mde = 0.01  \n",
    "    p1 = p0 + mde\n",
    "    effect = proportion_effectsize(p1, p0)\n",
    "    power_analysis = NormalIndPower()\n",
    "    try:\n",
    "        required_n = power_analysis.solve_power(effect_size=effect, power=0.8, alpha=0.05, ratio=1)\n",
    "        print(f\"Required n per group to detect MDE={mde} at 80% power: {int(np.ceil(required_n))}\")\n",
    "    except Exception as e:\n",
    "        print(f'Could not compute required sample size {required_n}:', e)"
   ]
  },
  {
   "cell_type": "markdown",
   "id": "b772973b",
   "metadata": {},
   "source": [
    "### Interpretation of Power Analysis Result\n",
    "\n",
    "The analysis indicates that **4,618 users per group** are required to detect a **1% absolute change (MDE = 0.01)** in conversion rate with **80% statistical power** at a **5% significance level (α = 0.05)**.\n",
    "\n",
    "**Meaning:**\n",
    "- With 4,618 users in each group (control and treatment), there is an **80% chance** of detecting a true 1% difference in conversion rate if it actually exists.  \n",
    "- If the experiment has **fewer than 4,618 users per group**, it may be **underpowered**, meaning a real effect could go undetected (higher risk of a Type II error).  \n",
    "- If it has **more than 4,618 users per group**, the test is sufficiently powered or even conservative, increasing confidence in detecting meaningful effects.\n",
    "\n",
    "**In short:**  \n",
    "> The campaign experiment needs at least **≈9,236 total users** (4,618 per group) to reliably detect a 1% improvement in conversion rate.\n"
   ]
  },
  {
   "cell_type": "markdown",
   "id": "712b953f",
   "metadata": {},
   "source": [
    "### Conclusion\n",
    "\n",
    "The A/B test compared the performance of the new advertisement (**ad**) against the control public service announcement (**psa**) on user conversion rate.\n",
    "\n",
    "- **Conversion rate results:**  \n",
    "  - Control (psa): 2.55%  \n",
    "  - Treatment (ad): 1.79%  \n",
    "  - Absolute difference (B − A): −0.77%  \n",
    "  - Relative lift: −30.1%  \n",
    "\n",
    "- **Statistical test:**  \n",
    "  A two-proportion z-test returned **z = 7.37**, **p = 1.7 × 10⁻¹³**, with a **95% CI = [−0.0094, −0.0060]**, indicating a statistically significant difference at α = 0.05.  \n",
    "  Since the difference is negative, the campaign **reduced the conversion rate** relative to the control.\n",
    "\n",
    "- **Practical impact:**  \n",
    "  While statistically significant, the effect is *unfavorable* — the treatment ad underperformed the control group by roughly **0.77 percentage points**, a **30% relative decrease** in conversions.\n",
    "\n",
    "- **Power analysis:**  \n",
    "  The experiment would need approximately **4,618 users per group** to detect a 1% absolute change with 80% power at α = 0.05. The current sample exceeds this requirement, making the result reliable.\n",
    "\n",
    "- **Revenue test (if included):**  \n",
    "  The Welch t-test and bootstrap confidence interval did **not** reveal a statistically significant difference in mean revenue between groups, suggesting the campaign’s negative conversion impact did not translate into a compensating revenue benefit.\n",
    "\n",
    "**Overall:**  \n",
    "The advertisement (Group B) performed significantly worse than the control (Group A) in terms of conversions, with no meaningful gain in revenue.  \n",
    "Recommendation — retain the control creative and re-evaluate campaign content before rollout.\n"
   ]
  },
  {
   "cell_type": "markdown",
   "id": "584d3eaf",
   "metadata": {},
   "source": []
  }
 ],
 "metadata": {
  "kernelspec": {
   "display_name": "fresh_venv",
   "language": "python",
   "name": "python3"
  },
  "language_info": {
   "codemirror_mode": {
    "name": "ipython",
    "version": 3
   },
   "file_extension": ".py",
   "mimetype": "text/x-python",
   "name": "python",
   "nbconvert_exporter": "python",
   "pygments_lexer": "ipython3",
   "version": "3.11.9"
  }
 },
 "nbformat": 4,
 "nbformat_minor": 5
}
