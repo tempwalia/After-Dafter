{
 "cells": [
  {
   "cell_type": "markdown",
   "id": "5bedcb8c",
   "metadata": {},
   "source": [
    "# XGBoost RPC — Report Template\n",
    "\n",
    "This notebook is a parameterized template for training an XGBoost classifier to predict RPC (or rpc_label) from the dataset.\n",
    "It includes data description, preprocessing, training, evaluation and feature importance. Run with papermill to produce an HTML report.\n",
    "\n",
    "Note: This notebook is using the fresh_venv Python environment."
   ]
  },
  {
   "cell_type": "code",
   "execution_count": null,
   "id": "fd0f8838",
   "metadata": {},
   "outputs": [],
   "source": [
    "# Parameters\n",
    "import os\n",
    "from pathlib import Path\n",
    "\n",
    "workspace_root = Path(os.getcwd()).resolve()\n",
    "if workspace_root.name == 'notebooks':\n",
    "    workspace_root = workspace_root.parent\n",
    "\n",
    "data_path = '../data/synthetic_callcenter_accounts.csv'  # overridden by papermill\n",
    "out_dir = str(workspace_root / 'ml_models')\n",
    "test_size = 0.2\n",
    "random_state = 42\n",
    "\n",
    "print(f\"Output directory set to: {out_dir}\")"
   ]
  },
  {
   "cell_type": "code",
   "execution_count": null,
   "id": "941ccd0f",
   "metadata": {},
   "outputs": [],
   "source": [
    "# Imports\n",
    "import warnings\n",
    "warnings.filterwarnings('ignore', category=UserWarning, module='xgboost')\n",
    "\n",
    "import pandas as pd\n",
    "import numpy as np\n",
    "import matplotlib.pyplot as plt\n",
    "from sklearn.model_selection import train_test_split, GridSearchCV\n",
    "from sklearn.metrics import classification_report, roc_auc_score, confusion_matrix\n",
    "import xgboost as xgb\n",
    "from sklearn.preprocessing import OneHotEncoder\n",
    "%matplotlib inline"
   ]
  },
  {
   "cell_type": "code",
   "execution_count": null,
   "id": "8df9d23f",
   "metadata": {},
   "outputs": [],
   "source": [
    "# Load data and quick overview\n",
    "\n",
    "df = pd.read_csv(data_path)\n",
    "print('Data path:', data_path)\n",
    "print('Rows, columns:', df.shape)\n",
    "display(df.head())\n",
    "display(df.describe(include='all').T)"
   ]
  },
  {
   "cell_type": "markdown",
   "id": "5b6237fe",
   "metadata": {},
   "source": [
    "## Data description and ML context\n",
    "\n",
    "- This section clarifies the target (rpc_label or rpc) and features used.\n",
    "- XGBoost is a powerful gradient-boosted trees algorithm suited for tabular data with mixed feature types.\n",
    "- Proper preprocessing (handling missing, encoding categoricals, feature scaling if needed) is important."
   ]
  },
  {
   "cell_type": "code",
   "execution_count": null,
   "id": "735eeae0",
   "metadata": {},
   "outputs": [],
   "source": [
    "# Preprocessing (lightweight): ensure target exists and encode categorical features\n",
    "if 'rpc_label' in df.columns:\n",
    "    df['rpc_label'] = df['rpc_label'].astype(int)\n",
    "elif 'rpc' in df.columns:\n",
    "    df['rpc_label'] = df['rpc'].astype(int)\n",
    "else:\n",
    "    raise ValueError('No rpc_label or rpc target found in data for XGBoost.')\n",
    "\n",
    "# Fill numeric NAs with median\n",
    "num_cols = df.select_dtypes(include=[np.number]).columns.tolist()\n",
    "if 'rpc_label' in num_cols:\n",
    "    num_cols.remove('rpc_label')\n",
    "for c in num_cols:\n",
    "    df[c] = df[c].fillna(df[c].median())\n",
    "\n",
    "# Convert object columns to string and fillna\n",
    "cat_cols = df.select_dtypes(include=['object']).columns.tolist()\n",
    "for c in cat_cols:\n",
    "    df[c] = df[c].fillna('missing').astype(str)\n",
    "\n",
    "# One-hot encode small-cardinality categoricals for simplicity (can be improved)\n",
    "from sklearn.preprocessing import OneHotEncoder\n",
    "if len(cat_cols) > 0:\n",
    "    ohe = OneHotEncoder(handle_unknown='ignore', sparse_output=False)\n",
    "    X_cat = ohe.fit_transform(df[cat_cols])\n",
    "    cat_names = ohe.get_feature_names_out(cat_cols)\n",
    "    X_cat_df = pd.DataFrame(X_cat, columns=cat_names, index=df.index)\n",
    "    df = pd.concat([df.drop(columns=cat_cols), X_cat_df], axis=1)"
   ]
  },
  {
   "cell_type": "code",
   "execution_count": null,
   "id": "cb05a60d",
   "metadata": {},
   "outputs": [],
   "source": [
    "# Prepare X and y, split, and run a small grid search\n",
    "y = df['rpc_label']\n",
    "X = df.drop(columns=['rpc_label'])\n",
    "X_train, X_test, y_train, y_test = train_test_split(X, y, test_size=test_size, stratify=y, random_state=random_state)\n",
    "model = xgb.XGBClassifier(eval_metric='logloss')\n",
    "param_grid = {'n_estimators':[50,100], 'max_depth':[3,5], 'learning_rate':[0.05,0.1]}\n",
    "grid = GridSearchCV(model, param_grid, scoring='roc_auc', cv=3, n_jobs=1, verbose=0)  # Changed verbose from 1 to 0\n",
    "grid.fit(X_train, y_train)\n",
    "best = grid.best_estimator_\n",
    "y_proba = best.predict_proba(X_test)[:,1]\n",
    "auc = roc_auc_score(y_test, y_proba)\n",
    "y_pred = best.predict(X_test)\n",
    "print('Best params:', grid.best_params_)\n",
    "print('AUC:', auc)\n",
    "display(classification_report(y_test, y_pred))\n",
    "display(confusion_matrix(y_test, y_pred))"
   ]
  },
  {
   "cell_type": "code",
   "execution_count": null,
   "id": "5e1080da",
   "metadata": {},
   "outputs": [],
   "source": [
    "# Feature importance)\n",
    "fi = best.feature_importances_\n",
    "feat_names = X.columns\n",
    "fi_df = pd.DataFrame({'feature':feat_names, 'importance':fi}).sort_values('importance', ascending=False).head(20)\n",
    "plt.figure(figsize=(8,6))\n",
    "plt.barh(fi_df['feature'][::-1], fi_df['importance'][::-1])\n",
    "plt.title('Top features (approx)')\n",
    "plt.show()"
   ]
  },
  {
   "cell_type": "markdown",
   "id": "e8de005c",
   "metadata": {},
   "source": [
    "## Notes on model and importance\n",
    "\n",
    "- XGBoost is a gradient boosting ensemble of decision trees and typically performs very well on tabular data.\n",
    "- Pay attention to class imbalance, feature engineering, and proper CV when tuning.\n",
    "- For portfolio narrative: describe why certain features are important and how the model may be used in production (e.g., ranking, routing)."
   ]
  },
  {
   "cell_type": "markdown",
   "id": "51456587",
   "metadata": {},
   "source": [
    "## Generate HTML Report\n",
    "\n",
    "The following cell will generate an HTML report from this notebook and save it in the `ml_models` directory."
   ]
  },
  {
   "cell_type": "code",
   "execution_count": null,
   "id": "e039c69d",
   "metadata": {},
   "outputs": [],
   "source": [
    "# Generate HTML report\n",
    "import os\n",
    "import sys\n",
    "from pathlib import Path\n",
    "import nbformat\n",
    "from nbconvert import HTMLExporter\n",
    "from datetime import datetime\n",
    "import warnings\n",
    "\n",
    "try:\n",
    "    warnings.filterwarnings('ignore', category=UserWarning)\n",
    "    \n",
    "    notebook_name = 'xgboost_template.ipynb'\n",
    "    notebook_path = str(workspace_root/'notebooks'/notebook_name)\n",
    "    \n",
    "    print(f\"Found notebook at: {notebook_path}\")\n",
    "    print(f\"Output directory: {out_dir}\")\n",
    "    \n",
    "    os.makedirs(out_dir, exist_ok=True)\n",
    "    \n",
    "    with open(notebook_path, 'r', encoding='utf-8') as f:\n",
    "        current = nbformat.read(f, as_version=4)\n",
    "\n",
    "    html_exporter = HTMLExporter()\n",
    "    html_exporter.template_name = 'classic'\n",
    "    \n",
    "    body, _ = html_exporter.from_notebook_node(current)\n",
    "\n",
    "    output_file = os.path.join(out_dir, 'xgboost_report.html')\n",
    "    with open(output_file, 'w', encoding='utf-8') as f:\n",
    "        f.write(body)\n",
    "\n",
    "    print(f\"Report saved to: {output_file}\")\n",
    "except Exception as e:\n",
    "    print(f\"Current working directory: {os.getcwd()}\")\n",
    "    print(f\"Error: {str(e)}\")\n",
    "    \n",
    "    print(\"\\nDebug information:\")\n",
    "    print(f\"Workspace root: {workspace_root}\")\n",
    "    print(f\"Notebook path: {notebook_path}\")\n",
    "    print(f\"Output directory: {out_dir}\")"
   ]
  }
 ],
 "metadata": {
  "kernelspec": {
   "display_name": "fresh_venv",
   "language": "python",
   "name": "python3"
  },
  "language_info": {
   "codemirror_mode": {
    "name": "ipython",
    "version": 3
   },
   "file_extension": ".py",
   "mimetype": "text/x-python",
   "name": "python",
   "nbconvert_exporter": "python",
   "pygments_lexer": "ipython3",
   "version": "3.11.9"
  }
 },
 "nbformat": 4,
 "nbformat_minor": 5
}
