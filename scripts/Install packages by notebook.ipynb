{
 "cells": [
  {
   "cell_type": "code",
   "execution_count": 8,
   "id": "bcbe30bc",
   "metadata": {},
   "outputs": [
    {
     "name": "stdout",
     "output_type": "stream",
     "text": [
      "Error installing numpy>=1.21,<2.0: Command '['c:\\\\Users\\\\DELL\\\\Desktop\\\\aftar-daftar\\\\venv\\\\Scripts\\\\python.exe', '-m', 'pip', 'install', 'numpy>=1.21,<2.0']' returned non-zero exit status 2.\n",
      "Error installing pandas: Command '['c:\\\\Users\\\\DELL\\\\Desktop\\\\aftar-daftar\\\\venv\\\\Scripts\\\\python.exe', '-m', 'pip', 'install', 'pandas']' returned non-zero exit status 2.\n",
      "Error installing pandas: Command '['c:\\\\Users\\\\DELL\\\\Desktop\\\\aftar-daftar\\\\venv\\\\Scripts\\\\python.exe', '-m', 'pip', 'install', 'pandas']' returned non-zero exit status 2.\n",
      "Error installing matplotlib: Command '['c:\\\\Users\\\\DELL\\\\Desktop\\\\aftar-daftar\\\\venv\\\\Scripts\\\\python.exe', '-m', 'pip', 'install', 'matplotlib']' returned non-zero exit status 2.\n",
      "Error installing matplotlib: Command '['c:\\\\Users\\\\DELL\\\\Desktop\\\\aftar-daftar\\\\venv\\\\Scripts\\\\python.exe', '-m', 'pip', 'install', 'matplotlib']' returned non-zero exit status 2.\n",
      "Error installing scikit-learn: Command '['c:\\\\Users\\\\DELL\\\\Desktop\\\\aftar-daftar\\\\venv\\\\Scripts\\\\python.exe', '-m', 'pip', 'install', 'scikit-learn']' returned non-zero exit status 2.\n",
      "Error installing scikit-learn: Command '['c:\\\\Users\\\\DELL\\\\Desktop\\\\aftar-daftar\\\\venv\\\\Scripts\\\\python.exe', '-m', 'pip', 'install', 'scikit-learn']' returned non-zero exit status 2.\n",
      "Error installing xgboost: Command '['c:\\\\Users\\\\DELL\\\\Desktop\\\\aftar-daftar\\\\venv\\\\Scripts\\\\python.exe', '-m', 'pip', 'install', 'xgboost']' returned non-zero exit status 2.\n",
      "Error installing xgboost: Command '['c:\\\\Users\\\\DELL\\\\Desktop\\\\aftar-daftar\\\\venv\\\\Scripts\\\\python.exe', '-m', 'pip', 'install', 'xgboost']' returned non-zero exit status 2.\n",
      "Error installing seaborn: Command '['c:\\\\Users\\\\DELL\\\\Desktop\\\\aftar-daftar\\\\venv\\\\Scripts\\\\python.exe', '-m', 'pip', 'install', 'seaborn']' returned non-zero exit status 2.\n",
      "Error installing seaborn: Command '['c:\\\\Users\\\\DELL\\\\Desktop\\\\aftar-daftar\\\\venv\\\\Scripts\\\\python.exe', '-m', 'pip', 'install', 'seaborn']' returned non-zero exit status 2.\n",
      "Error installing flask>=2.0.0: Command '['c:\\\\Users\\\\DELL\\\\Desktop\\\\aftar-daftar\\\\venv\\\\Scripts\\\\python.exe', '-m', 'pip', 'install', 'flask>=2.0.0']' returned non-zero exit status 2.\n",
      "Error installing flask>=2.0.0: Command '['c:\\\\Users\\\\DELL\\\\Desktop\\\\aftar-daftar\\\\venv\\\\Scripts\\\\python.exe', '-m', 'pip', 'install', 'flask>=2.0.0']' returned non-zero exit status 2.\n",
      "Error installing flask-login>=0.6.3: Command '['c:\\\\Users\\\\DELL\\\\Desktop\\\\aftar-daftar\\\\venv\\\\Scripts\\\\python.exe', '-m', 'pip', 'install', 'flask-login>=0.6.3']' returned non-zero exit status 2.\n",
      "Error installing flask-login>=0.6.3: Command '['c:\\\\Users\\\\DELL\\\\Desktop\\\\aftar-daftar\\\\venv\\\\Scripts\\\\python.exe', '-m', 'pip', 'install', 'flask-login>=0.6.3']' returned non-zero exit status 2.\n"
     ]
    }
   ],
   "source": [
    "import subprocess\n",
    "import sys\n",
    "\n",
    "def install_base_dependencies():\n",
    "    packages = [\n",
    "        'numpy>=1.21,<2.0',  # Compatible with matplotlib\n",
    "        'pandas',\n",
    "        'matplotlib',\n",
    "        'scikit-learn',\n",
    "        'xgboost',\n",
    "        'seaborn',\n",
    "        'flask>=2.0.0',\n",
    "        'flask-login>=0.6.3'\n",
    "    ]\n",
    "    \n",
    "    for package in packages:\n",
    "        try:\n",
    "            subprocess.check_call([sys.executable, '-m', 'pip', 'install', package])\n",
    "            print(f\"Successfully installed {package}\")\n",
    "        except subprocess.CalledProcessError as e:\n",
    "            print(f\"Error installing {package}: {e}\")\n",
    "\n",
    "install_base_dependencies()"
   ]
  },
  {
   "cell_type": "code",
   "execution_count": null,
   "id": "adf420ea",
   "metadata": {},
   "outputs": [],
   "source": []
  },
  {
   "cell_type": "code",
   "execution_count": 9,
   "id": "6e18c258",
   "metadata": {},
   "outputs": [
    {
     "name": "stdout",
     "output_type": "stream",
     "text": [
      "Import error: No module named 'matplotlib'\n"
     ]
    }
   ],
   "source": [
    "try:\n",
    "    import numpy\n",
    "    import pandas\n",
    "    import matplotlib\n",
    "    import sklearn\n",
    "    import xgboost\n",
    "    import seaborn\n",
    "    import flask\n",
    "    import flask_login\n",
    "    \n",
    "    print(\"Successfully imported packages:\")\n",
    "    print(f\"numpy: {numpy.__version__}\")\n",
    "    print(f\"pandas: {pandas.__version__}\")\n",
    "    print(f\"matplotlib: {matplotlib.__version__}\")\n",
    "    print(f\"scikit-learn: {sklearn.__version__}\")\n",
    "    print(f\"xgboost: {xgboost.__version__}\")\n",
    "    print(f\"seaborn: {seaborn.__version__}\")\n",
    "    print(f\"flask: {flask.__version__}\")\n",
    "    print(f\"flask-login: {flask_login.__version__}\")\n",
    "    \n",
    "except ImportError as e:\n",
    "    print(f\"Import error: {e}\")"
   ]
  }
 ],
 "metadata": {
  "kernelspec": {
   "display_name": "venv",
   "language": "python",
   "name": "python3"
  },
  "language_info": {
   "codemirror_mode": {
    "name": "ipython",
    "version": 3
   },
   "file_extension": ".py",
   "mimetype": "text/x-python",
   "name": "python",
   "nbconvert_exporter": "python",
   "pygments_lexer": "ipython3",
   "version": "3.11.9"
  }
 },
 "nbformat": 4,
 "nbformat_minor": 5
}
